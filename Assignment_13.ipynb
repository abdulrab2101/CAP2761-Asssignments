{
    "metadata": {
        "kernelspec": {
            "name": "SQL",
            "display_name": "SQL",
            "language": "sql"
        },
        "language_info": {
            "name": "sql",
            "version": ""
        }
    },
    "nbformat_minor": 2,
    "nbformat": 4,
    "cells": [
        {
            "cell_type": "markdown",
            "source": [
                "### Question 1a: Concatenate Multiple Strings (CONCAT)"
            ],
            "metadata": {
                "azdata_cell_guid": "020f918b-a528-4017-8914-947a0232ac84"
            },
            "attachments": {}
        },
        {
            "cell_type": "code",
            "source": [
                "SELECT CONCAT(AddressLine1, ', ', City, ', FL, ', PostalCode) AS Address\r\n",
                "FROM Person.Address\r\n",
                "WHERE City = 'Miami';"
            ],
            "metadata": {
                "azdata_cell_guid": "c101d463-f351-4edf-93a8-a10a5b9447a6",
                "language": "sql"
            },
            "outputs": [
                {
                    "output_type": "display_data",
                    "data": {
                        "text/html": "(10 rows affected)"
                    },
                    "metadata": {}
                },
                {
                    "output_type": "display_data",
                    "data": {
                        "text/html": "Total execution time: 00:00:00.163"
                    },
                    "metadata": {}
                },
                {
                    "output_type": "execute_result",
                    "execution_count": 1,
                    "data": {
                        "application/vnd.dataresource+json": {
                            "schema": {
                                "fields": [
                                    {
                                        "name": "Address"
                                    }
                                ]
                            },
                            "data": [
                                {
                                    "Address": "1 Corporate Center Drive, Miami, FL, 33127"
                                },
                                {
                                    "Address": "20500 S.W. 2512th Ave, Miami, FL, 33127"
                                },
                                {
                                    "Address": "2545 N.W. 107th Ave., Miami, FL, 33127"
                                },
                                {
                                    "Address": "2561 Nw 8410th Avenue, Miami, FL, 33127"
                                },
                                {
                                    "Address": "79945 Corporate Center Drive, Miami, FL, 33127"
                                },
                                {
                                    "Address": "825 Coral Way, Miami, FL, 33127"
                                },
                                {
                                    "Address": "83995 South Dixie Highway, Miami, FL, 33127"
                                },
                                {
                                    "Address": "8525 Nw 17th St., Miami, FL, 33127"
                                },
                                {
                                    "Address": "Dadeland Mall, Space 25090, Miami, FL, 33127"
                                },
                                {
                                    "Address": "Flagler Park Plaza, Miami, FL, 33127"
                                }
                            ]
                        },
                        "text/html": "<table><tr><th>Address</th></tr><tr><td>1 Corporate Center Drive, Miami, FL, 33127</td></tr><tr><td>20500 S.W. 2512th Ave, Miami, FL, 33127</td></tr><tr><td>2545 N.W. 107th Ave., Miami, FL, 33127</td></tr><tr><td>2561 Nw 8410th Avenue, Miami, FL, 33127</td></tr><tr><td>79945 Corporate Center Drive, Miami, FL, 33127</td></tr><tr><td>825 Coral Way, Miami, FL, 33127</td></tr><tr><td>83995 South Dixie Highway, Miami, FL, 33127</td></tr><tr><td>8525 Nw 17th St., Miami, FL, 33127</td></tr><tr><td>Dadeland Mall, Space 25090, Miami, FL, 33127</td></tr><tr><td>Flagler Park Plaza, Miami, FL, 33127</td></tr></table>"
                    },
                    "metadata": {}
                }
            ],
            "execution_count": 1
        },
        {
            "cell_type": "markdown",
            "source": [
                "### Question 1b: ASCII Values\n",
                "\n",
                "**Explanation:**\n",
                "\n",
                "The ASCII function returns the ASCII code value of the leftmost character of a character expression. For example, `ASCII('A')` returns 65.\n",
                "\n",
                "The CHAR function converts an integer ASCII code to a character. For example, `CHAR(65)` returns 'A'.\n",
                "\n",
                "**Possible Reasons for Using These Functions:**\n",
                "\n",
                "- **ASCII**: To determine the numeric ASCII code of characters for data validation or to convert non-printable characters.\n",
                "- **CHAR**: To convert ASCII codes back into characters, useful for generating strings from numeric data or encoding special characters."
            ],
            "metadata": {
                "azdata_cell_guid": "a5aa02b0-e2f7-41fc-a8bd-bbb192229f1b"
            },
            "attachments": {}
        },
        {
            "cell_type": "markdown",
            "source": [
                "### Question 1c: Integer and Unicode Values\n",
                "\n",
                "**Explanation:**\n",
                "\n",
                "The UNICODE function returns the integer value, as defined by the Unicode standard, for the first character of the input expression. For example, `UNICODE('A')` returns 65.\n",
                "\n",
                "The NCHAR function returns the Unicode character that corresponds to the input integer value, as defined by the Unicode standard. For example, `NCHAR(65)` returns 'A'.\n",
                "\n",
                "**Possible Reasons for Using These Functions:**\n",
                "\n",
                "- **UNICODE**: To get the Unicode value of characters for applications dealing with internationalization.\n",
                "- **NCHAR**: To generate characters from Unicode values, useful in multilingual databases and applications."
            ],
            "metadata": {
                "azdata_cell_guid": "dca23cdc-3602-4c17-836a-1ff9a2776339"
            },
            "attachments": {}
        },
        {
            "cell_type": "markdown",
            "source": [
                "### Question 2a: Locate a Substring"
            ],
            "metadata": {
                "azdata_cell_guid": "1dd06ed4-8535-447c-b55c-5c8e5b644908"
            },
            "attachments": {}
        },
        {
            "cell_type": "code",
            "source": [
                "SELECT AddressLine1\r\n",
                "FROM Person.Address\r\n",
                "WHERE City = 'Miami' AND AddressLine1 LIKE '%Ave%';"
            ],
            "metadata": {
                "azdata_cell_guid": "cdb25e61-1409-4d28-97ac-10ef070f733a",
                "language": "sql"
            },
            "outputs": [
                {
                    "output_type": "display_data",
                    "data": {
                        "text/html": "(3 rows affected)"
                    },
                    "metadata": {}
                },
                {
                    "output_type": "display_data",
                    "data": {
                        "text/html": "Total execution time: 00:00:00.032"
                    },
                    "metadata": {}
                },
                {
                    "output_type": "execute_result",
                    "execution_count": 2,
                    "data": {
                        "application/vnd.dataresource+json": {
                            "schema": {
                                "fields": [
                                    {
                                        "name": "AddressLine1"
                                    }
                                ]
                            },
                            "data": [
                                {
                                    "AddressLine1": "20500 S.W. 2512th Ave"
                                },
                                {
                                    "AddressLine1": "2545 N.W. 107th Ave."
                                },
                                {
                                    "AddressLine1": "2561 Nw 8410th Avenue"
                                }
                            ]
                        },
                        "text/html": "<table><tr><th>AddressLine1</th></tr><tr><td>20500 S.W. 2512th Ave</td></tr><tr><td>2545 N.W. 107th Ave.</td></tr><tr><td>2561 Nw 8410th Avenue</td></tr></table>"
                    },
                    "metadata": {}
                }
            ],
            "execution_count": 2
        },
        {
            "cell_type": "markdown",
            "source": [
                "### Question 2b: Similarity of Strings"
            ],
            "metadata": {
                "language": "sql",
                "azdata_cell_guid": "fc1a463a-9c62-48c0-9fd6-639745b36f23"
            },
            "attachments": {}
        },
        {
            "cell_type": "code",
            "source": [
                "SELECT DISTINCT \r\n",
                "    SOUNDEX(City) AS CitySoundex, \r\n",
                "    SOUNDEX('Auburn') AS AuburnSoundex, \r\n",
                "    DIFFERENCE(City, 'Auburn') AS Difference, \r\n",
                "    City\r\n",
                "FROM Person.Address\r\n",
                "WHERE DIFFERENCE(City, 'Auburn') = 3;"
            ],
            "metadata": {
                "language": "sql",
                "azdata_cell_guid": "5acccfe3-ed39-40e6-b994-12961f9f1b81"
            },
            "outputs": [
                {
                    "output_type": "display_data",
                    "data": {
                        "text/html": "(10 rows affected)"
                    },
                    "metadata": {}
                },
                {
                    "output_type": "display_data",
                    "data": {
                        "text/html": "Total execution time: 00:00:00.042"
                    },
                    "metadata": {}
                },
                {
                    "output_type": "execute_result",
                    "execution_count": 3,
                    "data": {
                        "application/vnd.dataresource+json": {
                            "schema": {
                                "fields": [
                                    {
                                        "name": "CitySoundex"
                                    },
                                    {
                                        "name": "AuburnSoundex"
                                    },
                                    {
                                        "name": "Difference"
                                    },
                                    {
                                        "name": "City"
                                    }
                                ]
                            },
                            "data": [
                                {
                                    "CitySoundex": "A152",
                                    "AuburnSoundex": "A165",
                                    "Difference": "3",
                                    "City": "Abingdon"
                                },
                                {
                                    "CitySoundex": "A216",
                                    "AuburnSoundex": "A165",
                                    "Difference": "3",
                                    "City": "Augsburg"
                                },
                                {
                                    "CitySoundex": "A415",
                                    "AuburnSoundex": "A165",
                                    "Difference": "3",
                                    "City": "Albany"
                                },
                                {
                                    "CitySoundex": "A415",
                                    "AuburnSoundex": "A165",
                                    "Difference": "3",
                                    "City": "Alpine"
                                },
                                {
                                    "CitySoundex": "A645",
                                    "AuburnSoundex": "A165",
                                    "Difference": "3",
                                    "City": "Arlington"
                                },
                                {
                                    "CitySoundex": "A660",
                                    "AuburnSoundex": "A165",
                                    "Difference": "3",
                                    "City": "Aurora"
                                },
                                {
                                    "CitySoundex": "S165",
                                    "AuburnSoundex": "A165",
                                    "Difference": "3",
                                    "City": "Spring Valley"
                                },
                                {
                                    "CitySoundex": "S165",
                                    "AuburnSoundex": "A165",
                                    "Difference": "3",
                                    "City": "Springdale"
                                },
                                {
                                    "CitySoundex": "S165",
                                    "AuburnSoundex": "A165",
                                    "Difference": "3",
                                    "City": "Springfield"
                                },
                                {
                                    "CitySoundex": "S165",
                                    "AuburnSoundex": "A165",
                                    "Difference": "3",
                                    "City": "Springwood"
                                }
                            ]
                        },
                        "text/html": "<table><tr><th>CitySoundex</th><th>AuburnSoundex</th><th>Difference</th><th>City</th></tr><tr><td>A152</td><td>A165</td><td>3</td><td>Abingdon</td></tr><tr><td>A216</td><td>A165</td><td>3</td><td>Augsburg</td></tr><tr><td>A415</td><td>A165</td><td>3</td><td>Albany</td></tr><tr><td>A415</td><td>A165</td><td>3</td><td>Alpine</td></tr><tr><td>A645</td><td>A165</td><td>3</td><td>Arlington</td></tr><tr><td>A660</td><td>A165</td><td>3</td><td>Aurora</td></tr><tr><td>S165</td><td>A165</td><td>3</td><td>Spring Valley</td></tr><tr><td>S165</td><td>A165</td><td>3</td><td>Springdale</td></tr><tr><td>S165</td><td>A165</td><td>3</td><td>Springfield</td></tr><tr><td>S165</td><td>A165</td><td>3</td><td>Springwood</td></tr></table>"
                    },
                    "metadata": {}
                }
            ],
            "execution_count": 3
        },
        {
            "cell_type": "markdown",
            "source": [
                "### Question 3: Left-Most Portion of a String"
            ],
            "metadata": {
                "azdata_cell_guid": "8e8350ac-7809-4d98-9f52-3aa6768b62a6"
            },
            "attachments": {}
        },
        {
            "cell_type": "code",
            "source": [
                "SELECT ProductNumber, LEFT(ProductNumber, 2) AS LeftTwoCharacters\r\n",
                "FROM Production.Product;"
            ],
            "metadata": {
                "azdata_cell_guid": "781738be-6c6b-492a-861a-674919a7a764",
                "language": "sql"
            },
            "outputs": [
                {
                    "output_type": "display_data",
                    "data": {
                        "text/html": "(504 rows affected)"
                    },
                    "metadata": {}
                },
                {
                    "output_type": "display_data",
                    "data": {
                        "text/html": "Total execution time: 00:00:00.277"
                    },
                    "metadata": {}
                },
                {
                    "output_type": "execute_result",
                    "metadata": {},
                    "execution_count": 1,
                    "data": {
                        "application/vnd.dataresource+json": {
                            "schema": {
                                "fields": [
                                    {
                                        "name": "ProductNumber"
                                    },
                                    {
                                        "name": "LeftTwoCharacters"
                                    }
                                ]
                            },
                            "data": [
                                {
                                    "ProductNumber": "AR-5381",
                                    "LeftTwoCharacters": "AR"
                                },
                                {
                                    "ProductNumber": "BA-8327",
                                    "LeftTwoCharacters": "BA"
                                },
                                {
                                    "ProductNumber": "BB-7421",
                                    "LeftTwoCharacters": "BB"
                                },
                                {
                                    "ProductNumber": "BB-8107",
                                    "LeftTwoCharacters": "BB"
                                },
                                {
                                    "ProductNumber": "BB-9108",
                                    "LeftTwoCharacters": "BB"
                                },
                                {
                                    "ProductNumber": "BC-M005",
                                    "LeftTwoCharacters": "BC"
                                },
                                {
                                    "ProductNumber": "BC-R205",
                                    "LeftTwoCharacters": "BC"
                                },
                                {
                                    "ProductNumber": "BE-2349",
                                    "LeftTwoCharacters": "BE"
                                },
                                {
                                    "ProductNumber": "BE-2908",
                                    "LeftTwoCharacters": "BE"
                                },
                                {
                                    "ProductNumber": "BK-M18B-40",
                                    "LeftTwoCharacters": "BK"
                                },
                                {
                                    "ProductNumber": "BK-M18B-42",
                                    "LeftTwoCharacters": "BK"
                                },
                                {
                                    "ProductNumber": "BK-M18B-44",
                                    "LeftTwoCharacters": "BK"
                                },
                                {
                                    "ProductNumber": "BK-M18B-48",
                                    "LeftTwoCharacters": "BK"
                                },
                                {
                                    "ProductNumber": "BK-M18B-52",
                                    "LeftTwoCharacters": "BK"
                                },
                                {
                                    "ProductNumber": "BK-M18S-40",
                                    "LeftTwoCharacters": "BK"
                                },
                                {
                                    "ProductNumber": "BK-M18S-42",
                                    "LeftTwoCharacters": "BK"
                                },
                                {
                                    "ProductNumber": "BK-M18S-44",
                                    "LeftTwoCharacters": "BK"
                                },
                                {
                                    "ProductNumber": "BK-M18S-48",
                                    "LeftTwoCharacters": "BK"
                                },
                                {
                                    "ProductNumber": "BK-M18S-52",
                                    "LeftTwoCharacters": "BK"
                                },
                                {
                                    "ProductNumber": "BK-M38S-38",
                                    "LeftTwoCharacters": "BK"
                                },
                                {
                                    "ProductNumber": "BK-M38S-40",
                                    "LeftTwoCharacters": "BK"
                                },
                                {
                                    "ProductNumber": "BK-M38S-42",
                                    "LeftTwoCharacters": "BK"
                                },
                                {
                                    "ProductNumber": "BK-M38S-46",
                                    "LeftTwoCharacters": "BK"
                                },
                                {
                                    "ProductNumber": "BK-M47B-38",
                                    "LeftTwoCharacters": "BK"
                                },
                                {
                                    "ProductNumber": "BK-M47B-40",
                                    "LeftTwoCharacters": "BK"
                                },
                                {
                                    "ProductNumber": "BK-M47B-44",
                                    "LeftTwoCharacters": "BK"
                                },
                                {
                                    "ProductNumber": "BK-M47B-48",
                                    "LeftTwoCharacters": "BK"
                                },
                                {
                                    "ProductNumber": "BK-M68B-38",
                                    "LeftTwoCharacters": "BK"
                                },
                                {
                                    "ProductNumber": "BK-M68B-42",
                                    "LeftTwoCharacters": "BK"
                                },
                                {
                                    "ProductNumber": "BK-M68B-46",
                                    "LeftTwoCharacters": "BK"
                                },
                                {
                                    "ProductNumber": "BK-M68S-38",
                                    "LeftTwoCharacters": "BK"
                                },
                                {
                                    "ProductNumber": "BK-M68S-42",
                                    "LeftTwoCharacters": "BK"
                                },
                                {
                                    "ProductNumber": "BK-M68S-46",
                                    "LeftTwoCharacters": "BK"
                                },
                                {
                                    "ProductNumber": "BK-M82B-38",
                                    "LeftTwoCharacters": "BK"
                                },
                                {
                                    "ProductNumber": "BK-M82B-42",
                                    "LeftTwoCharacters": "BK"
                                },
                                {
                                    "ProductNumber": "BK-M82B-44",
                                    "LeftTwoCharacters": "BK"
                                },
                                {
                                    "ProductNumber": "BK-M82B-48",
                                    "LeftTwoCharacters": "BK"
                                },
                                {
                                    "ProductNumber": "BK-M82S-38",
                                    "LeftTwoCharacters": "BK"
                                },
                                {
                                    "ProductNumber": "BK-M82S-42",
                                    "LeftTwoCharacters": "BK"
                                },
                                {
                                    "ProductNumber": "BK-M82S-44",
                                    "LeftTwoCharacters": "BK"
                                },
                                {
                                    "ProductNumber": "BK-M82S-48",
                                    "LeftTwoCharacters": "BK"
                                },
                                {
                                    "ProductNumber": "BK-R19B-44",
                                    "LeftTwoCharacters": "BK"
                                },
                                {
                                    "ProductNumber": "BK-R19B-48",
                                    "LeftTwoCharacters": "BK"
                                },
                                {
                                    "ProductNumber": "BK-R19B-52",
                                    "LeftTwoCharacters": "BK"
                                },
                                {
                                    "ProductNumber": "BK-R19B-58",
                                    "LeftTwoCharacters": "BK"
                                },
                                {
                                    "ProductNumber": "BK-R50B-44",
                                    "LeftTwoCharacters": "BK"
                                },
                                {
                                    "ProductNumber": "BK-R50B-48",
                                    "LeftTwoCharacters": "BK"
                                },
                                {
                                    "ProductNumber": "BK-R50B-52",
                                    "LeftTwoCharacters": "BK"
                                },
                                {
                                    "ProductNumber": "BK-R50B-58",
                                    "LeftTwoCharacters": "BK"
                                },
                                {
                                    "ProductNumber": "BK-R50B-60",
                                    "LeftTwoCharacters": "BK"
                                },
                                {
                                    "ProductNumber": "BK-R50B-62",
                                    "LeftTwoCharacters": "BK"
                                },
                                {
                                    "ProductNumber": "BK-R50R-44",
                                    "LeftTwoCharacters": "BK"
                                },
                                {
                                    "ProductNumber": "BK-R50R-48",
                                    "LeftTwoCharacters": "BK"
                                },
                                {
                                    "ProductNumber": "BK-R50R-52",
                                    "LeftTwoCharacters": "BK"
                                },
                                {
                                    "ProductNumber": "BK-R50R-58",
                                    "LeftTwoCharacters": "BK"
                                },
                                {
                                    "ProductNumber": "BK-R50R-60",
                                    "LeftTwoCharacters": "BK"
                                },
                                {
                                    "ProductNumber": "BK-R50R-62",
                                    "LeftTwoCharacters": "BK"
                                },
                                {
                                    "ProductNumber": "BK-R64Y-38",
                                    "LeftTwoCharacters": "BK"
                                },
                                {
                                    "ProductNumber": "BK-R64Y-40",
                                    "LeftTwoCharacters": "BK"
                                },
                                {
                                    "ProductNumber": "BK-R64Y-42",
                                    "LeftTwoCharacters": "BK"
                                },
                                {
                                    "ProductNumber": "BK-R64Y-44",
                                    "LeftTwoCharacters": "BK"
                                },
                                {
                                    "ProductNumber": "BK-R64Y-48",
                                    "LeftTwoCharacters": "BK"
                                },
                                {
                                    "ProductNumber": "BK-R68R-44",
                                    "LeftTwoCharacters": "BK"
                                },
                                {
                                    "ProductNumber": "BK-R68R-48",
                                    "LeftTwoCharacters": "BK"
                                },
                                {
                                    "ProductNumber": "BK-R68R-52",
                                    "LeftTwoCharacters": "BK"
                                },
                                {
                                    "ProductNumber": "BK-R68R-58",
                                    "LeftTwoCharacters": "BK"
                                },
                                {
                                    "ProductNumber": "BK-R68R-60",
                                    "LeftTwoCharacters": "BK"
                                },
                                {
                                    "ProductNumber": "BK-R79Y-40",
                                    "LeftTwoCharacters": "BK"
                                },
                                {
                                    "ProductNumber": "BK-R79Y-42",
                                    "LeftTwoCharacters": "BK"
                                },
                                {
                                    "ProductNumber": "BK-R79Y-44",
                                    "LeftTwoCharacters": "BK"
                                },
                                {
                                    "ProductNumber": "BK-R79Y-48",
                                    "LeftTwoCharacters": "BK"
                                },
                                {
                                    "ProductNumber": "BK-R89B-44",
                                    "LeftTwoCharacters": "BK"
                                },
                                {
                                    "ProductNumber": "BK-R89B-48",
                                    "LeftTwoCharacters": "BK"
                                },
                                {
                                    "ProductNumber": "BK-R89B-52",
                                    "LeftTwoCharacters": "BK"
                                },
                                {
                                    "ProductNumber": "BK-R89B-58",
                                    "LeftTwoCharacters": "BK"
                                },
                                {
                                    "ProductNumber": "BK-R89R-44",
                                    "LeftTwoCharacters": "BK"
                                },
                                {
                                    "ProductNumber": "BK-R89R-48",
                                    "LeftTwoCharacters": "BK"
                                },
                                {
                                    "ProductNumber": "BK-R89R-52",
                                    "LeftTwoCharacters": "BK"
                                },
                                {
                                    "ProductNumber": "BK-R89R-58",
                                    "LeftTwoCharacters": "BK"
                                },
                                {
                                    "ProductNumber": "BK-R93R-44",
                                    "LeftTwoCharacters": "BK"
                                },
                                {
                                    "ProductNumber": "BK-R93R-48",
                                    "LeftTwoCharacters": "BK"
                                },
                                {
                                    "ProductNumber": "BK-R93R-52",
                                    "LeftTwoCharacters": "BK"
                                },
                                {
                                    "ProductNumber": "BK-R93R-56",
                                    "LeftTwoCharacters": "BK"
                                },
                                {
                                    "ProductNumber": "BK-R93R-62",
                                    "LeftTwoCharacters": "BK"
                                },
                                {
                                    "ProductNumber": "BK-T18U-44",
                                    "LeftTwoCharacters": "BK"
                                },
                                {
                                    "ProductNumber": "BK-T18U-50",
                                    "LeftTwoCharacters": "BK"
                                },
                                {
                                    "ProductNumber": "BK-T18U-54",
                                    "LeftTwoCharacters": "BK"
                                },
                                {
                                    "ProductNumber": "BK-T18U-58",
                                    "LeftTwoCharacters": "BK"
                                },
                                {
                                    "ProductNumber": "BK-T18U-62",
                                    "LeftTwoCharacters": "BK"
                                },
                                {
                                    "ProductNumber": "BK-T18Y-44",
                                    "LeftTwoCharacters": "BK"
                                },
                                {
                                    "ProductNumber": "BK-T18Y-50",
                                    "LeftTwoCharacters": "BK"
                                },
                                {
                                    "ProductNumber": "BK-T18Y-54",
                                    "LeftTwoCharacters": "BK"
                                },
                                {
                                    "ProductNumber": "BK-T18Y-58",
                                    "LeftTwoCharacters": "BK"
                                },
                                {
                                    "ProductNumber": "BK-T18Y-62",
                                    "LeftTwoCharacters": "BK"
                                },
                                {
                                    "ProductNumber": "BK-T44U-46",
                                    "LeftTwoCharacters": "BK"
                                },
                                {
                                    "ProductNumber": "BK-T44U-50",
                                    "LeftTwoCharacters": "BK"
                                },
                                {
                                    "ProductNumber": "BK-T44U-54",
                                    "LeftTwoCharacters": "BK"
                                },
                                {
                                    "ProductNumber": "BK-T44U-60",
                                    "LeftTwoCharacters": "BK"
                                },
                                {
                                    "ProductNumber": "BK-T79U-46",
                                    "LeftTwoCharacters": "BK"
                                },
                                {
                                    "ProductNumber": "BK-T79U-50",
                                    "LeftTwoCharacters": "BK"
                                },
                                {
                                    "ProductNumber": "BK-T79U-54",
                                    "LeftTwoCharacters": "BK"
                                },
                                {
                                    "ProductNumber": "BK-T79U-60",
                                    "LeftTwoCharacters": "BK"
                                },
                                {
                                    "ProductNumber": "BK-T79Y-46",
                                    "LeftTwoCharacters": "BK"
                                },
                                {
                                    "ProductNumber": "BK-T79Y-50",
                                    "LeftTwoCharacters": "BK"
                                },
                                {
                                    "ProductNumber": "BK-T79Y-54",
                                    "LeftTwoCharacters": "BK"
                                },
                                {
                                    "ProductNumber": "BK-T79Y-60",
                                    "LeftTwoCharacters": "BK"
                                },
                                {
                                    "ProductNumber": "BL-2036",
                                    "LeftTwoCharacters": "BL"
                                },
                                {
                                    "ProductNumber": "CA-1098",
                                    "LeftTwoCharacters": "CA"
                                },
                                {
                                    "ProductNumber": "CA-5965",
                                    "LeftTwoCharacters": "CA"
                                },
                                {
                                    "ProductNumber": "CA-6738",
                                    "LeftTwoCharacters": "CA"
                                },
                                {
                                    "ProductNumber": "CA-7457",
                                    "LeftTwoCharacters": "CA"
                                },
                                {
                                    "ProductNumber": "CB-2903",
                                    "LeftTwoCharacters": "CB"
                                },
                                {
                                    "ProductNumber": "CH-0234",
                                    "LeftTwoCharacters": "CH"
                                },
                                {
                                    "ProductNumber": "CL-9009",
                                    "LeftTwoCharacters": "CL"
                                },
                                {
                                    "ProductNumber": "CN-6137",
                                    "LeftTwoCharacters": "CN"
                                },
                                {
                                    "ProductNumber": "CR-7833",
                                    "LeftTwoCharacters": "CR"
                                },
                                {
                                    "ProductNumber": "CR-9981",
                                    "LeftTwoCharacters": "CR"
                                },
                                {
                                    "ProductNumber": "CS-2812",
                                    "LeftTwoCharacters": "CS"
                                },
                                {
                                    "ProductNumber": "CS-4759",
                                    "LeftTwoCharacters": "CS"
                                },
                                {
                                    "ProductNumber": "CS-6583",
                                    "LeftTwoCharacters": "CS"
                                },
                                {
                                    "ProductNumber": "CS-9183",
                                    "LeftTwoCharacters": "CS"
                                },
                                {
                                    "ProductNumber": "DC-8732",
                                    "LeftTwoCharacters": "DC"
                                },
                                {
                                    "ProductNumber": "DC-9824",
                                    "LeftTwoCharacters": "DC"
                                },
                                {
                                    "ProductNumber": "DT-2377",
                                    "LeftTwoCharacters": "DT"
                                },
                                {
                                    "ProductNumber": "EC-M092",
                                    "LeftTwoCharacters": "EC"
                                },
                                {
                                    "ProductNumber": "EC-R098",
                                    "LeftTwoCharacters": "EC"
                                },
                                {
                                    "ProductNumber": "EC-T209",
                                    "LeftTwoCharacters": "EC"
                                },
                                {
                                    "ProductNumber": "FB-9873",
                                    "LeftTwoCharacters": "FB"
                                },
                                {
                                    "ProductNumber": "FC-3654",
                                    "LeftTwoCharacters": "FC"
                                },
                                {
                                    "ProductNumber": "FC-3982",
                                    "LeftTwoCharacters": "FC"
                                },
                                {
                                    "ProductNumber": "FD-2342",
                                    "LeftTwoCharacters": "FD"
                                },
                                {
                                    "ProductNumber": "FE-3760",
                                    "LeftTwoCharacters": "FE"
                                },
                                {
                                    "ProductNumber": "FE-6654",
                                    "LeftTwoCharacters": "FE"
                                },
                                {
                                    "ProductNumber": "FH-2981",
                                    "LeftTwoCharacters": "FH"
                                },
                                {
                                    "ProductNumber": "FK-1639",
                                    "LeftTwoCharacters": "FK"
                                },
                                {
                                    "ProductNumber": "FK-5136",
                                    "LeftTwoCharacters": "FK"
                                },
                                {
                                    "ProductNumber": "FK-9939",
                                    "LeftTwoCharacters": "FK"
                                },
                                {
                                    "ProductNumber": "FL-2301",
                                    "LeftTwoCharacters": "FL"
                                },
                                {
                                    "ProductNumber": "FR-M21B-40",
                                    "LeftTwoCharacters": "FR"
                                },
                                {
                                    "ProductNumber": "FR-M21B-42",
                                    "LeftTwoCharacters": "FR"
                                },
                                {
                                    "ProductNumber": "FR-M21B-44",
                                    "LeftTwoCharacters": "FR"
                                },
                                {
                                    "ProductNumber": "FR-M21B-48",
                                    "LeftTwoCharacters": "FR"
                                },
                                {
                                    "ProductNumber": "FR-M21B-52",
                                    "LeftTwoCharacters": "FR"
                                },
                                {
                                    "ProductNumber": "FR-M21S-40",
                                    "LeftTwoCharacters": "FR"
                                },
                                {
                                    "ProductNumber": "FR-M21S-42",
                                    "LeftTwoCharacters": "FR"
                                },
                                {
                                    "ProductNumber": "FR-M21S-44",
                                    "LeftTwoCharacters": "FR"
                                },
                                {
                                    "ProductNumber": "FR-M21S-48",
                                    "LeftTwoCharacters": "FR"
                                },
                                {
                                    "ProductNumber": "FR-M21S-52",
                                    "LeftTwoCharacters": "FR"
                                },
                                {
                                    "ProductNumber": "FR-M63B-38",
                                    "LeftTwoCharacters": "FR"
                                },
                                {
                                    "ProductNumber": "FR-M63B-40",
                                    "LeftTwoCharacters": "FR"
                                },
                                {
                                    "ProductNumber": "FR-M63B-44",
                                    "LeftTwoCharacters": "FR"
                                },
                                {
                                    "ProductNumber": "FR-M63B-48",
                                    "LeftTwoCharacters": "FR"
                                },
                                {
                                    "ProductNumber": "FR-M63S-38",
                                    "LeftTwoCharacters": "FR"
                                },
                                {
                                    "ProductNumber": "FR-M63S-40",
                                    "LeftTwoCharacters": "FR"
                                },
                                {
                                    "ProductNumber": "FR-M63S-42",
                                    "LeftTwoCharacters": "FR"
                                },
                                {
                                    "ProductNumber": "FR-M63S-46",
                                    "LeftTwoCharacters": "FR"
                                },
                                {
                                    "ProductNumber": "FR-M94B-38",
                                    "LeftTwoCharacters": "FR"
                                },
                                {
                                    "ProductNumber": "FR-M94B-42",
                                    "LeftTwoCharacters": "FR"
                                },
                                {
                                    "ProductNumber": "FR-M94B-44",
                                    "LeftTwoCharacters": "FR"
                                },
                                {
                                    "ProductNumber": "FR-M94B-46",
                                    "LeftTwoCharacters": "FR"
                                },
                                {
                                    "ProductNumber": "FR-M94B-48",
                                    "LeftTwoCharacters": "FR"
                                },
                                {
                                    "ProductNumber": "FR-M94S-38",
                                    "LeftTwoCharacters": "FR"
                                },
                                {
                                    "ProductNumber": "FR-M94S-42",
                                    "LeftTwoCharacters": "FR"
                                },
                                {
                                    "ProductNumber": "FR-M94S-44",
                                    "LeftTwoCharacters": "FR"
                                },
                                {
                                    "ProductNumber": "FR-M94S-46",
                                    "LeftTwoCharacters": "FR"
                                },
                                {
                                    "ProductNumber": "FR-M94S-52",
                                    "LeftTwoCharacters": "FR"
                                },
                                {
                                    "ProductNumber": "FR-R38B-44",
                                    "LeftTwoCharacters": "FR"
                                },
                                {
                                    "ProductNumber": "FR-R38B-48",
                                    "LeftTwoCharacters": "FR"
                                },
                                {
                                    "ProductNumber": "FR-R38B-52",
                                    "LeftTwoCharacters": "FR"
                                },
                                {
                                    "ProductNumber": "FR-R38B-58",
                                    "LeftTwoCharacters": "FR"
                                },
                                {
                                    "ProductNumber": "FR-R38B-60",
                                    "LeftTwoCharacters": "FR"
                                },
                                {
                                    "ProductNumber": "FR-R38B-62",
                                    "LeftTwoCharacters": "FR"
                                },
                                {
                                    "ProductNumber": "FR-R38R-44",
                                    "LeftTwoCharacters": "FR"
                                },
                                {
                                    "ProductNumber": "FR-R38R-48",
                                    "LeftTwoCharacters": "FR"
                                },
                                {
                                    "ProductNumber": "FR-R38R-52",
                                    "LeftTwoCharacters": "FR"
                                },
                                {
                                    "ProductNumber": "FR-R38R-58",
                                    "LeftTwoCharacters": "FR"
                                },
                                {
                                    "ProductNumber": "FR-R38R-60",
                                    "LeftTwoCharacters": "FR"
                                },
                                {
                                    "ProductNumber": "FR-R38R-62",
                                    "LeftTwoCharacters": "FR"
                                },
                                {
                                    "ProductNumber": "FR-R72R-44",
                                    "LeftTwoCharacters": "FR"
                                },
                                {
                                    "ProductNumber": "FR-R72R-48",
                                    "LeftTwoCharacters": "FR"
                                },
                                {
                                    "ProductNumber": "FR-R72R-52",
                                    "LeftTwoCharacters": "FR"
                                },
                                {
                                    "ProductNumber": "FR-R72R-58",
                                    "LeftTwoCharacters": "FR"
                                },
                                {
                                    "ProductNumber": "FR-R72R-60",
                                    "LeftTwoCharacters": "FR"
                                },
                                {
                                    "ProductNumber": "FR-R72Y-38",
                                    "LeftTwoCharacters": "FR"
                                },
                                {
                                    "ProductNumber": "FR-R72Y-40",
                                    "LeftTwoCharacters": "FR"
                                },
                                {
                                    "ProductNumber": "FR-R72Y-42",
                                    "LeftTwoCharacters": "FR"
                                },
                                {
                                    "ProductNumber": "FR-R72Y-44",
                                    "LeftTwoCharacters": "FR"
                                },
                                {
                                    "ProductNumber": "FR-R72Y-48",
                                    "LeftTwoCharacters": "FR"
                                },
                                {
                                    "ProductNumber": "FR-R92B-44",
                                    "LeftTwoCharacters": "FR"
                                },
                                {
                                    "ProductNumber": "FR-R92B-48",
                                    "LeftTwoCharacters": "FR"
                                },
                                {
                                    "ProductNumber": "FR-R92B-52",
                                    "LeftTwoCharacters": "FR"
                                },
                                {
                                    "ProductNumber": "FR-R92B-58",
                                    "LeftTwoCharacters": "FR"
                                },
                                {
                                    "ProductNumber": "FR-R92B-62",
                                    "LeftTwoCharacters": "FR"
                                },
                                {
                                    "ProductNumber": "FR-R92R-44",
                                    "LeftTwoCharacters": "FR"
                                },
                                {
                                    "ProductNumber": "FR-R92R-48",
                                    "LeftTwoCharacters": "FR"
                                },
                                {
                                    "ProductNumber": "FR-R92R-52",
                                    "LeftTwoCharacters": "FR"
                                },
                                {
                                    "ProductNumber": "FR-R92R-56",
                                    "LeftTwoCharacters": "FR"
                                },
                                {
                                    "ProductNumber": "FR-R92R-58",
                                    "LeftTwoCharacters": "FR"
                                },
                                {
                                    "ProductNumber": "FR-R92R-62",
                                    "LeftTwoCharacters": "FR"
                                },
                                {
                                    "ProductNumber": "FR-T67U-44",
                                    "LeftTwoCharacters": "FR"
                                },
                                {
                                    "ProductNumber": "FR-T67U-50",
                                    "LeftTwoCharacters": "FR"
                                },
                                {
                                    "ProductNumber": "FR-T67U-54",
                                    "LeftTwoCharacters": "FR"
                                },
                                {
                                    "ProductNumber": "FR-T67U-58",
                                    "LeftTwoCharacters": "FR"
                                },
                                {
                                    "ProductNumber": "FR-T67U-62",
                                    "LeftTwoCharacters": "FR"
                                },
                                {
                                    "ProductNumber": "FR-T67Y-44",
                                    "LeftTwoCharacters": "FR"
                                },
                                {
                                    "ProductNumber": "FR-T67Y-50",
                                    "LeftTwoCharacters": "FR"
                                },
                                {
                                    "ProductNumber": "FR-T67Y-54",
                                    "LeftTwoCharacters": "FR"
                                },
                                {
                                    "ProductNumber": "FR-T67Y-58",
                                    "LeftTwoCharacters": "FR"
                                },
                                {
                                    "ProductNumber": "FR-T67Y-62",
                                    "LeftTwoCharacters": "FR"
                                },
                                {
                                    "ProductNumber": "FR-T98U-46",
                                    "LeftTwoCharacters": "FR"
                                },
                                {
                                    "ProductNumber": "FR-T98U-50",
                                    "LeftTwoCharacters": "FR"
                                },
                                {
                                    "ProductNumber": "FR-T98U-54",
                                    "LeftTwoCharacters": "FR"
                                },
                                {
                                    "ProductNumber": "FR-T98U-60",
                                    "LeftTwoCharacters": "FR"
                                },
                                {
                                    "ProductNumber": "FR-T98Y-46",
                                    "LeftTwoCharacters": "FR"
                                },
                                {
                                    "ProductNumber": "FR-T98Y-50",
                                    "LeftTwoCharacters": "FR"
                                },
                                {
                                    "ProductNumber": "FR-T98Y-54",
                                    "LeftTwoCharacters": "FR"
                                },
                                {
                                    "ProductNumber": "FR-T98Y-60",
                                    "LeftTwoCharacters": "FR"
                                },
                                {
                                    "ProductNumber": "FW-1000",
                                    "LeftTwoCharacters": "FW"
                                },
                                {
                                    "ProductNumber": "FW-1200",
                                    "LeftTwoCharacters": "FW"
                                },
                                {
                                    "ProductNumber": "FW-1400",
                                    "LeftTwoCharacters": "FW"
                                },
                                {
                                    "ProductNumber": "FW-3400",
                                    "LeftTwoCharacters": "FW"
                                },
                                {
                                    "ProductNumber": "FW-3800",
                                    "LeftTwoCharacters": "FW"
                                },
                                {
                                    "ProductNumber": "FW-5160",
                                    "LeftTwoCharacters": "FW"
                                },
                                {
                                    "ProductNumber": "FW-5800",
                                    "LeftTwoCharacters": "FW"
                                },
                                {
                                    "ProductNumber": "FW-7160",
                                    "LeftTwoCharacters": "FW"
                                },
                                {
                                    "ProductNumber": "FW-9160",
                                    "LeftTwoCharacters": "FW"
                                },
                                {
                                    "ProductNumber": "FW-M423",
                                    "LeftTwoCharacters": "FW"
                                },
                                {
                                    "ProductNumber": "FW-M762",
                                    "LeftTwoCharacters": "FW"
                                },
                                {
                                    "ProductNumber": "FW-M928",
                                    "LeftTwoCharacters": "FW"
                                },
                                {
                                    "ProductNumber": "FW-R623",
                                    "LeftTwoCharacters": "FW"
                                },
                                {
                                    "ProductNumber": "FW-R762",
                                    "LeftTwoCharacters": "FW"
                                },
                                {
                                    "ProductNumber": "FW-R820",
                                    "LeftTwoCharacters": "FW"
                                },
                                {
                                    "ProductNumber": "FW-T905",
                                    "LeftTwoCharacters": "FW"
                                },
                                {
                                    "ProductNumber": "GL-F110-L",
                                    "LeftTwoCharacters": "GL"
                                },
                                {
                                    "ProductNumber": "GL-F110-M",
                                    "LeftTwoCharacters": "GL"
                                },
                                {
                                    "ProductNumber": "GL-F110-S",
                                    "LeftTwoCharacters": "GL"
                                },
                                {
                                    "ProductNumber": "GL-H102-L",
                                    "LeftTwoCharacters": "GL"
                                },
                                {
                                    "ProductNumber": "GL-H102-M",
                                    "LeftTwoCharacters": "GL"
                                },
                                {
                                    "ProductNumber": "GL-H102-S",
                                    "LeftTwoCharacters": "GL"
                                },
                                {
                                    "ProductNumber": "GP-0982",
                                    "LeftTwoCharacters": "GP"
                                },
                                {
                                    "ProductNumber": "GT-0820",
                                    "LeftTwoCharacters": "GT"
                                },
                                {
                                    "ProductNumber": "GT-1209",
                                    "LeftTwoCharacters": "GT"
                                },
                                {
                                    "ProductNumber": "GT-2908",
                                    "LeftTwoCharacters": "GT"
                                },
                                {
                                    "ProductNumber": "HB-M243",
                                    "LeftTwoCharacters": "HB"
                                },
                                {
                                    "ProductNumber": "HB-M763",
                                    "LeftTwoCharacters": "HB"
                                },
                                {
                                    "ProductNumber": "HB-M918",
                                    "LeftTwoCharacters": "HB"
                                },
                                {
                                    "ProductNumber": "HB-R504",
                                    "LeftTwoCharacters": "HB"
                                },
                                {
                                    "ProductNumber": "HB-R720",
                                    "LeftTwoCharacters": "HB"
                                },
                                {
                                    "ProductNumber": "HB-R956",
                                    "LeftTwoCharacters": "HB"
                                },
                                {
                                    "ProductNumber": "HB-T721",
                                    "LeftTwoCharacters": "HB"
                                },
                                {
                                    "ProductNumber": "HB-T928",
                                    "LeftTwoCharacters": "HB"
                                },
                                {
                                    "ProductNumber": "HJ-1213",
                                    "LeftTwoCharacters": "HJ"
                                },
                                {
                                    "ProductNumber": "HJ-1220",
                                    "LeftTwoCharacters": "HJ"
                                },
                                {
                                    "ProductNumber": "HJ-1420",
                                    "LeftTwoCharacters": "HJ"
                                },
                                {
                                    "ProductNumber": "HJ-1428",
                                    "LeftTwoCharacters": "HJ"
                                },
                                {
                                    "ProductNumber": "HJ-3410",
                                    "LeftTwoCharacters": "HJ"
                                },
                                {
                                    "ProductNumber": "HJ-3416",
                                    "LeftTwoCharacters": "HJ"
                                },
                                {
                                    "ProductNumber": "HJ-3816",
                                    "LeftTwoCharacters": "HJ"
                                },
                                {
                                    "ProductNumber": "HJ-3824",
                                    "LeftTwoCharacters": "HJ"
                                },
                                {
                                    "ProductNumber": "HJ-5161",
                                    "LeftTwoCharacters": "HJ"
                                },
                                {
                                    "ProductNumber": "HJ-5162",
                                    "LeftTwoCharacters": "HJ"
                                },
                                {
                                    "ProductNumber": "HJ-5811",
                                    "LeftTwoCharacters": "HJ"
                                },
                                {
                                    "ProductNumber": "HJ-5818",
                                    "LeftTwoCharacters": "HJ"
                                },
                                {
                                    "ProductNumber": "HJ-7161",
                                    "LeftTwoCharacters": "HJ"
                                },
                                {
                                    "ProductNumber": "HJ-7162",
                                    "LeftTwoCharacters": "HJ"
                                },
                                {
                                    "ProductNumber": "HJ-9080",
                                    "LeftTwoCharacters": "HJ"
                                },
                                {
                                    "ProductNumber": "HJ-9161",
                                    "LeftTwoCharacters": "HJ"
                                },
                                {
                                    "ProductNumber": "HL-U509",
                                    "LeftTwoCharacters": "HL"
                                },
                                {
                                    "ProductNumber": "HL-U509-B",
                                    "LeftTwoCharacters": "HL"
                                },
                                {
                                    "ProductNumber": "HL-U509-R",
                                    "LeftTwoCharacters": "HL"
                                },
                                {
                                    "ProductNumber": "HN-1024",
                                    "LeftTwoCharacters": "HN"
                                },
                                {
                                    "ProductNumber": "HN-1032",
                                    "LeftTwoCharacters": "HN"
                                },
                                {
                                    "ProductNumber": "HN-1213",
                                    "LeftTwoCharacters": "HN"
                                },
                                {
                                    "ProductNumber": "HN-1220",
                                    "LeftTwoCharacters": "HN"
                                },
                                {
                                    "ProductNumber": "HN-1224",
                                    "LeftTwoCharacters": "HN"
                                },
                                {
                                    "ProductNumber": "HN-1420",
                                    "LeftTwoCharacters": "HN"
                                },
                                {
                                    "ProductNumber": "HN-1428",
                                    "LeftTwoCharacters": "HN"
                                },
                                {
                                    "ProductNumber": "HN-3410",
                                    "LeftTwoCharacters": "HN"
                                },
                                {
                                    "ProductNumber": "HN-3416",
                                    "LeftTwoCharacters": "HN"
                                },
                                {
                                    "ProductNumber": "HN-3816",
                                    "LeftTwoCharacters": "HN"
                                },
                                {
                                    "ProductNumber": "HN-3824",
                                    "LeftTwoCharacters": "HN"
                                },
                                {
                                    "ProductNumber": "HN-4402",
                                    "LeftTwoCharacters": "HN"
                                },
                                {
                                    "ProductNumber": "HN-5161",
                                    "LeftTwoCharacters": "HN"
                                },
                                {
                                    "ProductNumber": "HN-5162",
                                    "LeftTwoCharacters": "HN"
                                },
                                {
                                    "ProductNumber": "HN-5400",
                                    "LeftTwoCharacters": "HN"
                                },
                                {
                                    "ProductNumber": "HN-5811",
                                    "LeftTwoCharacters": "HN"
                                },
                                {
                                    "ProductNumber": "HN-5818",
                                    "LeftTwoCharacters": "HN"
                                },
                                {
                                    "ProductNumber": "HN-6320",
                                    "LeftTwoCharacters": "HN"
                                },
                                {
                                    "ProductNumber": "HN-7161",
                                    "LeftTwoCharacters": "HN"
                                },
                                {
                                    "ProductNumber": "HN-7162",
                                    "LeftTwoCharacters": "HN"
                                },
                                {
                                    "ProductNumber": "HN-8320",
                                    "LeftTwoCharacters": "HN"
                                },
                                {
                                    "ProductNumber": "HN-9161",
                                    "LeftTwoCharacters": "HN"
                                },
                                {
                                    "ProductNumber": "HN-9168",
                                    "LeftTwoCharacters": "HN"
                                },
                                {
                                    "ProductNumber": "HS-0296",
                                    "LeftTwoCharacters": "HS"
                                },
                                {
                                    "ProductNumber": "HS-2451",
                                    "LeftTwoCharacters": "HS"
                                },
                                {
                                    "ProductNumber": "HS-3479",
                                    "LeftTwoCharacters": "HS"
                                },
                                {
                                    "ProductNumber": "HT-2981",
                                    "LeftTwoCharacters": "HT"
                                },
                                {
                                    "ProductNumber": "HT-8019",
                                    "LeftTwoCharacters": "HT"
                                },
                                {
                                    "ProductNumber": "HU-6280",
                                    "LeftTwoCharacters": "HU"
                                },
                                {
                                    "ProductNumber": "HU-8998",
                                    "LeftTwoCharacters": "HU"
                                },
                                {
                                    "ProductNumber": "HY-1023-70",
                                    "LeftTwoCharacters": "HY"
                                },
                                {
                                    "ProductNumber": "KW-4091",
                                    "LeftTwoCharacters": "KW"
                                },
                                {
                                    "ProductNumber": "LE-1000",
                                    "LeftTwoCharacters": "LE"
                                },
                                {
                                    "ProductNumber": "LE-1200",
                                    "LeftTwoCharacters": "LE"
                                },
                                {
                                    "ProductNumber": "LE-1201",
                                    "LeftTwoCharacters": "LE"
                                },
                                {
                                    "ProductNumber": "LE-1400",
                                    "LeftTwoCharacters": "LE"
                                },
                                {
                                    "ProductNumber": "LE-3800",
                                    "LeftTwoCharacters": "LE"
                                },
                                {
                                    "ProductNumber": "LE-5160",
                                    "LeftTwoCharacters": "LE"
                                },
                                {
                                    "ProductNumber": "LE-6000",
                                    "LeftTwoCharacters": "LE"
                                },
                                {
                                    "ProductNumber": "LE-7160",
                                    "LeftTwoCharacters": "LE"
                                },
                                {
                                    "ProductNumber": "LE-8000",
                                    "LeftTwoCharacters": "LE"
                                },
                                {
                                    "ProductNumber": "LI-1000",
                                    "LeftTwoCharacters": "LI"
                                },
                                {
                                    "ProductNumber": "LI-1200",
                                    "LeftTwoCharacters": "LI"
                                },
                                {
                                    "ProductNumber": "LI-1201",
                                    "LeftTwoCharacters": "LI"
                                },
                                {
                                    "ProductNumber": "LI-1400",
                                    "LeftTwoCharacters": "LI"
                                },
                                {
                                    "ProductNumber": "LI-3800",
                                    "LeftTwoCharacters": "LI"
                                },
                                {
                                    "ProductNumber": "LI-5160",
                                    "LeftTwoCharacters": "LI"
                                },
                                {
                                    "ProductNumber": "LI-5800",
                                    "LeftTwoCharacters": "LI"
                                },
                                {
                                    "ProductNumber": "LI-6000",
                                    "LeftTwoCharacters": "LI"
                                },
                                {
                                    "ProductNumber": "LI-7160",
                                    "LeftTwoCharacters": "LI"
                                },
                                {
                                    "ProductNumber": "LI-8000",
                                    "LeftTwoCharacters": "LI"
                                },
                                {
                                    "ProductNumber": "LJ-0192-L",
                                    "LeftTwoCharacters": "LJ"
                                },
                                {
                                    "ProductNumber": "LJ-0192-M",
                                    "LeftTwoCharacters": "LJ"
                                },
                                {
                                    "ProductNumber": "LJ-0192-S",
                                    "LeftTwoCharacters": "LJ"
                                },
                                {
                                    "ProductNumber": "LJ-0192-X",
                                    "LeftTwoCharacters": "LJ"
                                },
                                {
                                    "ProductNumber": "LJ-1213",
                                    "LeftTwoCharacters": "LJ"
                                },
                                {
                                    "ProductNumber": "LJ-1220",
                                    "LeftTwoCharacters": "LJ"
                                },
                                {
                                    "ProductNumber": "LJ-1420",
                                    "LeftTwoCharacters": "LJ"
                                },
                                {
                                    "ProductNumber": "LJ-1428",
                                    "LeftTwoCharacters": "LJ"
                                },
                                {
                                    "ProductNumber": "LJ-3410",
                                    "LeftTwoCharacters": "LJ"
                                },
                                {
                                    "ProductNumber": "LJ-3416",
                                    "LeftTwoCharacters": "LJ"
                                },
                                {
                                    "ProductNumber": "LJ-3816",
                                    "LeftTwoCharacters": "LJ"
                                },
                                {
                                    "ProductNumber": "LJ-3824",
                                    "LeftTwoCharacters": "LJ"
                                },
                                {
                                    "ProductNumber": "LJ-5161",
                                    "LeftTwoCharacters": "LJ"
                                },
                                {
                                    "ProductNumber": "LJ-5162",
                                    "LeftTwoCharacters": "LJ"
                                },
                                {
                                    "ProductNumber": "LJ-5811",
                                    "LeftTwoCharacters": "LJ"
                                },
                                {
                                    "ProductNumber": "LJ-5818",
                                    "LeftTwoCharacters": "LJ"
                                },
                                {
                                    "ProductNumber": "LJ-7161",
                                    "LeftTwoCharacters": "LJ"
                                },
                                {
                                    "ProductNumber": "LJ-7162",
                                    "LeftTwoCharacters": "LJ"
                                },
                                {
                                    "ProductNumber": "LJ-9080",
                                    "LeftTwoCharacters": "LJ"
                                },
                                {
                                    "ProductNumber": "LJ-9161",
                                    "LeftTwoCharacters": "LJ"
                                },
                                {
                                    "ProductNumber": "LN-1024",
                                    "LeftTwoCharacters": "LN"
                                },
                                {
                                    "ProductNumber": "LN-1032",
                                    "LeftTwoCharacters": "LN"
                                },
                                {
                                    "ProductNumber": "LN-1213",
                                    "LeftTwoCharacters": "LN"
                                },
                                {
                                    "ProductNumber": "LN-1220",
                                    "LeftTwoCharacters": "LN"
                                },
                                {
                                    "ProductNumber": "LN-1224",
                                    "LeftTwoCharacters": "LN"
                                },
                                {
                                    "ProductNumber": "LN-1420",
                                    "LeftTwoCharacters": "LN"
                                },
                                {
                                    "ProductNumber": "LN-1428",
                                    "LeftTwoCharacters": "LN"
                                },
                                {
                                    "ProductNumber": "LN-3410",
                                    "LeftTwoCharacters": "LN"
                                },
                                {
                                    "ProductNumber": "LN-3416",
                                    "LeftTwoCharacters": "LN"
                                },
                                {
                                    "ProductNumber": "LN-3816",
                                    "LeftTwoCharacters": "LN"
                                },
                                {
                                    "ProductNumber": "LN-3824",
                                    "LeftTwoCharacters": "LN"
                                },
                                {
                                    "ProductNumber": "LN-4400",
                                    "LeftTwoCharacters": "LN"
                                },
                                {
                                    "ProductNumber": "LN-5161",
                                    "LeftTwoCharacters": "LN"
                                },
                                {
                                    "ProductNumber": "LN-5162",
                                    "LeftTwoCharacters": "LN"
                                },
                                {
                                    "ProductNumber": "LN-5400",
                                    "LeftTwoCharacters": "LN"
                                },
                                {
                                    "ProductNumber": "LN-5811",
                                    "LeftTwoCharacters": "LN"
                                },
                                {
                                    "ProductNumber": "LN-5818",
                                    "LeftTwoCharacters": "LN"
                                },
                                {
                                    "ProductNumber": "LN-6320",
                                    "LeftTwoCharacters": "LN"
                                },
                                {
                                    "ProductNumber": "LN-7161",
                                    "LeftTwoCharacters": "LN"
                                },
                                {
                                    "ProductNumber": "LN-7162",
                                    "LeftTwoCharacters": "LN"
                                },
                                {
                                    "ProductNumber": "LN-8320",
                                    "LeftTwoCharacters": "LN"
                                },
                                {
                                    "ProductNumber": "LN-9080",
                                    "LeftTwoCharacters": "LN"
                                },
                                {
                                    "ProductNumber": "LN-9161",
                                    "LeftTwoCharacters": "LN"
                                },
                                {
                                    "ProductNumber": "LO-C100",
                                    "LeftTwoCharacters": "LO"
                                },
                                {
                                    "ProductNumber": "LR-2398",
                                    "LeftTwoCharacters": "LR"
                                },
                                {
                                    "ProductNumber": "LR-8520",
                                    "LeftTwoCharacters": "LR"
                                },
                                {
                                    "ProductNumber": "LT-H902",
                                    "LeftTwoCharacters": "LT"
                                },
                                {
                                    "ProductNumber": "LT-H903",
                                    "LeftTwoCharacters": "LT"
                                },
                                {
                                    "ProductNumber": "LT-T990",
                                    "LeftTwoCharacters": "LT"
                                },
                                {
                                    "ProductNumber": "LW-1000",
                                    "LeftTwoCharacters": "LW"
                                },
                                {
                                    "ProductNumber": "LW-1200",
                                    "LeftTwoCharacters": "LW"
                                },
                                {
                                    "ProductNumber": "LW-1201",
                                    "LeftTwoCharacters": "LW"
                                },
                                {
                                    "ProductNumber": "LW-1400",
                                    "LeftTwoCharacters": "LW"
                                },
                                {
                                    "ProductNumber": "LW-3400",
                                    "LeftTwoCharacters": "LW"
                                },
                                {
                                    "ProductNumber": "LW-3800",
                                    "LeftTwoCharacters": "LW"
                                },
                                {
                                    "ProductNumber": "LW-4000",
                                    "LeftTwoCharacters": "LW"
                                },
                                {
                                    "ProductNumber": "LW-5160",
                                    "LeftTwoCharacters": "LW"
                                },
                                {
                                    "ProductNumber": "LW-5800",
                                    "LeftTwoCharacters": "LW"
                                },
                                {
                                    "ProductNumber": "LW-6000",
                                    "LeftTwoCharacters": "LW"
                                },
                                {
                                    "ProductNumber": "LW-7160",
                                    "LeftTwoCharacters": "LW"
                                },
                                {
                                    "ProductNumber": "LW-8000",
                                    "LeftTwoCharacters": "LW"
                                },
                                {
                                    "ProductNumber": "LW-9160",
                                    "LeftTwoCharacters": "LW"
                                },
                                {
                                    "ProductNumber": "MA-7075",
                                    "LeftTwoCharacters": "MA"
                                },
                                {
                                    "ProductNumber": "MB-2024",
                                    "LeftTwoCharacters": "MB"
                                },
                                {
                                    "ProductNumber": "MB-6061",
                                    "LeftTwoCharacters": "MB"
                                },
                                {
                                    "ProductNumber": "MP-2066",
                                    "LeftTwoCharacters": "MP"
                                },
                                {
                                    "ProductNumber": "MP-2503",
                                    "LeftTwoCharacters": "MP"
                                },
                                {
                                    "ProductNumber": "MP-4960",
                                    "LeftTwoCharacters": "MP"
                                },
                                {
                                    "ProductNumber": "MS-0253",
                                    "LeftTwoCharacters": "MS"
                                },
                                {
                                    "ProductNumber": "MS-1256",
                                    "LeftTwoCharacters": "MS"
                                },
                                {
                                    "ProductNumber": "MS-1981",
                                    "LeftTwoCharacters": "MS"
                                },
                                {
                                    "ProductNumber": "MS-2259",
                                    "LeftTwoCharacters": "MS"
                                },
                                {
                                    "ProductNumber": "MS-2341",
                                    "LeftTwoCharacters": "MS"
                                },
                                {
                                    "ProductNumber": "MS-2348",
                                    "LeftTwoCharacters": "MS"
                                },
                                {
                                    "ProductNumber": "MS-6061",
                                    "LeftTwoCharacters": "MS"
                                },
                                {
                                    "ProductNumber": "MT-1000",
                                    "LeftTwoCharacters": "MT"
                                },
                                {
                                    "ProductNumber": "NI-4127",
                                    "LeftTwoCharacters": "NI"
                                },
                                {
                                    "ProductNumber": "NI-9522",
                                    "LeftTwoCharacters": "NI"
                                },
                                {
                                    "ProductNumber": "PA-187B",
                                    "LeftTwoCharacters": "PA"
                                },
                                {
                                    "ProductNumber": "PA-361R",
                                    "LeftTwoCharacters": "PA"
                                },
                                {
                                    "ProductNumber": "PA-529S",
                                    "LeftTwoCharacters": "PA"
                                },
                                {
                                    "ProductNumber": "PA-632U",
                                    "LeftTwoCharacters": "PA"
                                },
                                {
                                    "ProductNumber": "PA-823Y",
                                    "LeftTwoCharacters": "PA"
                                },
                                {
                                    "ProductNumber": "PA-T100",
                                    "LeftTwoCharacters": "PA"
                                },
                                {
                                    "ProductNumber": "PB-6109",
                                    "LeftTwoCharacters": "PB"
                                },
                                {
                                    "ProductNumber": "PD-M282",
                                    "LeftTwoCharacters": "PD"
                                },
                                {
                                    "ProductNumber": "PD-M340",
                                    "LeftTwoCharacters": "PD"
                                },
                                {
                                    "ProductNumber": "PD-M562",
                                    "LeftTwoCharacters": "PD"
                                },
                                {
                                    "ProductNumber": "PD-R347",
                                    "LeftTwoCharacters": "PD"
                                },
                                {
                                    "ProductNumber": "PD-R563",
                                    "LeftTwoCharacters": "PD"
                                },
                                {
                                    "ProductNumber": "PD-R853",
                                    "LeftTwoCharacters": "PD"
                                },
                                {
                                    "ProductNumber": "PD-T852",
                                    "LeftTwoCharacters": "PD"
                                },
                                {
                                    "ProductNumber": "PK-7098",
                                    "LeftTwoCharacters": "PK"
                                },
                                {
                                    "ProductNumber": "PU-0452",
                                    "LeftTwoCharacters": "PU"
                                },
                                {
                                    "ProductNumber": "PU-M044",
                                    "LeftTwoCharacters": "PU"
                                },
                                {
                                    "ProductNumber": "RA-2345",
                                    "LeftTwoCharacters": "RA"
                                },
                                {
                                    "ProductNumber": "RA-7490",
                                    "LeftTwoCharacters": "RA"
                                },
                                {
                                    "ProductNumber": "RA-H123",
                                    "LeftTwoCharacters": "RA"
                                },
                                {
                                    "ProductNumber": "RB-9231",
                                    "LeftTwoCharacters": "RB"
                                },
                                {
                                    "ProductNumber": "RC-0291",
                                    "LeftTwoCharacters": "RC"
                                },
                                {
                                    "ProductNumber": "RD-2308",
                                    "LeftTwoCharacters": "RD"
                                },
                                {
                                    "ProductNumber": "RF-9198",
                                    "LeftTwoCharacters": "RF"
                                },
                                {
                                    "ProductNumber": "RM-M464",
                                    "LeftTwoCharacters": "RM"
                                },
                                {
                                    "ProductNumber": "RM-M692",
                                    "LeftTwoCharacters": "RM"
                                },
                                {
                                    "ProductNumber": "RM-M823",
                                    "LeftTwoCharacters": "RM"
                                },
                                {
                                    "ProductNumber": "RM-R436",
                                    "LeftTwoCharacters": "RM"
                                },
                                {
                                    "ProductNumber": "RM-R600",
                                    "LeftTwoCharacters": "RM"
                                },
                                {
                                    "ProductNumber": "RM-R800",
                                    "LeftTwoCharacters": "RM"
                                },
                                {
                                    "ProductNumber": "RM-T801",
                                    "LeftTwoCharacters": "RM"
                                },
                                {
                                    "ProductNumber": "RW-M423",
                                    "LeftTwoCharacters": "RW"
                                },
                                {
                                    "ProductNumber": "RW-M762",
                                    "LeftTwoCharacters": "RW"
                                },
                                {
                                    "ProductNumber": "RW-M928",
                                    "LeftTwoCharacters": "RW"
                                },
                                {
                                    "ProductNumber": "RW-R623",
                                    "LeftTwoCharacters": "RW"
                                },
                                {
                                    "ProductNumber": "RW-R762",
                                    "LeftTwoCharacters": "RW"
                                },
                                {
                                    "ProductNumber": "RW-R820",
                                    "LeftTwoCharacters": "RW"
                                },
                                {
                                    "ProductNumber": "RW-T905",
                                    "LeftTwoCharacters": "RW"
                                },
                                {
                                    "ProductNumber": "SA-M198",
                                    "LeftTwoCharacters": "SA"
                                },
                                {
                                    "ProductNumber": "SA-M237",
                                    "LeftTwoCharacters": "SA"
                                },
                                {
                                    "ProductNumber": "SA-M687",
                                    "LeftTwoCharacters": "SA"
                                },
                                {
                                    "ProductNumber": "SA-R127",
                                    "LeftTwoCharacters": "SA"
                                },
                                {
                                    "ProductNumber": "SA-R430",
                                    "LeftTwoCharacters": "SA"
                                },
                                {
                                    "ProductNumber": "SA-R522",
                                    "LeftTwoCharacters": "SA"
                                },
                                {
                                    "ProductNumber": "SA-T467",
                                    "LeftTwoCharacters": "SA"
                                },
                                {
                                    "ProductNumber": "SA-T612",
                                    "LeftTwoCharacters": "SA"
                                },
                                {
                                    "ProductNumber": "SA-T872",
                                    "LeftTwoCharacters": "SA"
                                },
                                {
                                    "ProductNumber": "SB-M891-L",
                                    "LeftTwoCharacters": "SB"
                                },
                                {
                                    "ProductNumber": "SB-M891-M",
                                    "LeftTwoCharacters": "SB"
                                },
                                {
                                    "ProductNumber": "SB-M891-S",
                                    "LeftTwoCharacters": "SB"
                                },
                                {
                                    "ProductNumber": "SD-2342",
                                    "LeftTwoCharacters": "SD"
                                },
                                {
                                    "ProductNumber": "SD-9872",
                                    "LeftTwoCharacters": "SD"
                                },
                                {
                                    "ProductNumber": "SE-M236",
                                    "LeftTwoCharacters": "SE"
                                },
                                {
                                    "ProductNumber": "SE-M798",
                                    "LeftTwoCharacters": "SE"
                                },
                                {
                                    "ProductNumber": "SE-M940",
                                    "LeftTwoCharacters": "SE"
                                },
                                {
                                    "ProductNumber": "SE-R581",
                                    "LeftTwoCharacters": "SE"
                                },
                                {
                                    "ProductNumber": "SE-R908",
                                    "LeftTwoCharacters": "SE"
                                },
                                {
                                    "ProductNumber": "SE-R995",
                                    "LeftTwoCharacters": "SE"
                                },
                                {
                                    "ProductNumber": "SE-T312",
                                    "LeftTwoCharacters": "SE"
                                },
                                {
                                    "ProductNumber": "SE-T762",
                                    "LeftTwoCharacters": "SE"
                                },
                                {
                                    "ProductNumber": "SE-T924",
                                    "LeftTwoCharacters": "SE"
                                },
                                {
                                    "ProductNumber": "SH-4562",
                                    "LeftTwoCharacters": "SH"
                                },
                                {
                                    "ProductNumber": "SH-9312",
                                    "LeftTwoCharacters": "SH"
                                },
                                {
                                    "ProductNumber": "SH-M897-L",
                                    "LeftTwoCharacters": "SH"
                                },
                                {
                                    "ProductNumber": "SH-M897-M",
                                    "LeftTwoCharacters": "SH"
                                },
                                {
                                    "ProductNumber": "SH-M897-S",
                                    "LeftTwoCharacters": "SH"
                                },
                                {
                                    "ProductNumber": "SH-M897-X",
                                    "LeftTwoCharacters": "SH"
                                },
                                {
                                    "ProductNumber": "SH-W890-L",
                                    "LeftTwoCharacters": "SH"
                                },
                                {
                                    "ProductNumber": "SH-W890-M",
                                    "LeftTwoCharacters": "SH"
                                },
                                {
                                    "ProductNumber": "SH-W890-S",
                                    "LeftTwoCharacters": "SH"
                                },
                                {
                                    "ProductNumber": "SJ-0194-L",
                                    "LeftTwoCharacters": "SJ"
                                },
                                {
                                    "ProductNumber": "SJ-0194-M",
                                    "LeftTwoCharacters": "SJ"
                                },
                                {
                                    "ProductNumber": "SJ-0194-S",
                                    "LeftTwoCharacters": "SJ"
                                },
                                {
                                    "ProductNumber": "SJ-0194-X",
                                    "LeftTwoCharacters": "SJ"
                                },
                                {
                                    "ProductNumber": "SK-9283",
                                    "LeftTwoCharacters": "SK"
                                },
                                {
                                    "ProductNumber": "SL-0931",
                                    "LeftTwoCharacters": "SL"
                                },
                                {
                                    "ProductNumber": "SM-9087",
                                    "LeftTwoCharacters": "SM"
                                },
                                {
                                    "ProductNumber": "SO-B909-L",
                                    "LeftTwoCharacters": "SO"
                                },
                                {
                                    "ProductNumber": "SO-B909-M",
                                    "LeftTwoCharacters": "SO"
                                },
                                {
                                    "ProductNumber": "SO-R809-L",
                                    "LeftTwoCharacters": "SO"
                                },
                                {
                                    "ProductNumber": "SO-R809-M",
                                    "LeftTwoCharacters": "SO"
                                },
                                {
                                    "ProductNumber": "SP-2981",
                                    "LeftTwoCharacters": "SP"
                                },
                                {
                                    "ProductNumber": "SR-2098",
                                    "LeftTwoCharacters": "SR"
                                },
                                {
                                    "ProductNumber": "SS-2985",
                                    "LeftTwoCharacters": "SS"
                                },
                                {
                                    "ProductNumber": "ST-1401",
                                    "LeftTwoCharacters": "ST"
                                },
                                {
                                    "ProductNumber": "ST-9828",
                                    "LeftTwoCharacters": "ST"
                                },
                                {
                                    "ProductNumber": "TG-W091-L",
                                    "LeftTwoCharacters": "TG"
                                },
                                {
                                    "ProductNumber": "TG-W091-M",
                                    "LeftTwoCharacters": "TG"
                                },
                                {
                                    "ProductNumber": "TG-W091-S",
                                    "LeftTwoCharacters": "TG"
                                },
                                {
                                    "ProductNumber": "TI-M267",
                                    "LeftTwoCharacters": "TI"
                                },
                                {
                                    "ProductNumber": "TI-M602",
                                    "LeftTwoCharacters": "TI"
                                },
                                {
                                    "ProductNumber": "TI-M823",
                                    "LeftTwoCharacters": "TI"
                                },
                                {
                                    "ProductNumber": "TI-R092",
                                    "LeftTwoCharacters": "TI"
                                },
                                {
                                    "ProductNumber": "TI-R628",
                                    "LeftTwoCharacters": "TI"
                                },
                                {
                                    "ProductNumber": "TI-R982",
                                    "LeftTwoCharacters": "TI"
                                },
                                {
                                    "ProductNumber": "TI-T723",
                                    "LeftTwoCharacters": "TI"
                                },
                                {
                                    "ProductNumber": "TO-2301",
                                    "LeftTwoCharacters": "TO"
                                },
                                {
                                    "ProductNumber": "TP-0923",
                                    "LeftTwoCharacters": "TP"
                                },
                                {
                                    "ProductNumber": "TT-M928",
                                    "LeftTwoCharacters": "TT"
                                },
                                {
                                    "ProductNumber": "TT-R982",
                                    "LeftTwoCharacters": "TT"
                                },
                                {
                                    "ProductNumber": "TT-T092",
                                    "LeftTwoCharacters": "TT"
                                },
                                {
                                    "ProductNumber": "VE-C304-L",
                                    "LeftTwoCharacters": "VE"
                                },
                                {
                                    "ProductNumber": "VE-C304-M",
                                    "LeftTwoCharacters": "VE"
                                },
                                {
                                    "ProductNumber": "VE-C304-S",
                                    "LeftTwoCharacters": "VE"
                                },
                                {
                                    "ProductNumber": "WB-H098",
                                    "LeftTwoCharacters": "WB"
                                }
                            ]
                        },
                        "text/html": [
                            "<table>",
                            "<tr><th>ProductNumber</th><th>LeftTwoCharacters</th></tr>",
                            "<tr><td>AR-5381</td><td>AR</td></tr>",
                            "<tr><td>BA-8327</td><td>BA</td></tr>",
                            "<tr><td>BB-7421</td><td>BB</td></tr>",
                            "<tr><td>BB-8107</td><td>BB</td></tr>",
                            "<tr><td>BB-9108</td><td>BB</td></tr>",
                            "<tr><td>BC-M005</td><td>BC</td></tr>",
                            "<tr><td>BC-R205</td><td>BC</td></tr>",
                            "<tr><td>BE-2349</td><td>BE</td></tr>",
                            "<tr><td>BE-2908</td><td>BE</td></tr>",
                            "<tr><td>BK-M18B-40</td><td>BK</td></tr>",
                            "<tr><td>BK-M18B-42</td><td>BK</td></tr>",
                            "<tr><td>BK-M18B-44</td><td>BK</td></tr>",
                            "<tr><td>BK-M18B-48</td><td>BK</td></tr>",
                            "<tr><td>BK-M18B-52</td><td>BK</td></tr>",
                            "<tr><td>BK-M18S-40</td><td>BK</td></tr>",
                            "<tr><td>BK-M18S-42</td><td>BK</td></tr>",
                            "<tr><td>BK-M18S-44</td><td>BK</td></tr>",
                            "<tr><td>BK-M18S-48</td><td>BK</td></tr>",
                            "<tr><td>BK-M18S-52</td><td>BK</td></tr>",
                            "<tr><td>BK-M38S-38</td><td>BK</td></tr>",
                            "<tr><td>BK-M38S-40</td><td>BK</td></tr>",
                            "<tr><td>BK-M38S-42</td><td>BK</td></tr>",
                            "<tr><td>BK-M38S-46</td><td>BK</td></tr>",
                            "<tr><td>BK-M47B-38</td><td>BK</td></tr>",
                            "<tr><td>BK-M47B-40</td><td>BK</td></tr>",
                            "<tr><td>BK-M47B-44</td><td>BK</td></tr>",
                            "<tr><td>BK-M47B-48</td><td>BK</td></tr>",
                            "<tr><td>BK-M68B-38</td><td>BK</td></tr>",
                            "<tr><td>BK-M68B-42</td><td>BK</td></tr>",
                            "<tr><td>BK-M68B-46</td><td>BK</td></tr>",
                            "<tr><td>BK-M68S-38</td><td>BK</td></tr>",
                            "<tr><td>BK-M68S-42</td><td>BK</td></tr>",
                            "<tr><td>BK-M68S-46</td><td>BK</td></tr>",
                            "<tr><td>BK-M82B-38</td><td>BK</td></tr>",
                            "<tr><td>BK-M82B-42</td><td>BK</td></tr>",
                            "<tr><td>BK-M82B-44</td><td>BK</td></tr>",
                            "<tr><td>BK-M82B-48</td><td>BK</td></tr>",
                            "<tr><td>BK-M82S-38</td><td>BK</td></tr>",
                            "<tr><td>BK-M82S-42</td><td>BK</td></tr>",
                            "<tr><td>BK-M82S-44</td><td>BK</td></tr>",
                            "<tr><td>BK-M82S-48</td><td>BK</td></tr>",
                            "<tr><td>BK-R19B-44</td><td>BK</td></tr>",
                            "<tr><td>BK-R19B-48</td><td>BK</td></tr>",
                            "<tr><td>BK-R19B-52</td><td>BK</td></tr>",
                            "<tr><td>BK-R19B-58</td><td>BK</td></tr>",
                            "<tr><td>BK-R50B-44</td><td>BK</td></tr>",
                            "<tr><td>BK-R50B-48</td><td>BK</td></tr>",
                            "<tr><td>BK-R50B-52</td><td>BK</td></tr>",
                            "<tr><td>BK-R50B-58</td><td>BK</td></tr>",
                            "<tr><td>BK-R50B-60</td><td>BK</td></tr>",
                            "<tr><td>BK-R50B-62</td><td>BK</td></tr>",
                            "<tr><td>BK-R50R-44</td><td>BK</td></tr>",
                            "<tr><td>BK-R50R-48</td><td>BK</td></tr>",
                            "<tr><td>BK-R50R-52</td><td>BK</td></tr>",
                            "<tr><td>BK-R50R-58</td><td>BK</td></tr>",
                            "<tr><td>BK-R50R-60</td><td>BK</td></tr>",
                            "<tr><td>BK-R50R-62</td><td>BK</td></tr>",
                            "<tr><td>BK-R64Y-38</td><td>BK</td></tr>",
                            "<tr><td>BK-R64Y-40</td><td>BK</td></tr>",
                            "<tr><td>BK-R64Y-42</td><td>BK</td></tr>",
                            "<tr><td>BK-R64Y-44</td><td>BK</td></tr>",
                            "<tr><td>BK-R64Y-48</td><td>BK</td></tr>",
                            "<tr><td>BK-R68R-44</td><td>BK</td></tr>",
                            "<tr><td>BK-R68R-48</td><td>BK</td></tr>",
                            "<tr><td>BK-R68R-52</td><td>BK</td></tr>",
                            "<tr><td>BK-R68R-58</td><td>BK</td></tr>",
                            "<tr><td>BK-R68R-60</td><td>BK</td></tr>",
                            "<tr><td>BK-R79Y-40</td><td>BK</td></tr>",
                            "<tr><td>BK-R79Y-42</td><td>BK</td></tr>",
                            "<tr><td>BK-R79Y-44</td><td>BK</td></tr>",
                            "<tr><td>BK-R79Y-48</td><td>BK</td></tr>",
                            "<tr><td>BK-R89B-44</td><td>BK</td></tr>",
                            "<tr><td>BK-R89B-48</td><td>BK</td></tr>",
                            "<tr><td>BK-R89B-52</td><td>BK</td></tr>",
                            "<tr><td>BK-R89B-58</td><td>BK</td></tr>",
                            "<tr><td>BK-R89R-44</td><td>BK</td></tr>",
                            "<tr><td>BK-R89R-48</td><td>BK</td></tr>",
                            "<tr><td>BK-R89R-52</td><td>BK</td></tr>",
                            "<tr><td>BK-R89R-58</td><td>BK</td></tr>",
                            "<tr><td>BK-R93R-44</td><td>BK</td></tr>",
                            "<tr><td>BK-R93R-48</td><td>BK</td></tr>",
                            "<tr><td>BK-R93R-52</td><td>BK</td></tr>",
                            "<tr><td>BK-R93R-56</td><td>BK</td></tr>",
                            "<tr><td>BK-R93R-62</td><td>BK</td></tr>",
                            "<tr><td>BK-T18U-44</td><td>BK</td></tr>",
                            "<tr><td>BK-T18U-50</td><td>BK</td></tr>",
                            "<tr><td>BK-T18U-54</td><td>BK</td></tr>",
                            "<tr><td>BK-T18U-58</td><td>BK</td></tr>",
                            "<tr><td>BK-T18U-62</td><td>BK</td></tr>",
                            "<tr><td>BK-T18Y-44</td><td>BK</td></tr>",
                            "<tr><td>BK-T18Y-50</td><td>BK</td></tr>",
                            "<tr><td>BK-T18Y-54</td><td>BK</td></tr>",
                            "<tr><td>BK-T18Y-58</td><td>BK</td></tr>",
                            "<tr><td>BK-T18Y-62</td><td>BK</td></tr>",
                            "<tr><td>BK-T44U-46</td><td>BK</td></tr>",
                            "<tr><td>BK-T44U-50</td><td>BK</td></tr>",
                            "<tr><td>BK-T44U-54</td><td>BK</td></tr>",
                            "<tr><td>BK-T44U-60</td><td>BK</td></tr>",
                            "<tr><td>BK-T79U-46</td><td>BK</td></tr>",
                            "<tr><td>BK-T79U-50</td><td>BK</td></tr>",
                            "<tr><td>BK-T79U-54</td><td>BK</td></tr>",
                            "<tr><td>BK-T79U-60</td><td>BK</td></tr>",
                            "<tr><td>BK-T79Y-46</td><td>BK</td></tr>",
                            "<tr><td>BK-T79Y-50</td><td>BK</td></tr>",
                            "<tr><td>BK-T79Y-54</td><td>BK</td></tr>",
                            "<tr><td>BK-T79Y-60</td><td>BK</td></tr>",
                            "<tr><td>BL-2036</td><td>BL</td></tr>",
                            "<tr><td>CA-1098</td><td>CA</td></tr>",
                            "<tr><td>CA-5965</td><td>CA</td></tr>",
                            "<tr><td>CA-6738</td><td>CA</td></tr>",
                            "<tr><td>CA-7457</td><td>CA</td></tr>",
                            "<tr><td>CB-2903</td><td>CB</td></tr>",
                            "<tr><td>CH-0234</td><td>CH</td></tr>",
                            "<tr><td>CL-9009</td><td>CL</td></tr>",
                            "<tr><td>CN-6137</td><td>CN</td></tr>",
                            "<tr><td>CR-7833</td><td>CR</td></tr>",
                            "<tr><td>CR-9981</td><td>CR</td></tr>",
                            "<tr><td>CS-2812</td><td>CS</td></tr>",
                            "<tr><td>CS-4759</td><td>CS</td></tr>",
                            "<tr><td>CS-6583</td><td>CS</td></tr>",
                            "<tr><td>CS-9183</td><td>CS</td></tr>",
                            "<tr><td>DC-8732</td><td>DC</td></tr>",
                            "<tr><td>DC-9824</td><td>DC</td></tr>",
                            "<tr><td>DT-2377</td><td>DT</td></tr>",
                            "<tr><td>EC-M092</td><td>EC</td></tr>",
                            "<tr><td>EC-R098</td><td>EC</td></tr>",
                            "<tr><td>EC-T209</td><td>EC</td></tr>",
                            "<tr><td>FB-9873</td><td>FB</td></tr>",
                            "<tr><td>FC-3654</td><td>FC</td></tr>",
                            "<tr><td>FC-3982</td><td>FC</td></tr>",
                            "<tr><td>FD-2342</td><td>FD</td></tr>",
                            "<tr><td>FE-3760</td><td>FE</td></tr>",
                            "<tr><td>FE-6654</td><td>FE</td></tr>",
                            "<tr><td>FH-2981</td><td>FH</td></tr>",
                            "<tr><td>FK-1639</td><td>FK</td></tr>",
                            "<tr><td>FK-5136</td><td>FK</td></tr>",
                            "<tr><td>FK-9939</td><td>FK</td></tr>",
                            "<tr><td>FL-2301</td><td>FL</td></tr>",
                            "<tr><td>FR-M21B-40</td><td>FR</td></tr>",
                            "<tr><td>FR-M21B-42</td><td>FR</td></tr>",
                            "<tr><td>FR-M21B-44</td><td>FR</td></tr>",
                            "<tr><td>FR-M21B-48</td><td>FR</td></tr>",
                            "<tr><td>FR-M21B-52</td><td>FR</td></tr>",
                            "<tr><td>FR-M21S-40</td><td>FR</td></tr>",
                            "<tr><td>FR-M21S-42</td><td>FR</td></tr>",
                            "<tr><td>FR-M21S-44</td><td>FR</td></tr>",
                            "<tr><td>FR-M21S-48</td><td>FR</td></tr>",
                            "<tr><td>FR-M21S-52</td><td>FR</td></tr>",
                            "<tr><td>FR-M63B-38</td><td>FR</td></tr>",
                            "<tr><td>FR-M63B-40</td><td>FR</td></tr>",
                            "<tr><td>FR-M63B-44</td><td>FR</td></tr>",
                            "<tr><td>FR-M63B-48</td><td>FR</td></tr>",
                            "<tr><td>FR-M63S-38</td><td>FR</td></tr>",
                            "<tr><td>FR-M63S-40</td><td>FR</td></tr>",
                            "<tr><td>FR-M63S-42</td><td>FR</td></tr>",
                            "<tr><td>FR-M63S-46</td><td>FR</td></tr>",
                            "<tr><td>FR-M94B-38</td><td>FR</td></tr>",
                            "<tr><td>FR-M94B-42</td><td>FR</td></tr>",
                            "<tr><td>FR-M94B-44</td><td>FR</td></tr>",
                            "<tr><td>FR-M94B-46</td><td>FR</td></tr>",
                            "<tr><td>FR-M94B-48</td><td>FR</td></tr>",
                            "<tr><td>FR-M94S-38</td><td>FR</td></tr>",
                            "<tr><td>FR-M94S-42</td><td>FR</td></tr>",
                            "<tr><td>FR-M94S-44</td><td>FR</td></tr>",
                            "<tr><td>FR-M94S-46</td><td>FR</td></tr>",
                            "<tr><td>FR-M94S-52</td><td>FR</td></tr>",
                            "<tr><td>FR-R38B-44</td><td>FR</td></tr>",
                            "<tr><td>FR-R38B-48</td><td>FR</td></tr>",
                            "<tr><td>FR-R38B-52</td><td>FR</td></tr>",
                            "<tr><td>FR-R38B-58</td><td>FR</td></tr>",
                            "<tr><td>FR-R38B-60</td><td>FR</td></tr>",
                            "<tr><td>FR-R38B-62</td><td>FR</td></tr>",
                            "<tr><td>FR-R38R-44</td><td>FR</td></tr>",
                            "<tr><td>FR-R38R-48</td><td>FR</td></tr>",
                            "<tr><td>FR-R38R-52</td><td>FR</td></tr>",
                            "<tr><td>FR-R38R-58</td><td>FR</td></tr>",
                            "<tr><td>FR-R38R-60</td><td>FR</td></tr>",
                            "<tr><td>FR-R38R-62</td><td>FR</td></tr>",
                            "<tr><td>FR-R72R-44</td><td>FR</td></tr>",
                            "<tr><td>FR-R72R-48</td><td>FR</td></tr>",
                            "<tr><td>FR-R72R-52</td><td>FR</td></tr>",
                            "<tr><td>FR-R72R-58</td><td>FR</td></tr>",
                            "<tr><td>FR-R72R-60</td><td>FR</td></tr>",
                            "<tr><td>FR-R72Y-38</td><td>FR</td></tr>",
                            "<tr><td>FR-R72Y-40</td><td>FR</td></tr>",
                            "<tr><td>FR-R72Y-42</td><td>FR</td></tr>",
                            "<tr><td>FR-R72Y-44</td><td>FR</td></tr>",
                            "<tr><td>FR-R72Y-48</td><td>FR</td></tr>",
                            "<tr><td>FR-R92B-44</td><td>FR</td></tr>",
                            "<tr><td>FR-R92B-48</td><td>FR</td></tr>",
                            "<tr><td>FR-R92B-52</td><td>FR</td></tr>",
                            "<tr><td>FR-R92B-58</td><td>FR</td></tr>",
                            "<tr><td>FR-R92B-62</td><td>FR</td></tr>",
                            "<tr><td>FR-R92R-44</td><td>FR</td></tr>",
                            "<tr><td>FR-R92R-48</td><td>FR</td></tr>",
                            "<tr><td>FR-R92R-52</td><td>FR</td></tr>",
                            "<tr><td>FR-R92R-56</td><td>FR</td></tr>",
                            "<tr><td>FR-R92R-58</td><td>FR</td></tr>",
                            "<tr><td>FR-R92R-62</td><td>FR</td></tr>",
                            "<tr><td>FR-T67U-44</td><td>FR</td></tr>",
                            "<tr><td>FR-T67U-50</td><td>FR</td></tr>",
                            "<tr><td>FR-T67U-54</td><td>FR</td></tr>",
                            "<tr><td>FR-T67U-58</td><td>FR</td></tr>",
                            "<tr><td>FR-T67U-62</td><td>FR</td></tr>",
                            "<tr><td>FR-T67Y-44</td><td>FR</td></tr>",
                            "<tr><td>FR-T67Y-50</td><td>FR</td></tr>",
                            "<tr><td>FR-T67Y-54</td><td>FR</td></tr>",
                            "<tr><td>FR-T67Y-58</td><td>FR</td></tr>",
                            "<tr><td>FR-T67Y-62</td><td>FR</td></tr>",
                            "<tr><td>FR-T98U-46</td><td>FR</td></tr>",
                            "<tr><td>FR-T98U-50</td><td>FR</td></tr>",
                            "<tr><td>FR-T98U-54</td><td>FR</td></tr>",
                            "<tr><td>FR-T98U-60</td><td>FR</td></tr>",
                            "<tr><td>FR-T98Y-46</td><td>FR</td></tr>",
                            "<tr><td>FR-T98Y-50</td><td>FR</td></tr>",
                            "<tr><td>FR-T98Y-54</td><td>FR</td></tr>",
                            "<tr><td>FR-T98Y-60</td><td>FR</td></tr>",
                            "<tr><td>FW-1000</td><td>FW</td></tr>",
                            "<tr><td>FW-1200</td><td>FW</td></tr>",
                            "<tr><td>FW-1400</td><td>FW</td></tr>",
                            "<tr><td>FW-3400</td><td>FW</td></tr>",
                            "<tr><td>FW-3800</td><td>FW</td></tr>",
                            "<tr><td>FW-5160</td><td>FW</td></tr>",
                            "<tr><td>FW-5800</td><td>FW</td></tr>",
                            "<tr><td>FW-7160</td><td>FW</td></tr>",
                            "<tr><td>FW-9160</td><td>FW</td></tr>",
                            "<tr><td>FW-M423</td><td>FW</td></tr>",
                            "<tr><td>FW-M762</td><td>FW</td></tr>",
                            "<tr><td>FW-M928</td><td>FW</td></tr>",
                            "<tr><td>FW-R623</td><td>FW</td></tr>",
                            "<tr><td>FW-R762</td><td>FW</td></tr>",
                            "<tr><td>FW-R820</td><td>FW</td></tr>",
                            "<tr><td>FW-T905</td><td>FW</td></tr>",
                            "<tr><td>GL-F110-L</td><td>GL</td></tr>",
                            "<tr><td>GL-F110-M</td><td>GL</td></tr>",
                            "<tr><td>GL-F110-S</td><td>GL</td></tr>",
                            "<tr><td>GL-H102-L</td><td>GL</td></tr>",
                            "<tr><td>GL-H102-M</td><td>GL</td></tr>",
                            "<tr><td>GL-H102-S</td><td>GL</td></tr>",
                            "<tr><td>GP-0982</td><td>GP</td></tr>",
                            "<tr><td>GT-0820</td><td>GT</td></tr>",
                            "<tr><td>GT-1209</td><td>GT</td></tr>",
                            "<tr><td>GT-2908</td><td>GT</td></tr>",
                            "<tr><td>HB-M243</td><td>HB</td></tr>",
                            "<tr><td>HB-M763</td><td>HB</td></tr>",
                            "<tr><td>HB-M918</td><td>HB</td></tr>",
                            "<tr><td>HB-R504</td><td>HB</td></tr>",
                            "<tr><td>HB-R720</td><td>HB</td></tr>",
                            "<tr><td>HB-R956</td><td>HB</td></tr>",
                            "<tr><td>HB-T721</td><td>HB</td></tr>",
                            "<tr><td>HB-T928</td><td>HB</td></tr>",
                            "<tr><td>HJ-1213</td><td>HJ</td></tr>",
                            "<tr><td>HJ-1220</td><td>HJ</td></tr>",
                            "<tr><td>HJ-1420</td><td>HJ</td></tr>",
                            "<tr><td>HJ-1428</td><td>HJ</td></tr>",
                            "<tr><td>HJ-3410</td><td>HJ</td></tr>",
                            "<tr><td>HJ-3416</td><td>HJ</td></tr>",
                            "<tr><td>HJ-3816</td><td>HJ</td></tr>",
                            "<tr><td>HJ-3824</td><td>HJ</td></tr>",
                            "<tr><td>HJ-5161</td><td>HJ</td></tr>",
                            "<tr><td>HJ-5162</td><td>HJ</td></tr>",
                            "<tr><td>HJ-5811</td><td>HJ</td></tr>",
                            "<tr><td>HJ-5818</td><td>HJ</td></tr>",
                            "<tr><td>HJ-7161</td><td>HJ</td></tr>",
                            "<tr><td>HJ-7162</td><td>HJ</td></tr>",
                            "<tr><td>HJ-9080</td><td>HJ</td></tr>",
                            "<tr><td>HJ-9161</td><td>HJ</td></tr>",
                            "<tr><td>HL-U509</td><td>HL</td></tr>",
                            "<tr><td>HL-U509-B</td><td>HL</td></tr>",
                            "<tr><td>HL-U509-R</td><td>HL</td></tr>",
                            "<tr><td>HN-1024</td><td>HN</td></tr>",
                            "<tr><td>HN-1032</td><td>HN</td></tr>",
                            "<tr><td>HN-1213</td><td>HN</td></tr>",
                            "<tr><td>HN-1220</td><td>HN</td></tr>",
                            "<tr><td>HN-1224</td><td>HN</td></tr>",
                            "<tr><td>HN-1420</td><td>HN</td></tr>",
                            "<tr><td>HN-1428</td><td>HN</td></tr>",
                            "<tr><td>HN-3410</td><td>HN</td></tr>",
                            "<tr><td>HN-3416</td><td>HN</td></tr>",
                            "<tr><td>HN-3816</td><td>HN</td></tr>",
                            "<tr><td>HN-3824</td><td>HN</td></tr>",
                            "<tr><td>HN-4402</td><td>HN</td></tr>",
                            "<tr><td>HN-5161</td><td>HN</td></tr>",
                            "<tr><td>HN-5162</td><td>HN</td></tr>",
                            "<tr><td>HN-5400</td><td>HN</td></tr>",
                            "<tr><td>HN-5811</td><td>HN</td></tr>",
                            "<tr><td>HN-5818</td><td>HN</td></tr>",
                            "<tr><td>HN-6320</td><td>HN</td></tr>",
                            "<tr><td>HN-7161</td><td>HN</td></tr>",
                            "<tr><td>HN-7162</td><td>HN</td></tr>",
                            "<tr><td>HN-8320</td><td>HN</td></tr>",
                            "<tr><td>HN-9161</td><td>HN</td></tr>",
                            "<tr><td>HN-9168</td><td>HN</td></tr>",
                            "<tr><td>HS-0296</td><td>HS</td></tr>",
                            "<tr><td>HS-2451</td><td>HS</td></tr>",
                            "<tr><td>HS-3479</td><td>HS</td></tr>",
                            "<tr><td>HT-2981</td><td>HT</td></tr>",
                            "<tr><td>HT-8019</td><td>HT</td></tr>",
                            "<tr><td>HU-6280</td><td>HU</td></tr>",
                            "<tr><td>HU-8998</td><td>HU</td></tr>",
                            "<tr><td>HY-1023-70</td><td>HY</td></tr>",
                            "<tr><td>KW-4091</td><td>KW</td></tr>",
                            "<tr><td>LE-1000</td><td>LE</td></tr>",
                            "<tr><td>LE-1200</td><td>LE</td></tr>",
                            "<tr><td>LE-1201</td><td>LE</td></tr>",
                            "<tr><td>LE-1400</td><td>LE</td></tr>",
                            "<tr><td>LE-3800</td><td>LE</td></tr>",
                            "<tr><td>LE-5160</td><td>LE</td></tr>",
                            "<tr><td>LE-6000</td><td>LE</td></tr>",
                            "<tr><td>LE-7160</td><td>LE</td></tr>",
                            "<tr><td>LE-8000</td><td>LE</td></tr>",
                            "<tr><td>LI-1000</td><td>LI</td></tr>",
                            "<tr><td>LI-1200</td><td>LI</td></tr>",
                            "<tr><td>LI-1201</td><td>LI</td></tr>",
                            "<tr><td>LI-1400</td><td>LI</td></tr>",
                            "<tr><td>LI-3800</td><td>LI</td></tr>",
                            "<tr><td>LI-5160</td><td>LI</td></tr>",
                            "<tr><td>LI-5800</td><td>LI</td></tr>",
                            "<tr><td>LI-6000</td><td>LI</td></tr>",
                            "<tr><td>LI-7160</td><td>LI</td></tr>",
                            "<tr><td>LI-8000</td><td>LI</td></tr>",
                            "<tr><td>LJ-0192-L</td><td>LJ</td></tr>",
                            "<tr><td>LJ-0192-M</td><td>LJ</td></tr>",
                            "<tr><td>LJ-0192-S</td><td>LJ</td></tr>",
                            "<tr><td>LJ-0192-X</td><td>LJ</td></tr>",
                            "<tr><td>LJ-1213</td><td>LJ</td></tr>",
                            "<tr><td>LJ-1220</td><td>LJ</td></tr>",
                            "<tr><td>LJ-1420</td><td>LJ</td></tr>",
                            "<tr><td>LJ-1428</td><td>LJ</td></tr>",
                            "<tr><td>LJ-3410</td><td>LJ</td></tr>",
                            "<tr><td>LJ-3416</td><td>LJ</td></tr>",
                            "<tr><td>LJ-3816</td><td>LJ</td></tr>",
                            "<tr><td>LJ-3824</td><td>LJ</td></tr>",
                            "<tr><td>LJ-5161</td><td>LJ</td></tr>",
                            "<tr><td>LJ-5162</td><td>LJ</td></tr>",
                            "<tr><td>LJ-5811</td><td>LJ</td></tr>",
                            "<tr><td>LJ-5818</td><td>LJ</td></tr>",
                            "<tr><td>LJ-7161</td><td>LJ</td></tr>",
                            "<tr><td>LJ-7162</td><td>LJ</td></tr>",
                            "<tr><td>LJ-9080</td><td>LJ</td></tr>",
                            "<tr><td>LJ-9161</td><td>LJ</td></tr>",
                            "<tr><td>LN-1024</td><td>LN</td></tr>",
                            "<tr><td>LN-1032</td><td>LN</td></tr>",
                            "<tr><td>LN-1213</td><td>LN</td></tr>",
                            "<tr><td>LN-1220</td><td>LN</td></tr>",
                            "<tr><td>LN-1224</td><td>LN</td></tr>",
                            "<tr><td>LN-1420</td><td>LN</td></tr>",
                            "<tr><td>LN-1428</td><td>LN</td></tr>",
                            "<tr><td>LN-3410</td><td>LN</td></tr>",
                            "<tr><td>LN-3416</td><td>LN</td></tr>",
                            "<tr><td>LN-3816</td><td>LN</td></tr>",
                            "<tr><td>LN-3824</td><td>LN</td></tr>",
                            "<tr><td>LN-4400</td><td>LN</td></tr>",
                            "<tr><td>LN-5161</td><td>LN</td></tr>",
                            "<tr><td>LN-5162</td><td>LN</td></tr>",
                            "<tr><td>LN-5400</td><td>LN</td></tr>",
                            "<tr><td>LN-5811</td><td>LN</td></tr>",
                            "<tr><td>LN-5818</td><td>LN</td></tr>",
                            "<tr><td>LN-6320</td><td>LN</td></tr>",
                            "<tr><td>LN-7161</td><td>LN</td></tr>",
                            "<tr><td>LN-7162</td><td>LN</td></tr>",
                            "<tr><td>LN-8320</td><td>LN</td></tr>",
                            "<tr><td>LN-9080</td><td>LN</td></tr>",
                            "<tr><td>LN-9161</td><td>LN</td></tr>",
                            "<tr><td>LO-C100</td><td>LO</td></tr>",
                            "<tr><td>LR-2398</td><td>LR</td></tr>",
                            "<tr><td>LR-8520</td><td>LR</td></tr>",
                            "<tr><td>LT-H902</td><td>LT</td></tr>",
                            "<tr><td>LT-H903</td><td>LT</td></tr>",
                            "<tr><td>LT-T990</td><td>LT</td></tr>",
                            "<tr><td>LW-1000</td><td>LW</td></tr>",
                            "<tr><td>LW-1200</td><td>LW</td></tr>",
                            "<tr><td>LW-1201</td><td>LW</td></tr>",
                            "<tr><td>LW-1400</td><td>LW</td></tr>",
                            "<tr><td>LW-3400</td><td>LW</td></tr>",
                            "<tr><td>LW-3800</td><td>LW</td></tr>",
                            "<tr><td>LW-4000</td><td>LW</td></tr>",
                            "<tr><td>LW-5160</td><td>LW</td></tr>",
                            "<tr><td>LW-5800</td><td>LW</td></tr>",
                            "<tr><td>LW-6000</td><td>LW</td></tr>",
                            "<tr><td>LW-7160</td><td>LW</td></tr>",
                            "<tr><td>LW-8000</td><td>LW</td></tr>",
                            "<tr><td>LW-9160</td><td>LW</td></tr>",
                            "<tr><td>MA-7075</td><td>MA</td></tr>",
                            "<tr><td>MB-2024</td><td>MB</td></tr>",
                            "<tr><td>MB-6061</td><td>MB</td></tr>",
                            "<tr><td>MP-2066</td><td>MP</td></tr>",
                            "<tr><td>MP-2503</td><td>MP</td></tr>",
                            "<tr><td>MP-4960</td><td>MP</td></tr>",
                            "<tr><td>MS-0253</td><td>MS</td></tr>",
                            "<tr><td>MS-1256</td><td>MS</td></tr>",
                            "<tr><td>MS-1981</td><td>MS</td></tr>",
                            "<tr><td>MS-2259</td><td>MS</td></tr>",
                            "<tr><td>MS-2341</td><td>MS</td></tr>",
                            "<tr><td>MS-2348</td><td>MS</td></tr>",
                            "<tr><td>MS-6061</td><td>MS</td></tr>",
                            "<tr><td>MT-1000</td><td>MT</td></tr>",
                            "<tr><td>NI-4127</td><td>NI</td></tr>",
                            "<tr><td>NI-9522</td><td>NI</td></tr>",
                            "<tr><td>PA-187B</td><td>PA</td></tr>",
                            "<tr><td>PA-361R</td><td>PA</td></tr>",
                            "<tr><td>PA-529S</td><td>PA</td></tr>",
                            "<tr><td>PA-632U</td><td>PA</td></tr>",
                            "<tr><td>PA-823Y</td><td>PA</td></tr>",
                            "<tr><td>PA-T100</td><td>PA</td></tr>",
                            "<tr><td>PB-6109</td><td>PB</td></tr>",
                            "<tr><td>PD-M282</td><td>PD</td></tr>",
                            "<tr><td>PD-M340</td><td>PD</td></tr>",
                            "<tr><td>PD-M562</td><td>PD</td></tr>",
                            "<tr><td>PD-R347</td><td>PD</td></tr>",
                            "<tr><td>PD-R563</td><td>PD</td></tr>",
                            "<tr><td>PD-R853</td><td>PD</td></tr>",
                            "<tr><td>PD-T852</td><td>PD</td></tr>",
                            "<tr><td>PK-7098</td><td>PK</td></tr>",
                            "<tr><td>PU-0452</td><td>PU</td></tr>",
                            "<tr><td>PU-M044</td><td>PU</td></tr>",
                            "<tr><td>RA-2345</td><td>RA</td></tr>",
                            "<tr><td>RA-7490</td><td>RA</td></tr>",
                            "<tr><td>RA-H123</td><td>RA</td></tr>",
                            "<tr><td>RB-9231</td><td>RB</td></tr>",
                            "<tr><td>RC-0291</td><td>RC</td></tr>",
                            "<tr><td>RD-2308</td><td>RD</td></tr>",
                            "<tr><td>RF-9198</td><td>RF</td></tr>",
                            "<tr><td>RM-M464</td><td>RM</td></tr>",
                            "<tr><td>RM-M692</td><td>RM</td></tr>",
                            "<tr><td>RM-M823</td><td>RM</td></tr>",
                            "<tr><td>RM-R436</td><td>RM</td></tr>",
                            "<tr><td>RM-R600</td><td>RM</td></tr>",
                            "<tr><td>RM-R800</td><td>RM</td></tr>",
                            "<tr><td>RM-T801</td><td>RM</td></tr>",
                            "<tr><td>RW-M423</td><td>RW</td></tr>",
                            "<tr><td>RW-M762</td><td>RW</td></tr>",
                            "<tr><td>RW-M928</td><td>RW</td></tr>",
                            "<tr><td>RW-R623</td><td>RW</td></tr>",
                            "<tr><td>RW-R762</td><td>RW</td></tr>",
                            "<tr><td>RW-R820</td><td>RW</td></tr>",
                            "<tr><td>RW-T905</td><td>RW</td></tr>",
                            "<tr><td>SA-M198</td><td>SA</td></tr>",
                            "<tr><td>SA-M237</td><td>SA</td></tr>",
                            "<tr><td>SA-M687</td><td>SA</td></tr>",
                            "<tr><td>SA-R127</td><td>SA</td></tr>",
                            "<tr><td>SA-R430</td><td>SA</td></tr>",
                            "<tr><td>SA-R522</td><td>SA</td></tr>",
                            "<tr><td>SA-T467</td><td>SA</td></tr>",
                            "<tr><td>SA-T612</td><td>SA</td></tr>",
                            "<tr><td>SA-T872</td><td>SA</td></tr>",
                            "<tr><td>SB-M891-L</td><td>SB</td></tr>",
                            "<tr><td>SB-M891-M</td><td>SB</td></tr>",
                            "<tr><td>SB-M891-S</td><td>SB</td></tr>",
                            "<tr><td>SD-2342</td><td>SD</td></tr>",
                            "<tr><td>SD-9872</td><td>SD</td></tr>",
                            "<tr><td>SE-M236</td><td>SE</td></tr>",
                            "<tr><td>SE-M798</td><td>SE</td></tr>",
                            "<tr><td>SE-M940</td><td>SE</td></tr>",
                            "<tr><td>SE-R581</td><td>SE</td></tr>",
                            "<tr><td>SE-R908</td><td>SE</td></tr>",
                            "<tr><td>SE-R995</td><td>SE</td></tr>",
                            "<tr><td>SE-T312</td><td>SE</td></tr>",
                            "<tr><td>SE-T762</td><td>SE</td></tr>",
                            "<tr><td>SE-T924</td><td>SE</td></tr>",
                            "<tr><td>SH-4562</td><td>SH</td></tr>",
                            "<tr><td>SH-9312</td><td>SH</td></tr>",
                            "<tr><td>SH-M897-L</td><td>SH</td></tr>",
                            "<tr><td>SH-M897-M</td><td>SH</td></tr>",
                            "<tr><td>SH-M897-S</td><td>SH</td></tr>",
                            "<tr><td>SH-M897-X</td><td>SH</td></tr>",
                            "<tr><td>SH-W890-L</td><td>SH</td></tr>",
                            "<tr><td>SH-W890-M</td><td>SH</td></tr>",
                            "<tr><td>SH-W890-S</td><td>SH</td></tr>",
                            "<tr><td>SJ-0194-L</td><td>SJ</td></tr>",
                            "<tr><td>SJ-0194-M</td><td>SJ</td></tr>",
                            "<tr><td>SJ-0194-S</td><td>SJ</td></tr>",
                            "<tr><td>SJ-0194-X</td><td>SJ</td></tr>",
                            "<tr><td>SK-9283</td><td>SK</td></tr>",
                            "<tr><td>SL-0931</td><td>SL</td></tr>",
                            "<tr><td>SM-9087</td><td>SM</td></tr>",
                            "<tr><td>SO-B909-L</td><td>SO</td></tr>",
                            "<tr><td>SO-B909-M</td><td>SO</td></tr>",
                            "<tr><td>SO-R809-L</td><td>SO</td></tr>",
                            "<tr><td>SO-R809-M</td><td>SO</td></tr>",
                            "<tr><td>SP-2981</td><td>SP</td></tr>",
                            "<tr><td>SR-2098</td><td>SR</td></tr>",
                            "<tr><td>SS-2985</td><td>SS</td></tr>",
                            "<tr><td>ST-1401</td><td>ST</td></tr>",
                            "<tr><td>ST-9828</td><td>ST</td></tr>",
                            "<tr><td>TG-W091-L</td><td>TG</td></tr>",
                            "<tr><td>TG-W091-M</td><td>TG</td></tr>",
                            "<tr><td>TG-W091-S</td><td>TG</td></tr>",
                            "<tr><td>TI-M267</td><td>TI</td></tr>",
                            "<tr><td>TI-M602</td><td>TI</td></tr>",
                            "<tr><td>TI-M823</td><td>TI</td></tr>",
                            "<tr><td>TI-R092</td><td>TI</td></tr>",
                            "<tr><td>TI-R628</td><td>TI</td></tr>",
                            "<tr><td>TI-R982</td><td>TI</td></tr>",
                            "<tr><td>TI-T723</td><td>TI</td></tr>",
                            "<tr><td>TO-2301</td><td>TO</td></tr>",
                            "<tr><td>TP-0923</td><td>TP</td></tr>",
                            "<tr><td>TT-M928</td><td>TT</td></tr>",
                            "<tr><td>TT-R982</td><td>TT</td></tr>",
                            "<tr><td>TT-T092</td><td>TT</td></tr>",
                            "<tr><td>VE-C304-L</td><td>VE</td></tr>",
                            "<tr><td>VE-C304-M</td><td>VE</td></tr>",
                            "<tr><td>VE-C304-S</td><td>VE</td></tr>",
                            "<tr><td>WB-H098</td><td>WB</td></tr>",
                            "</table>"
                        ]
                    }
                }
            ],
            "execution_count": 1
        },
        {
            "cell_type": "markdown",
            "source": [
                "### Question 4: SUBSTRING Function Syntax\n",
                "\n",
                "**Explanation:**\n",
                "\n",
                "The syntax for the `SUBSTRING` function is:\n",
                "\n",
                "SUBSTRING(expression, start, length)\n",
                "\n",
                "- **expression**: The string from which to extract the substring.\n",
                "- **start**: The starting position of the substring (1-based index).\n",
                "- **length**: The number of characters to return."
            ],
            "metadata": {
                "language": "sql",
                "azdata_cell_guid": "f51c5ea8-4bc4-433a-8817-15b0cfcfcf57"
            },
            "attachments": {}
        },
        {
            "cell_type": "markdown",
            "source": [
                "### Question 5: Counting Characters or Bytes in a String"
            ],
            "metadata": {
                "language": "sql",
                "azdata_cell_guid": "fdef2984-4f59-463f-a03c-07d46048bce6"
            },
            "attachments": {}
        },
        {
            "cell_type": "code",
            "source": [
                "SELECT LEN(Comments) AS NumberOfCharacters\r\n",
                "FROM Production.ProductReview;"
            ],
            "metadata": {
                "language": "sql",
                "azdata_cell_guid": "74e1a723-3392-453b-a7c2-fd3d86e977b6"
            },
            "outputs": [
                {
                    "output_type": "display_data",
                    "data": {
                        "text/html": "(4 rows affected)"
                    },
                    "metadata": {}
                },
                {
                    "output_type": "display_data",
                    "data": {
                        "text/html": "Total execution time: 00:00:00.049"
                    },
                    "metadata": {}
                },
                {
                    "output_type": "execute_result",
                    "metadata": {},
                    "execution_count": 3,
                    "data": {
                        "application/vnd.dataresource+json": {
                            "schema": {
                                "fields": [
                                    {
                                        "name": "NumberOfCharacters"
                                    }
                                ]
                            },
                            "data": [
                                {
                                    "NumberOfCharacters": "514"
                                },
                                {
                                    "NumberOfCharacters": "341"
                                },
                                {
                                    "NumberOfCharacters": "254"
                                },
                                {
                                    "NumberOfCharacters": "3812"
                                }
                            ]
                        },
                        "text/html": [
                            "<table>",
                            "<tr><th>NumberOfCharacters</th></tr>",
                            "<tr><td>514</td></tr>",
                            "<tr><td>341</td></tr>",
                            "<tr><td>254</td></tr>",
                            "<tr><td>3812</td></tr>",
                            "</table>"
                        ]
                    }
                }
            ],
            "execution_count": 3
        },
        {
            "cell_type": "markdown",
            "source": [
                "### Question 6: Replacing Part of a String"
            ],
            "metadata": {
                "language": "sql",
                "azdata_cell_guid": "7a398138-db9e-4c26-ba15-b335cb5d6f9d"
            },
            "attachments": {}
        },
        {
            "cell_type": "code",
            "source": [
                "SELECT REPLACE(Name, 'centimeter', 'cm') AS ModifiedName\r\n",
                "FROM Production.UnitMeasure;"
            ],
            "metadata": {
                "language": "sql",
                "azdata_cell_guid": "146a613e-0f19-4d6e-a676-4432e0d13ae3"
            },
            "outputs": [
                {
                    "output_type": "display_data",
                    "data": {
                        "text/html": "(38 rows affected)"
                    },
                    "metadata": {}
                },
                {
                    "output_type": "display_data",
                    "data": {
                        "text/html": "Total execution time: 00:00:00.064"
                    },
                    "metadata": {}
                },
                {
                    "output_type": "execute_result",
                    "metadata": {},
                    "execution_count": 4,
                    "data": {
                        "application/vnd.dataresource+json": {
                            "schema": {
                                "fields": [
                                    {
                                        "name": "ModifiedName"
                                    }
                                ]
                            },
                            "data": [
                                {
                                    "ModifiedName": "Bottle"
                                },
                                {
                                    "ModifiedName": "Boxes"
                                },
                                {
                                    "ModifiedName": "Canister"
                                },
                                {
                                    "ModifiedName": "Carton"
                                },
                                {
                                    "ModifiedName": "Case"
                                },
                                {
                                    "ModifiedName": "Celsius"
                                },
                                {
                                    "ModifiedName": "cm"
                                },
                                {
                                    "ModifiedName": "Container"
                                },
                                {
                                    "ModifiedName": "Crate"
                                },
                                {
                                    "ModifiedName": "Cubic cm"
                                },
                                {
                                    "ModifiedName": "Cubic decimeter"
                                },
                                {
                                    "ModifiedName": "Cubic foot"
                                },
                                {
                                    "ModifiedName": "Cubic meter"
                                },
                                {
                                    "ModifiedName": "Cubic meters"
                                },
                                {
                                    "ModifiedName": "Decimeter"
                                },
                                {
                                    "ModifiedName": "Dozen"
                                },
                                {
                                    "ModifiedName": "Each"
                                },
                                {
                                    "ModifiedName": "Gallon"
                                },
                                {
                                    "ModifiedName": "Gram"
                                },
                                {
                                    "ModifiedName": "Inch"
                                },
                                {
                                    "ModifiedName": "Kilogram"
                                },
                                {
                                    "ModifiedName": "Kilogram/cubic meter"
                                },
                                {
                                    "ModifiedName": "Kilometer"
                                },
                                {
                                    "ModifiedName": "Kiloton"
                                },
                                {
                                    "ModifiedName": "Liter"
                                },
                                {
                                    "ModifiedName": "Meter"
                                },
                                {
                                    "ModifiedName": "Milligram"
                                },
                                {
                                    "ModifiedName": "Milliliter"
                                },
                                {
                                    "ModifiedName": "Millimeter"
                                },
                                {
                                    "ModifiedName": "Ounces"
                                },
                                {
                                    "ModifiedName": "Pack"
                                },
                                {
                                    "ModifiedName": "Pallet"
                                },
                                {
                                    "ModifiedName": "Percentage"
                                },
                                {
                                    "ModifiedName": "Piece"
                                },
                                {
                                    "ModifiedName": "Pint, US liquid"
                                },
                                {
                                    "ModifiedName": "Square cm"
                                },
                                {
                                    "ModifiedName": "Square meter"
                                },
                                {
                                    "ModifiedName": "US pound"
                                }
                            ]
                        },
                        "text/html": [
                            "<table>",
                            "<tr><th>ModifiedName</th></tr>",
                            "<tr><td>Bottle</td></tr>",
                            "<tr><td>Boxes</td></tr>",
                            "<tr><td>Canister</td></tr>",
                            "<tr><td>Carton</td></tr>",
                            "<tr><td>Case</td></tr>",
                            "<tr><td>Celsius</td></tr>",
                            "<tr><td>cm</td></tr>",
                            "<tr><td>Container</td></tr>",
                            "<tr><td>Crate</td></tr>",
                            "<tr><td>Cubic cm</td></tr>",
                            "<tr><td>Cubic decimeter</td></tr>",
                            "<tr><td>Cubic foot</td></tr>",
                            "<tr><td>Cubic meter</td></tr>",
                            "<tr><td>Cubic meters</td></tr>",
                            "<tr><td>Decimeter</td></tr>",
                            "<tr><td>Dozen</td></tr>",
                            "<tr><td>Each</td></tr>",
                            "<tr><td>Gallon</td></tr>",
                            "<tr><td>Gram</td></tr>",
                            "<tr><td>Inch</td></tr>",
                            "<tr><td>Kilogram</td></tr>",
                            "<tr><td>Kilogram/cubic meter</td></tr>",
                            "<tr><td>Kilometer</td></tr>",
                            "<tr><td>Kiloton</td></tr>",
                            "<tr><td>Liter</td></tr>",
                            "<tr><td>Meter</td></tr>",
                            "<tr><td>Milligram</td></tr>",
                            "<tr><td>Milliliter</td></tr>",
                            "<tr><td>Millimeter</td></tr>",
                            "<tr><td>Ounces</td></tr>",
                            "<tr><td>Pack</td></tr>",
                            "<tr><td>Pallet</td></tr>",
                            "<tr><td>Percentage</td></tr>",
                            "<tr><td>Piece</td></tr>",
                            "<tr><td>Pint, US liquid</td></tr>",
                            "<tr><td>Square cm</td></tr>",
                            "<tr><td>Square meter</td></tr>",
                            "<tr><td>US pound</td></tr>",
                            "</table>"
                        ]
                    }
                }
            ],
            "execution_count": 4
        },
        {
            "cell_type": "markdown",
            "source": [
                "### Question 7: Inserting a String into Another String\n",
                "\n",
                "**Explanation:**\n",
                "\n",
                "The function used to insert a string into another string is `STUFF`. The syntax is:\n",
                "\n",
                "```\n",
                "STUFF(expression, start, length, insert_expression)\n",
                "\n",
                "```\n",
                "\n",
                "- **expression**: The string to be modified.\n",
                "- **start**: The position at which to start deleting and inserting characters.\n",
                "- **length**: The number of characters to delete.\n",
                "- **insert\\_expression**: The string to insert into the `expression`."
            ],
            "metadata": {
                "language": "sql",
                "azdata_cell_guid": "af443a4c-ad4d-4166-b9f5-4f8beceb02db"
            },
            "attachments": {}
        },
        {
            "cell_type": "markdown",
            "source": [
                "### Question 8: Changing Character Case (UPPER and LOWER)"
            ],
            "metadata": {
                "language": "sql",
                "azdata_cell_guid": "b4324f9f-45ca-412d-95f2-32945e0d4179"
            },
            "attachments": {}
        },
        {
            "cell_type": "code",
            "source": [
                "SELECT Name, UPPER(Name) AS Caps, LOWER(Name) AS Lower\r\n",
                "FROM Production.ScrapReason;"
            ],
            "metadata": {
                "language": "sql",
                "azdata_cell_guid": "b36ab03b-a050-4a7c-a3d1-242f6497924d"
            },
            "outputs": [
                {
                    "output_type": "display_data",
                    "data": {
                        "text/html": "(16 rows affected)"
                    },
                    "metadata": {}
                },
                {
                    "output_type": "display_data",
                    "data": {
                        "text/html": "Total execution time: 00:00:00.066"
                    },
                    "metadata": {}
                },
                {
                    "output_type": "execute_result",
                    "metadata": {},
                    "execution_count": 5,
                    "data": {
                        "application/vnd.dataresource+json": {
                            "schema": {
                                "fields": [
                                    {
                                        "name": "Name"
                                    },
                                    {
                                        "name": "Caps"
                                    },
                                    {
                                        "name": "Lower"
                                    }
                                ]
                            },
                            "data": [
                                {
                                    "Name": "Brake assembly not as ordered",
                                    "Caps": "BRAKE ASSEMBLY NOT AS ORDERED",
                                    "Lower": "brake assembly not as ordered"
                                },
                                {
                                    "Name": "Color incorrect",
                                    "Caps": "COLOR INCORRECT",
                                    "Lower": "color incorrect"
                                },
                                {
                                    "Name": "Drill pattern incorrect",
                                    "Caps": "DRILL PATTERN INCORRECT",
                                    "Lower": "drill pattern incorrect"
                                },
                                {
                                    "Name": "Drill size too large",
                                    "Caps": "DRILL SIZE TOO LARGE",
                                    "Lower": "drill size too large"
                                },
                                {
                                    "Name": "Drill size too small",
                                    "Caps": "DRILL SIZE TOO SMALL",
                                    "Lower": "drill size too small"
                                },
                                {
                                    "Name": "Gouge in metal",
                                    "Caps": "GOUGE IN METAL",
                                    "Lower": "gouge in metal"
                                },
                                {
                                    "Name": "Handling damage",
                                    "Caps": "HANDLING DAMAGE",
                                    "Lower": "handling damage"
                                },
                                {
                                    "Name": "Paint process failed",
                                    "Caps": "PAINT PROCESS FAILED",
                                    "Lower": "paint process failed"
                                },
                                {
                                    "Name": "Primer process failed",
                                    "Caps": "PRIMER PROCESS FAILED",
                                    "Lower": "primer process failed"
                                },
                                {
                                    "Name": "Seat assembly not as ordered",
                                    "Caps": "SEAT ASSEMBLY NOT AS ORDERED",
                                    "Lower": "seat assembly not as ordered"
                                },
                                {
                                    "Name": "Stress test failed",
                                    "Caps": "STRESS TEST FAILED",
                                    "Lower": "stress test failed"
                                },
                                {
                                    "Name": "Thermoform temperature too high",
                                    "Caps": "THERMOFORM TEMPERATURE TOO HIGH",
                                    "Lower": "thermoform temperature too high"
                                },
                                {
                                    "Name": "Thermoform temperature too low",
                                    "Caps": "THERMOFORM TEMPERATURE TOO LOW",
                                    "Lower": "thermoform temperature too low"
                                },
                                {
                                    "Name": "Trim length too long",
                                    "Caps": "TRIM LENGTH TOO LONG",
                                    "Lower": "trim length too long"
                                },
                                {
                                    "Name": "Trim length too short",
                                    "Caps": "TRIM LENGTH TOO SHORT",
                                    "Lower": "trim length too short"
                                },
                                {
                                    "Name": "Wheel misaligned",
                                    "Caps": "WHEEL MISALIGNED",
                                    "Lower": "wheel misaligned"
                                }
                            ]
                        },
                        "text/html": [
                            "<table>",
                            "<tr><th>Name</th><th>Caps</th><th>Lower</th></tr>",
                            "<tr><td>Brake assembly not as ordered</td><td>BRAKE ASSEMBLY NOT AS ORDERED</td><td>brake assembly not as ordered</td></tr>",
                            "<tr><td>Color incorrect</td><td>COLOR INCORRECT</td><td>color incorrect</td></tr>",
                            "<tr><td>Drill pattern incorrect</td><td>DRILL PATTERN INCORRECT</td><td>drill pattern incorrect</td></tr>",
                            "<tr><td>Drill size too large</td><td>DRILL SIZE TOO LARGE</td><td>drill size too large</td></tr>",
                            "<tr><td>Drill size too small</td><td>DRILL SIZE TOO SMALL</td><td>drill size too small</td></tr>",
                            "<tr><td>Gouge in metal</td><td>GOUGE IN METAL</td><td>gouge in metal</td></tr>",
                            "<tr><td>Handling damage</td><td>HANDLING DAMAGE</td><td>handling damage</td></tr>",
                            "<tr><td>Paint process failed</td><td>PAINT PROCESS FAILED</td><td>paint process failed</td></tr>",
                            "<tr><td>Primer process failed</td><td>PRIMER PROCESS FAILED</td><td>primer process failed</td></tr>",
                            "<tr><td>Seat assembly not as ordered</td><td>SEAT ASSEMBLY NOT AS ORDERED</td><td>seat assembly not as ordered</td></tr>",
                            "<tr><td>Stress test failed</td><td>STRESS TEST FAILED</td><td>stress test failed</td></tr>",
                            "<tr><td>Thermoform temperature too high</td><td>THERMOFORM TEMPERATURE TOO HIGH</td><td>thermoform temperature too high</td></tr>",
                            "<tr><td>Thermoform temperature too low</td><td>THERMOFORM TEMPERATURE TOO LOW</td><td>thermoform temperature too low</td></tr>",
                            "<tr><td>Trim length too long</td><td>TRIM LENGTH TOO LONG</td><td>trim length too long</td></tr>",
                            "<tr><td>Trim length too short</td><td>TRIM LENGTH TOO SHORT</td><td>trim length too short</td></tr>",
                            "<tr><td>Wheel misaligned</td><td>WHEEL MISALIGNED</td><td>wheel misaligned</td></tr>",
                            "</table>"
                        ]
                    }
                }
            ],
            "execution_count": 5
        },
        {
            "cell_type": "markdown",
            "source": [
                "### Question 9a: Removing Leading and Trailing Blanks\n",
                "\n",
                "**Explanation:**\n",
                "\n",
                "The two functions used to trim leading and trailing blanks from a string are:\n",
                "\n",
                "- **LTRIM**: Removes leading blanks (spaces) from a string.\n",
                "- **RTRIM**: Removes trailing blanks (spaces) from a string."
            ],
            "metadata": {
                "azdata_cell_guid": "6eeddd50-8bc2-4b97-a6ad-046a65a3af28"
            },
            "attachments": {}
        },
        {
            "cell_type": "markdown",
            "source": [
                "### Question 9b: Repeat an Expression N Times\n",
                "\n",
                "**Explanation:**\n",
                "\n",
                "The query `SELECT REPLICATE('SQL ', 10)` repeats the string 'SQL ' 10 times. The output would be:\n",
                "\n",
                "```\n",
                "SQL SQL SQL SQL SQL SQL SQL SQL SQL SQL \n",
                "```"
            ],
            "metadata": {
                "azdata_cell_guid": "9d638c38-a40f-441f-a882-58ccab70fb23"
            },
            "attachments": {}
        },
        {
            "cell_type": "markdown",
            "source": [
                "### Question 9c: Repeat a Blank Space N Times"
            ],
            "metadata": {
                "azdata_cell_guid": "dbaa4527-f273-4f02-be0f-7653150be999"
            },
            "attachments": {}
        },
        {
            "cell_type": "code",
            "source": [
                "SELECT CONCAT(City, REPLICATE(' ', 20), PostalCode) AS CityPostalCode\r\n",
                "FROM Person.Address\r\n",
                "WHERE City = 'Lakewood';"
            ],
            "metadata": {
                "azdata_cell_guid": "7474b5af-4f90-4e27-b4d1-1c8ed5bdc383",
                "language": "sql"
            },
            "outputs": [
                {
                    "output_type": "display_data",
                    "data": {
                        "text/html": "(85 rows affected)"
                    },
                    "metadata": {}
                },
                {
                    "output_type": "display_data",
                    "data": {
                        "text/html": "Total execution time: 00:00:00.034"
                    },
                    "metadata": {}
                },
                {
                    "output_type": "execute_result",
                    "metadata": {},
                    "execution_count": 6,
                    "data": {
                        "application/vnd.dataresource+json": {
                            "schema": {
                                "fields": [
                                    {
                                        "name": "CityPostalCode"
                                    }
                                ]
                            },
                            "data": [
                                {
                                    "CityPostalCode": "Lakewood                    90712"
                                },
                                {
                                    "CityPostalCode": "Lakewood                    90712"
                                },
                                {
                                    "CityPostalCode": "Lakewood                    90712"
                                },
                                {
                                    "CityPostalCode": "Lakewood                    90712"
                                },
                                {
                                    "CityPostalCode": "Lakewood                    90712"
                                },
                                {
                                    "CityPostalCode": "Lakewood                    90712"
                                },
                                {
                                    "CityPostalCode": "Lakewood                    90712"
                                },
                                {
                                    "CityPostalCode": "Lakewood                    90712"
                                },
                                {
                                    "CityPostalCode": "Lakewood                    90712"
                                },
                                {
                                    "CityPostalCode": "Lakewood                    90712"
                                },
                                {
                                    "CityPostalCode": "Lakewood                    90712"
                                },
                                {
                                    "CityPostalCode": "Lakewood                    90712"
                                },
                                {
                                    "CityPostalCode": "Lakewood                    90712"
                                },
                                {
                                    "CityPostalCode": "Lakewood                    90712"
                                },
                                {
                                    "CityPostalCode": "Lakewood                    90712"
                                },
                                {
                                    "CityPostalCode": "Lakewood                    90712"
                                },
                                {
                                    "CityPostalCode": "Lakewood                    90712"
                                },
                                {
                                    "CityPostalCode": "Lakewood                    90712"
                                },
                                {
                                    "CityPostalCode": "Lakewood                    90712"
                                },
                                {
                                    "CityPostalCode": "Lakewood                    90712"
                                },
                                {
                                    "CityPostalCode": "Lakewood                    90712"
                                },
                                {
                                    "CityPostalCode": "Lakewood                    90712"
                                },
                                {
                                    "CityPostalCode": "Lakewood                    90712"
                                },
                                {
                                    "CityPostalCode": "Lakewood                    90712"
                                },
                                {
                                    "CityPostalCode": "Lakewood                    90712"
                                },
                                {
                                    "CityPostalCode": "Lakewood                    90712"
                                },
                                {
                                    "CityPostalCode": "Lakewood                    90712"
                                },
                                {
                                    "CityPostalCode": "Lakewood                    90712"
                                },
                                {
                                    "CityPostalCode": "Lakewood                    90712"
                                },
                                {
                                    "CityPostalCode": "Lakewood                    90712"
                                },
                                {
                                    "CityPostalCode": "Lakewood                    90712"
                                },
                                {
                                    "CityPostalCode": "Lakewood                    90712"
                                },
                                {
                                    "CityPostalCode": "Lakewood                    63301"
                                },
                                {
                                    "CityPostalCode": "Lakewood                    90712"
                                },
                                {
                                    "CityPostalCode": "Lakewood                    90712"
                                },
                                {
                                    "CityPostalCode": "Lakewood                    90712"
                                },
                                {
                                    "CityPostalCode": "Lakewood                    90712"
                                },
                                {
                                    "CityPostalCode": "Lakewood                    90712"
                                },
                                {
                                    "CityPostalCode": "Lakewood                    90712"
                                },
                                {
                                    "CityPostalCode": "Lakewood                    90712"
                                },
                                {
                                    "CityPostalCode": "Lakewood                    90712"
                                },
                                {
                                    "CityPostalCode": "Lakewood                    90712"
                                },
                                {
                                    "CityPostalCode": "Lakewood                    90712"
                                },
                                {
                                    "CityPostalCode": "Lakewood                    90712"
                                },
                                {
                                    "CityPostalCode": "Lakewood                    90712"
                                },
                                {
                                    "CityPostalCode": "Lakewood                    90712"
                                },
                                {
                                    "CityPostalCode": "Lakewood                    90712"
                                },
                                {
                                    "CityPostalCode": "Lakewood                    90712"
                                },
                                {
                                    "CityPostalCode": "Lakewood                    90712"
                                },
                                {
                                    "CityPostalCode": "Lakewood                    90712"
                                },
                                {
                                    "CityPostalCode": "Lakewood                    90712"
                                },
                                {
                                    "CityPostalCode": "Lakewood                    90712"
                                },
                                {
                                    "CityPostalCode": "Lakewood                    90712"
                                },
                                {
                                    "CityPostalCode": "Lakewood                    90712"
                                },
                                {
                                    "CityPostalCode": "Lakewood                    90712"
                                },
                                {
                                    "CityPostalCode": "Lakewood                    90712"
                                },
                                {
                                    "CityPostalCode": "Lakewood                    90712"
                                },
                                {
                                    "CityPostalCode": "Lakewood                    90712"
                                },
                                {
                                    "CityPostalCode": "Lakewood                    90712"
                                },
                                {
                                    "CityPostalCode": "Lakewood                    90712"
                                },
                                {
                                    "CityPostalCode": "Lakewood                    90712"
                                },
                                {
                                    "CityPostalCode": "Lakewood                    90712"
                                },
                                {
                                    "CityPostalCode": "Lakewood                    90712"
                                },
                                {
                                    "CityPostalCode": "Lakewood                    90712"
                                },
                                {
                                    "CityPostalCode": "Lakewood                    90712"
                                },
                                {
                                    "CityPostalCode": "Lakewood                    90712"
                                },
                                {
                                    "CityPostalCode": "Lakewood                    90712"
                                },
                                {
                                    "CityPostalCode": "Lakewood                    90712"
                                },
                                {
                                    "CityPostalCode": "Lakewood                    90712"
                                },
                                {
                                    "CityPostalCode": "Lakewood                    90712"
                                },
                                {
                                    "CityPostalCode": "Lakewood                    90712"
                                },
                                {
                                    "CityPostalCode": "Lakewood                    90712"
                                },
                                {
                                    "CityPostalCode": "Lakewood                    90712"
                                },
                                {
                                    "CityPostalCode": "Lakewood                    90712"
                                },
                                {
                                    "CityPostalCode": "Lakewood                    90712"
                                },
                                {
                                    "CityPostalCode": "Lakewood                    90712"
                                },
                                {
                                    "CityPostalCode": "Lakewood                    90712"
                                },
                                {
                                    "CityPostalCode": "Lakewood                    90712"
                                },
                                {
                                    "CityPostalCode": "Lakewood                    90712"
                                },
                                {
                                    "CityPostalCode": "Lakewood                    90712"
                                },
                                {
                                    "CityPostalCode": "Lakewood                    90712"
                                },
                                {
                                    "CityPostalCode": "Lakewood                    90712"
                                },
                                {
                                    "CityPostalCode": "Lakewood                    90712"
                                },
                                {
                                    "CityPostalCode": "Lakewood                    90712"
                                },
                                {
                                    "CityPostalCode": "Lakewood                    90712"
                                }
                            ]
                        },
                        "text/html": [
                            "<table>",
                            "<tr><th>CityPostalCode</th></tr>",
                            "<tr><td>Lakewood                    90712</td></tr>",
                            "<tr><td>Lakewood                    90712</td></tr>",
                            "<tr><td>Lakewood                    90712</td></tr>",
                            "<tr><td>Lakewood                    90712</td></tr>",
                            "<tr><td>Lakewood                    90712</td></tr>",
                            "<tr><td>Lakewood                    90712</td></tr>",
                            "<tr><td>Lakewood                    90712</td></tr>",
                            "<tr><td>Lakewood                    90712</td></tr>",
                            "<tr><td>Lakewood                    90712</td></tr>",
                            "<tr><td>Lakewood                    90712</td></tr>",
                            "<tr><td>Lakewood                    90712</td></tr>",
                            "<tr><td>Lakewood                    90712</td></tr>",
                            "<tr><td>Lakewood                    90712</td></tr>",
                            "<tr><td>Lakewood                    90712</td></tr>",
                            "<tr><td>Lakewood                    90712</td></tr>",
                            "<tr><td>Lakewood                    90712</td></tr>",
                            "<tr><td>Lakewood                    90712</td></tr>",
                            "<tr><td>Lakewood                    90712</td></tr>",
                            "<tr><td>Lakewood                    90712</td></tr>",
                            "<tr><td>Lakewood                    90712</td></tr>",
                            "<tr><td>Lakewood                    90712</td></tr>",
                            "<tr><td>Lakewood                    90712</td></tr>",
                            "<tr><td>Lakewood                    90712</td></tr>",
                            "<tr><td>Lakewood                    90712</td></tr>",
                            "<tr><td>Lakewood                    90712</td></tr>",
                            "<tr><td>Lakewood                    90712</td></tr>",
                            "<tr><td>Lakewood                    90712</td></tr>",
                            "<tr><td>Lakewood                    90712</td></tr>",
                            "<tr><td>Lakewood                    90712</td></tr>",
                            "<tr><td>Lakewood                    90712</td></tr>",
                            "<tr><td>Lakewood                    90712</td></tr>",
                            "<tr><td>Lakewood                    90712</td></tr>",
                            "<tr><td>Lakewood                    63301</td></tr>",
                            "<tr><td>Lakewood                    90712</td></tr>",
                            "<tr><td>Lakewood                    90712</td></tr>",
                            "<tr><td>Lakewood                    90712</td></tr>",
                            "<tr><td>Lakewood                    90712</td></tr>",
                            "<tr><td>Lakewood                    90712</td></tr>",
                            "<tr><td>Lakewood                    90712</td></tr>",
                            "<tr><td>Lakewood                    90712</td></tr>",
                            "<tr><td>Lakewood                    90712</td></tr>",
                            "<tr><td>Lakewood                    90712</td></tr>",
                            "<tr><td>Lakewood                    90712</td></tr>",
                            "<tr><td>Lakewood                    90712</td></tr>",
                            "<tr><td>Lakewood                    90712</td></tr>",
                            "<tr><td>Lakewood                    90712</td></tr>",
                            "<tr><td>Lakewood                    90712</td></tr>",
                            "<tr><td>Lakewood                    90712</td></tr>",
                            "<tr><td>Lakewood                    90712</td></tr>",
                            "<tr><td>Lakewood                    90712</td></tr>",
                            "<tr><td>Lakewood                    90712</td></tr>",
                            "<tr><td>Lakewood                    90712</td></tr>",
                            "<tr><td>Lakewood                    90712</td></tr>",
                            "<tr><td>Lakewood                    90712</td></tr>",
                            "<tr><td>Lakewood                    90712</td></tr>",
                            "<tr><td>Lakewood                    90712</td></tr>",
                            "<tr><td>Lakewood                    90712</td></tr>",
                            "<tr><td>Lakewood                    90712</td></tr>",
                            "<tr><td>Lakewood                    90712</td></tr>",
                            "<tr><td>Lakewood                    90712</td></tr>",
                            "<tr><td>Lakewood                    90712</td></tr>",
                            "<tr><td>Lakewood                    90712</td></tr>",
                            "<tr><td>Lakewood                    90712</td></tr>",
                            "<tr><td>Lakewood                    90712</td></tr>",
                            "<tr><td>Lakewood                    90712</td></tr>",
                            "<tr><td>Lakewood                    90712</td></tr>",
                            "<tr><td>Lakewood                    90712</td></tr>",
                            "<tr><td>Lakewood                    90712</td></tr>",
                            "<tr><td>Lakewood                    90712</td></tr>",
                            "<tr><td>Lakewood                    90712</td></tr>",
                            "<tr><td>Lakewood                    90712</td></tr>",
                            "<tr><td>Lakewood                    90712</td></tr>",
                            "<tr><td>Lakewood                    90712</td></tr>",
                            "<tr><td>Lakewood                    90712</td></tr>",
                            "<tr><td>Lakewood                    90712</td></tr>",
                            "<tr><td>Lakewood                    90712</td></tr>",
                            "<tr><td>Lakewood                    90712</td></tr>",
                            "<tr><td>Lakewood                    90712</td></tr>",
                            "<tr><td>Lakewood                    90712</td></tr>",
                            "<tr><td>Lakewood                    90712</td></tr>",
                            "<tr><td>Lakewood                    90712</td></tr>",
                            "<tr><td>Lakewood                    90712</td></tr>",
                            "<tr><td>Lakewood                    90712</td></tr>",
                            "<tr><td>Lakewood                    90712</td></tr>",
                            "<tr><td>Lakewood                    90712</td></tr>",
                            "</table>"
                        ]
                    }
                }
            ],
            "execution_count": 6
        },
        {
            "cell_type": "markdown",
            "source": [
                "### Question 10: Reverse Order of Characters in a String"
            ],
            "metadata": {
                "azdata_cell_guid": "be2f0df0-889a-4f2f-812a-7fd8dda71094"
            },
            "attachments": {}
        },
        {
            "cell_type": "code",
            "source": [
                "SELECT \r\n",
                "    LEFT(LoginID, CHARINDEX('\\', LoginID) - 1) AS Path, \r\n",
                "    RIGHT(LoginID, LEN(LoginID) - CHARINDEX('\\', LoginID)) AS Employee\r\n",
                "FROM HumanResources.Employee;"
            ],
            "metadata": {
                "azdata_cell_guid": "437701ff-4375-46c7-b177-c2461a685021",
                "language": "sql"
            },
            "outputs": [
                {
                    "output_type": "display_data",
                    "data": {
                        "text/html": "(290 rows affected)"
                    },
                    "metadata": {}
                },
                {
                    "output_type": "display_data",
                    "data": {
                        "text/html": "Total execution time: 00:00:00.040"
                    },
                    "metadata": {}
                },
                {
                    "output_type": "execute_result",
                    "metadata": {},
                    "execution_count": 7,
                    "data": {
                        "application/vnd.dataresource+json": {
                            "schema": {
                                "fields": [
                                    {
                                        "name": "Path"
                                    },
                                    {
                                        "name": "Employee"
                                    }
                                ]
                            },
                            "data": [
                                {
                                    "Path": "adventure-works",
                                    "Employee": "alan0"
                                },
                                {
                                    "Path": "adventure-works",
                                    "Employee": "alejandro0"
                                },
                                {
                                    "Path": "adventure-works",
                                    "Employee": "alex0"
                                },
                                {
                                    "Path": "adventure-works",
                                    "Employee": "alice0"
                                },
                                {
                                    "Path": "adventure-works",
                                    "Employee": "amy0"
                                },
                                {
                                    "Path": "adventure-works",
                                    "Employee": "andreas0"
                                },
                                {
                                    "Path": "adventure-works",
                                    "Employee": "andrew0"
                                },
                                {
                                    "Path": "adventure-works",
                                    "Employee": "andrew1"
                                },
                                {
                                    "Path": "adventure-works",
                                    "Employee": "andy0"
                                },
                                {
                                    "Path": "adventure-works",
                                    "Employee": "angela0"
                                },
                                {
                                    "Path": "adventure-works",
                                    "Employee": "anibal0"
                                },
                                {
                                    "Path": "adventure-works",
                                    "Employee": "annette0"
                                },
                                {
                                    "Path": "adventure-works",
                                    "Employee": "annik0"
                                },
                                {
                                    "Path": "adventure-works",
                                    "Employee": "arvind0"
                                },
                                {
                                    "Path": "adventure-works",
                                    "Employee": "ascott0"
                                },
                                {
                                    "Path": "adventure-works",
                                    "Employee": "ashvini0"
                                },
                                {
                                    "Path": "adventure-works",
                                    "Employee": "barbara0"
                                },
                                {
                                    "Path": "adventure-works",
                                    "Employee": "barbara1"
                                },
                                {
                                    "Path": "adventure-works",
                                    "Employee": "baris0"
                                },
                                {
                                    "Path": "adventure-works",
                                    "Employee": "barry0"
                                },
                                {
                                    "Path": "adventure-works",
                                    "Employee": "belinda0"
                                },
                                {
                                    "Path": "adventure-works",
                                    "Employee": "ben0"
                                },
                                {
                                    "Path": "adventure-works",
                                    "Employee": "benjamin0"
                                },
                                {
                                    "Path": "adventure-works",
                                    "Employee": "betsy0"
                                },
                                {
                                    "Path": "adventure-works",
                                    "Employee": "bjorn0"
                                },
                                {
                                    "Path": "adventure-works",
                                    "Employee": "bob0"
                                },
                                {
                                    "Path": "adventure-works",
                                    "Employee": "bonnie0"
                                },
                                {
                                    "Path": "adventure-works",
                                    "Employee": "brandon0"
                                },
                                {
                                    "Path": "adventure-works",
                                    "Employee": "brenda0"
                                },
                                {
                                    "Path": "adventure-works",
                                    "Employee": "brian0"
                                },
                                {
                                    "Path": "adventure-works",
                                    "Employee": "brian1"
                                },
                                {
                                    "Path": "adventure-works",
                                    "Employee": "brian2"
                                },
                                {
                                    "Path": "adventure-works",
                                    "Employee": "brian3"
                                },
                                {
                                    "Path": "adventure-works",
                                    "Employee": "britta0"
                                },
                                {
                                    "Path": "adventure-works",
                                    "Employee": "bryan0"
                                },
                                {
                                    "Path": "adventure-works",
                                    "Employee": "bryan1"
                                },
                                {
                                    "Path": "adventure-works",
                                    "Employee": "candy0"
                                },
                                {
                                    "Path": "adventure-works",
                                    "Employee": "carol0"
                                },
                                {
                                    "Path": "adventure-works",
                                    "Employee": "carole0"
                                },
                                {
                                    "Path": "adventure-works",
                                    "Employee": "chad0"
                                },
                                {
                                    "Path": "adventure-works",
                                    "Employee": "charles0"
                                },
                                {
                                    "Path": "adventure-works",
                                    "Employee": "chris0"
                                },
                                {
                                    "Path": "adventure-works",
                                    "Employee": "chris1"
                                },
                                {
                                    "Path": "adventure-works",
                                    "Employee": "chris2"
                                },
                                {
                                    "Path": "adventure-works",
                                    "Employee": "christian0"
                                },
                                {
                                    "Path": "adventure-works",
                                    "Employee": "christopher0"
                                },
                                {
                                    "Path": "adventure-works",
                                    "Employee": "cristian0"
                                },
                                {
                                    "Path": "adventure-works",
                                    "Employee": "cynthia0"
                                },
                                {
                                    "Path": "adventure-works",
                                    "Employee": "dan0"
                                },
                                {
                                    "Path": "adventure-works",
                                    "Employee": "dan1"
                                },
                                {
                                    "Path": "adventure-works",
                                    "Employee": "danielle0"
                                },
                                {
                                    "Path": "adventure-works",
                                    "Employee": "david0"
                                },
                                {
                                    "Path": "adventure-works",
                                    "Employee": "david1"
                                },
                                {
                                    "Path": "adventure-works",
                                    "Employee": "david2"
                                },
                                {
                                    "Path": "adventure-works",
                                    "Employee": "david3"
                                },
                                {
                                    "Path": "adventure-works",
                                    "Employee": "david4"
                                },
                                {
                                    "Path": "adventure-works",
                                    "Employee": "david5"
                                },
                                {
                                    "Path": "adventure-works",
                                    "Employee": "david6"
                                },
                                {
                                    "Path": "adventure-works",
                                    "Employee": "david7"
                                },
                                {
                                    "Path": "adventure-works",
                                    "Employee": "david8"
                                },
                                {
                                    "Path": "adventure-works",
                                    "Employee": "deborah0"
                                },
                                {
                                    "Path": "adventure-works",
                                    "Employee": "denise0"
                                },
                                {
                                    "Path": "adventure-works",
                                    "Employee": "diane0"
                                },
                                {
                                    "Path": "adventure-works",
                                    "Employee": "diane1"
                                },
                                {
                                    "Path": "adventure-works",
                                    "Employee": "diane2"
                                },
                                {
                                    "Path": "adventure-works",
                                    "Employee": "don0"
                                },
                                {
                                    "Path": "adventure-works",
                                    "Employee": "doris0"
                                },
                                {
                                    "Path": "adventure-works",
                                    "Employee": "douglas0"
                                },
                                {
                                    "Path": "adventure-works",
                                    "Employee": "dragan0"
                                },
                                {
                                    "Path": "adventure-works",
                                    "Employee": "dylan0"
                                },
                                {
                                    "Path": "adventure-works",
                                    "Employee": "ebru0"
                                },
                                {
                                    "Path": "adventure-works",
                                    "Employee": "ed0"
                                },
                                {
                                    "Path": "adventure-works",
                                    "Employee": "elizabeth0"
                                },
                                {
                                    "Path": "adventure-works",
                                    "Employee": "eric0"
                                },
                                {
                                    "Path": "adventure-works",
                                    "Employee": "eric1"
                                },
                                {
                                    "Path": "adventure-works",
                                    "Employee": "eric2"
                                },
                                {
                                    "Path": "adventure-works",
                                    "Employee": "erin0"
                                },
                                {
                                    "Path": "adventure-works",
                                    "Employee": "eugene0"
                                },
                                {
                                    "Path": "adventure-works",
                                    "Employee": "eugene1"
                                },
                                {
                                    "Path": "adventure-works",
                                    "Employee": "fadi0"
                                },
                                {
                                    "Path": "adventure-works",
                                    "Employee": "françois0"
                                },
                                {
                                    "Path": "adventure-works",
                                    "Employee": "frank0"
                                },
                                {
                                    "Path": "adventure-works",
                                    "Employee": "frank1"
                                },
                                {
                                    "Path": "adventure-works",
                                    "Employee": "frank2"
                                },
                                {
                                    "Path": "adventure-works",
                                    "Employee": "frank3"
                                },
                                {
                                    "Path": "adventure-works",
                                    "Employee": "fred0"
                                },
                                {
                                    "Path": "adventure-works",
                                    "Employee": "fukiko0"
                                },
                                {
                                    "Path": "adventure-works",
                                    "Employee": "gabe0"
                                },
                                {
                                    "Path": "adventure-works",
                                    "Employee": "gail0"
                                },
                                {
                                    "Path": "adventure-works",
                                    "Employee": "garrett0"
                                },
                                {
                                    "Path": "adventure-works",
                                    "Employee": "garrett1"
                                },
                                {
                                    "Path": "adventure-works",
                                    "Employee": "gary0"
                                },
                                {
                                    "Path": "adventure-works",
                                    "Employee": "gary1"
                                },
                                {
                                    "Path": "adventure-works",
                                    "Employee": "george0"
                                },
                                {
                                    "Path": "adventure-works",
                                    "Employee": "gigi0"
                                },
                                {
                                    "Path": "adventure-works",
                                    "Employee": "gordon0"
                                },
                                {
                                    "Path": "adventure-works",
                                    "Employee": "grant0"
                                },
                                {
                                    "Path": "adventure-works",
                                    "Employee": "greg0"
                                },
                                {
                                    "Path": "adventure-works",
                                    "Employee": "guy1"
                                },
                                {
                                    "Path": "adventure-works",
                                    "Employee": "hanying0"
                                },
                                {
                                    "Path": "adventure-works",
                                    "Employee": "hao0"
                                },
                                {
                                    "Path": "adventure-works",
                                    "Employee": "hazem0"
                                },
                                {
                                    "Path": "adventure-works",
                                    "Employee": "houman0"
                                },
                                {
                                    "Path": "adventure-works",
                                    "Employee": "hung-fu0"
                                },
                                {
                                    "Path": "adventure-works",
                                    "Employee": "ivo0"
                                },
                                {
                                    "Path": "adventure-works",
                                    "Employee": "jack0"
                                },
                                {
                                    "Path": "adventure-works",
                                    "Employee": "jack1"
                                },
                                {
                                    "Path": "adventure-works",
                                    "Employee": "jae0"
                                },
                                {
                                    "Path": "adventure-works",
                                    "Employee": "james0"
                                },
                                {
                                    "Path": "adventure-works",
                                    "Employee": "james1"
                                },
                                {
                                    "Path": "adventure-works",
                                    "Employee": "jan0"
                                },
                                {
                                    "Path": "adventure-works",
                                    "Employee": "janaina0"
                                },
                                {
                                    "Path": "adventure-works",
                                    "Employee": "janet0"
                                },
                                {
                                    "Path": "adventure-works",
                                    "Employee": "janeth0"
                                },
                                {
                                    "Path": "adventure-works",
                                    "Employee": "janice0"
                                },
                                {
                                    "Path": "adventure-works",
                                    "Employee": "jason0"
                                },
                                {
                                    "Path": "adventure-works",
                                    "Employee": "jay0"
                                },
                                {
                                    "Path": "adventure-works",
                                    "Employee": "jean0"
                                },
                                {
                                    "Path": "adventure-works",
                                    "Employee": "jeff0"
                                },
                                {
                                    "Path": "adventure-works",
                                    "Employee": "jeffrey0"
                                },
                                {
                                    "Path": "adventure-works",
                                    "Employee": "jianshuo0"
                                },
                                {
                                    "Path": "adventure-works",
                                    "Employee": "jill0"
                                },
                                {
                                    "Path": "adventure-works",
                                    "Employee": "jillian0"
                                },
                                {
                                    "Path": "adventure-works",
                                    "Employee": "jim0"
                                },
                                {
                                    "Path": "adventure-works",
                                    "Employee": "jimmy0"
                                },
                                {
                                    "Path": "adventure-works",
                                    "Employee": "jinghao0"
                                },
                                {
                                    "Path": "adventure-works",
                                    "Employee": "jo0"
                                },
                                {
                                    "Path": "adventure-works",
                                    "Employee": "jo1"
                                },
                                {
                                    "Path": "adventure-works",
                                    "Employee": "john0"
                                },
                                {
                                    "Path": "adventure-works",
                                    "Employee": "john1"
                                },
                                {
                                    "Path": "adventure-works",
                                    "Employee": "john2"
                                },
                                {
                                    "Path": "adventure-works",
                                    "Employee": "john3"
                                },
                                {
                                    "Path": "adventure-works",
                                    "Employee": "john4"
                                },
                                {
                                    "Path": "adventure-works",
                                    "Employee": "john5"
                                },
                                {
                                    "Path": "adventure-works",
                                    "Employee": "jolynn0"
                                },
                                {
                                    "Path": "adventure-works",
                                    "Employee": "jose0"
                                },
                                {
                                    "Path": "adventure-works",
                                    "Employee": "josé1"
                                },
                                {
                                    "Path": "adventure-works",
                                    "Employee": "jossef0"
                                },
                                {
                                    "Path": "adventure-works",
                                    "Employee": "jun0"
                                },
                                {
                                    "Path": "adventure-works",
                                    "Employee": "karan0"
                                },
                                {
                                    "Path": "adventure-works",
                                    "Employee": "karen0"
                                },
                                {
                                    "Path": "adventure-works",
                                    "Employee": "karen1"
                                },
                                {
                                    "Path": "adventure-works",
                                    "Employee": "kathie0"
                                },
                                {
                                    "Path": "adventure-works",
                                    "Employee": "katie0"
                                },
                                {
                                    "Path": "adventure-works",
                                    "Employee": "ken0"
                                },
                                {
                                    "Path": "adventure-works",
                                    "Employee": "ken1"
                                },
                                {
                                    "Path": "adventure-works",
                                    "Employee": "kendall0"
                                },
                                {
                                    "Path": "adventure-works",
                                    "Employee": "kevin0"
                                },
                                {
                                    "Path": "adventure-works",
                                    "Employee": "kevin1"
                                },
                                {
                                    "Path": "adventure-works",
                                    "Employee": "kevin2"
                                },
                                {
                                    "Path": "adventure-works",
                                    "Employee": "kim0"
                                },
                                {
                                    "Path": "adventure-works",
                                    "Employee": "kim1"
                                },
                                {
                                    "Path": "adventure-works",
                                    "Employee": "kimberly0"
                                },
                                {
                                    "Path": "adventure-works",
                                    "Employee": "kirk0"
                                },
                                {
                                    "Path": "adventure-works",
                                    "Employee": "kitti0"
                                },
                                {
                                    "Path": "adventure-works",
                                    "Employee": "kok-ho0"
                                },
                                {
                                    "Path": "adventure-works",
                                    "Employee": "krishna0"
                                },
                                {
                                    "Path": "adventure-works",
                                    "Employee": "lane0"
                                },
                                {
                                    "Path": "adventure-works",
                                    "Employee": "laura0"
                                },
                                {
                                    "Path": "adventure-works",
                                    "Employee": "laura1"
                                },
                                {
                                    "Path": "adventure-works",
                                    "Employee": "linda0"
                                },
                                {
                                    "Path": "adventure-works",
                                    "Employee": "linda1"
                                },
                                {
                                    "Path": "adventure-works",
                                    "Employee": "linda2"
                                },
                                {
                                    "Path": "adventure-works",
                                    "Employee": "linda3"
                                },
                                {
                                    "Path": "adventure-works",
                                    "Employee": "lionel0"
                                },
                                {
                                    "Path": "adventure-works",
                                    "Employee": "lolan0"
                                },
                                {
                                    "Path": "adventure-works",
                                    "Employee": "lori0"
                                },
                                {
                                    "Path": "adventure-works",
                                    "Employee": "lori1"
                                },
                                {
                                    "Path": "adventure-works",
                                    "Employee": "lorraine0"
                                },
                                {
                                    "Path": "adventure-works",
                                    "Employee": "lynn0"
                                },
                                {
                                    "Path": "adventure-works",
                                    "Employee": "maciej0"
                                },
                                {
                                    "Path": "adventure-works",
                                    "Employee": "magnus0"
                                },
                                {
                                    "Path": "adventure-works",
                                    "Employee": "mandar0"
                                },
                                {
                                    "Path": "adventure-works",
                                    "Employee": "marc0"
                                },
                                {
                                    "Path": "adventure-works",
                                    "Employee": "margie0"
                                },
                                {
                                    "Path": "adventure-works",
                                    "Employee": "mark0"
                                },
                                {
                                    "Path": "adventure-works",
                                    "Employee": "mark1"
                                },
                                {
                                    "Path": "adventure-works",
                                    "Employee": "mary0"
                                },
                                {
                                    "Path": "adventure-works",
                                    "Employee": "mary1"
                                },
                                {
                                    "Path": "adventure-works",
                                    "Employee": "mary2"
                                },
                                {
                                    "Path": "adventure-works",
                                    "Employee": "matthias0"
                                },
                                {
                                    "Path": "adventure-works",
                                    "Employee": "merav0"
                                },
                                {
                                    "Path": "adventure-works",
                                    "Employee": "michael0"
                                },
                                {
                                    "Path": "adventure-works",
                                    "Employee": "michael1"
                                },
                                {
                                    "Path": "adventure-works",
                                    "Employee": "michael2"
                                },
                                {
                                    "Path": "adventure-works",
                                    "Employee": "michael3"
                                },
                                {
                                    "Path": "adventure-works",
                                    "Employee": "michael4"
                                },
                                {
                                    "Path": "adventure-works",
                                    "Employee": "michael5"
                                },
                                {
                                    "Path": "adventure-works",
                                    "Employee": "michael6"
                                },
                                {
                                    "Path": "adventure-works",
                                    "Employee": "michael7"
                                },
                                {
                                    "Path": "adventure-works",
                                    "Employee": "michael8"
                                },
                                {
                                    "Path": "adventure-works",
                                    "Employee": "michael9"
                                },
                                {
                                    "Path": "adventure-works",
                                    "Employee": "michiko0"
                                },
                                {
                                    "Path": "adventure-works",
                                    "Employee": "mihail0"
                                },
                                {
                                    "Path": "adventure-works",
                                    "Employee": "mikael0"
                                },
                                {
                                    "Path": "adventure-works",
                                    "Employee": "mike0"
                                },
                                {
                                    "Path": "adventure-works",
                                    "Employee": "min0"
                                },
                                {
                                    "Path": "adventure-works",
                                    "Employee": "mindaugas0"
                                },
                                {
                                    "Path": "adventure-works",
                                    "Employee": "mindy0"
                                },
                                {
                                    "Path": "adventure-works",
                                    "Employee": "nancy0"
                                },
                                {
                                    "Path": "adventure-works",
                                    "Employee": "nicole0"
                                },
                                {
                                    "Path": "adventure-works",
                                    "Employee": "nitin0"
                                },
                                {
                                    "Path": "adventure-works",
                                    "Employee": "nuan0"
                                },
                                {
                                    "Path": "adventure-works",
                                    "Employee": "olinda0"
                                },
                                {
                                    "Path": "adventure-works",
                                    "Employee": "ovidiu0"
                                },
                                {
                                    "Path": "adventure-works",
                                    "Employee": "pamela0"
                                },
                                {
                                    "Path": "adventure-works",
                                    "Employee": "pat0"
                                },
                                {
                                    "Path": "adventure-works",
                                    "Employee": "patrick0"
                                },
                                {
                                    "Path": "adventure-works",
                                    "Employee": "patrick1"
                                },
                                {
                                    "Path": "adventure-works",
                                    "Employee": "paul0"
                                },
                                {
                                    "Path": "adventure-works",
                                    "Employee": "paul1"
                                },
                                {
                                    "Path": "adventure-works",
                                    "Employee": "paula0"
                                },
                                {
                                    "Path": "adventure-works",
                                    "Employee": "paula1"
                                },
                                {
                                    "Path": "adventure-works",
                                    "Employee": "peng0"
                                },
                                {
                                    "Path": "adventure-works",
                                    "Employee": "pete0"
                                },
                                {
                                    "Path": "adventure-works",
                                    "Employee": "peter0"
                                },
                                {
                                    "Path": "adventure-works",
                                    "Employee": "peter1"
                                },
                                {
                                    "Path": "adventure-works",
                                    "Employee": "pilar0"
                                },
                                {
                                    "Path": "adventure-works",
                                    "Employee": "prasanna0"
                                },
                                {
                                    "Path": "adventure-works",
                                    "Employee": "rachel0"
                                },
                                {
                                    "Path": "adventure-works",
                                    "Employee": "rajesh0"
                                },
                                {
                                    "Path": "adventure-works",
                                    "Employee": "ramesh0"
                                },
                                {
                                    "Path": "adventure-works",
                                    "Employee": "randy0"
                                },
                                {
                                    "Path": "adventure-works",
                                    "Employee": "ranjit0"
                                },
                                {
                                    "Path": "adventure-works",
                                    "Employee": "raymond0"
                                },
                                {
                                    "Path": "adventure-works",
                                    "Employee": "rebecca0"
                                },
                                {
                                    "Path": "adventure-works",
                                    "Employee": "reed0"
                                },
                                {
                                    "Path": "adventure-works",
                                    "Employee": "reinout0"
                                },
                                {
                                    "Path": "adventure-works",
                                    "Employee": "reuben0"
                                },
                                {
                                    "Path": "adventure-works",
                                    "Employee": "rob0"
                                },
                                {
                                    "Path": "adventure-works",
                                    "Employee": "rob1"
                                },
                                {
                                    "Path": "adventure-works",
                                    "Employee": "robert0"
                                },
                                {
                                    "Path": "adventure-works",
                                    "Employee": "roberto0"
                                },
                                {
                                    "Path": "adventure-works",
                                    "Employee": "rostislav0"
                                },
                                {
                                    "Path": "adventure-works",
                                    "Employee": "russell0"
                                },
                                {
                                    "Path": "adventure-works",
                                    "Employee": "russell1"
                                },
                                {
                                    "Path": "adventure-works",
                                    "Employee": "ruth0"
                                },
                                {
                                    "Path": "adventure-works",
                                    "Employee": "ryan0"
                                },
                                {
                                    "Path": "adventure-works",
                                    "Employee": "sairaj0"
                                },
                                {
                                    "Path": "adventure-works",
                                    "Employee": "samantha0"
                                },
                                {
                                    "Path": "adventure-works",
                                    "Employee": "sameer0"
                                },
                                {
                                    "Path": "adventure-works",
                                    "Employee": "sandeep0"
                                },
                                {
                                    "Path": "adventure-works",
                                    "Employee": "sandra0"
                                },
                                {
                                    "Path": "adventure-works",
                                    "Employee": "sariya0"
                                },
                                {
                                    "Path": "adventure-works",
                                    "Employee": "scott0"
                                },
                                {
                                    "Path": "adventure-works",
                                    "Employee": "sean0"
                                },
                                {
                                    "Path": "adventure-works",
                                    "Employee": "sean1"
                                },
                                {
                                    "Path": "adventure-works",
                                    "Employee": "shammi0"
                                },
                                {
                                    "Path": "adventure-works",
                                    "Employee": "shane0"
                                },
                                {
                                    "Path": "adventure-works",
                                    "Employee": "sharon0"
                                },
                                {
                                    "Path": "adventure-works",
                                    "Employee": "sheela0"
                                },
                                {
                                    "Path": "adventure-works",
                                    "Employee": "shelley0"
                                },
                                {
                                    "Path": "adventure-works",
                                    "Employee": "shu0"
                                },
                                {
                                    "Path": "adventure-works",
                                    "Employee": "sidney0"
                                },
                                {
                                    "Path": "adventure-works",
                                    "Employee": "simon0"
                                },
                                {
                                    "Path": "adventure-works",
                                    "Employee": "sootha0"
                                },
                                {
                                    "Path": "adventure-works",
                                    "Employee": "stefen0"
                                },
                                {
                                    "Path": "adventure-works",
                                    "Employee": "stephanie0"
                                },
                                {
                                    "Path": "adventure-works",
                                    "Employee": "stephen0"
                                },
                                {
                                    "Path": "adventure-works",
                                    "Employee": "steve0"
                                },
                                {
                                    "Path": "adventure-works",
                                    "Employee": "steven0"
                                },
                                {
                                    "Path": "adventure-works",
                                    "Employee": "stuart0"
                                },
                                {
                                    "Path": "adventure-works",
                                    "Employee": "stuart1"
                                },
                                {
                                    "Path": "adventure-works",
                                    "Employee": "suchitra0"
                                },
                                {
                                    "Path": "adventure-works",
                                    "Employee": "suroor0"
                                },
                                {
                                    "Path": "adventure-works",
                                    "Employee": "susan0"
                                },
                                {
                                    "Path": "adventure-works",
                                    "Employee": "susan1"
                                },
                                {
                                    "Path": "adventure-works",
                                    "Employee": "syed0"
                                },
                                {
                                    "Path": "adventure-works",
                                    "Employee": "sylvester0"
                                },
                                {
                                    "Path": "adventure-works",
                                    "Employee": "tawana0"
                                },
                                {
                                    "Path": "adventure-works",
                                    "Employee": "taylor0"
                                },
                                {
                                    "Path": "adventure-works",
                                    "Employee": "tengiz0"
                                },
                                {
                                    "Path": "adventure-works",
                                    "Employee": "terrence0"
                                },
                                {
                                    "Path": "adventure-works",
                                    "Employee": "terri0"
                                },
                                {
                                    "Path": "adventure-works",
                                    "Employee": "terry0"
                                },
                                {
                                    "Path": "adventure-works",
                                    "Employee": "tete0"
                                },
                                {
                                    "Path": "adventure-works",
                                    "Employee": "thierry0"
                                },
                                {
                                    "Path": "adventure-works",
                                    "Employee": "thomas0"
                                },
                                {
                                    "Path": "adventure-works",
                                    "Employee": "tom0"
                                },
                                {
                                    "Path": "adventure-works",
                                    "Employee": "tsvi0"
                                },
                                {
                                    "Path": "adventure-works",
                                    "Employee": "vamsi0"
                                },
                                {
                                    "Path": "adventure-works",
                                    "Employee": "vidur0"
                                },
                                {
                                    "Path": "adventure-works",
                                    "Employee": "wanida0"
                                },
                                {
                                    "Path": "adventure-works",
                                    "Employee": "wendy0"
                                },
                                {
                                    "Path": "adventure-works",
                                    "Employee": "william0"
                                },
                                {
                                    "Path": "adventure-works",
                                    "Employee": "willis0"
                                },
                                {
                                    "Path": "adventure-works",
                                    "Employee": "yuhong0"
                                },
                                {
                                    "Path": "adventure-works",
                                    "Employee": "yvonne0"
                                },
                                {
                                    "Path": "adventure-works",
                                    "Employee": "zainal0"
                                },
                                {
                                    "Path": "adventure-works",
                                    "Employee": "zheng0"
                                }
                            ]
                        },
                        "text/html": [
                            "<table>",
                            "<tr><th>Path</th><th>Employee</th></tr>",
                            "<tr><td>adventure-works</td><td>alan0</td></tr>",
                            "<tr><td>adventure-works</td><td>alejandro0</td></tr>",
                            "<tr><td>adventure-works</td><td>alex0</td></tr>",
                            "<tr><td>adventure-works</td><td>alice0</td></tr>",
                            "<tr><td>adventure-works</td><td>amy0</td></tr>",
                            "<tr><td>adventure-works</td><td>andreas0</td></tr>",
                            "<tr><td>adventure-works</td><td>andrew0</td></tr>",
                            "<tr><td>adventure-works</td><td>andrew1</td></tr>",
                            "<tr><td>adventure-works</td><td>andy0</td></tr>",
                            "<tr><td>adventure-works</td><td>angela0</td></tr>",
                            "<tr><td>adventure-works</td><td>anibal0</td></tr>",
                            "<tr><td>adventure-works</td><td>annette0</td></tr>",
                            "<tr><td>adventure-works</td><td>annik0</td></tr>",
                            "<tr><td>adventure-works</td><td>arvind0</td></tr>",
                            "<tr><td>adventure-works</td><td>ascott0</td></tr>",
                            "<tr><td>adventure-works</td><td>ashvini0</td></tr>",
                            "<tr><td>adventure-works</td><td>barbara0</td></tr>",
                            "<tr><td>adventure-works</td><td>barbara1</td></tr>",
                            "<tr><td>adventure-works</td><td>baris0</td></tr>",
                            "<tr><td>adventure-works</td><td>barry0</td></tr>",
                            "<tr><td>adventure-works</td><td>belinda0</td></tr>",
                            "<tr><td>adventure-works</td><td>ben0</td></tr>",
                            "<tr><td>adventure-works</td><td>benjamin0</td></tr>",
                            "<tr><td>adventure-works</td><td>betsy0</td></tr>",
                            "<tr><td>adventure-works</td><td>bjorn0</td></tr>",
                            "<tr><td>adventure-works</td><td>bob0</td></tr>",
                            "<tr><td>adventure-works</td><td>bonnie0</td></tr>",
                            "<tr><td>adventure-works</td><td>brandon0</td></tr>",
                            "<tr><td>adventure-works</td><td>brenda0</td></tr>",
                            "<tr><td>adventure-works</td><td>brian0</td></tr>",
                            "<tr><td>adventure-works</td><td>brian1</td></tr>",
                            "<tr><td>adventure-works</td><td>brian2</td></tr>",
                            "<tr><td>adventure-works</td><td>brian3</td></tr>",
                            "<tr><td>adventure-works</td><td>britta0</td></tr>",
                            "<tr><td>adventure-works</td><td>bryan0</td></tr>",
                            "<tr><td>adventure-works</td><td>bryan1</td></tr>",
                            "<tr><td>adventure-works</td><td>candy0</td></tr>",
                            "<tr><td>adventure-works</td><td>carol0</td></tr>",
                            "<tr><td>adventure-works</td><td>carole0</td></tr>",
                            "<tr><td>adventure-works</td><td>chad0</td></tr>",
                            "<tr><td>adventure-works</td><td>charles0</td></tr>",
                            "<tr><td>adventure-works</td><td>chris0</td></tr>",
                            "<tr><td>adventure-works</td><td>chris1</td></tr>",
                            "<tr><td>adventure-works</td><td>chris2</td></tr>",
                            "<tr><td>adventure-works</td><td>christian0</td></tr>",
                            "<tr><td>adventure-works</td><td>christopher0</td></tr>",
                            "<tr><td>adventure-works</td><td>cristian0</td></tr>",
                            "<tr><td>adventure-works</td><td>cynthia0</td></tr>",
                            "<tr><td>adventure-works</td><td>dan0</td></tr>",
                            "<tr><td>adventure-works</td><td>dan1</td></tr>",
                            "<tr><td>adventure-works</td><td>danielle0</td></tr>",
                            "<tr><td>adventure-works</td><td>david0</td></tr>",
                            "<tr><td>adventure-works</td><td>david1</td></tr>",
                            "<tr><td>adventure-works</td><td>david2</td></tr>",
                            "<tr><td>adventure-works</td><td>david3</td></tr>",
                            "<tr><td>adventure-works</td><td>david4</td></tr>",
                            "<tr><td>adventure-works</td><td>david5</td></tr>",
                            "<tr><td>adventure-works</td><td>david6</td></tr>",
                            "<tr><td>adventure-works</td><td>david7</td></tr>",
                            "<tr><td>adventure-works</td><td>david8</td></tr>",
                            "<tr><td>adventure-works</td><td>deborah0</td></tr>",
                            "<tr><td>adventure-works</td><td>denise0</td></tr>",
                            "<tr><td>adventure-works</td><td>diane0</td></tr>",
                            "<tr><td>adventure-works</td><td>diane1</td></tr>",
                            "<tr><td>adventure-works</td><td>diane2</td></tr>",
                            "<tr><td>adventure-works</td><td>don0</td></tr>",
                            "<tr><td>adventure-works</td><td>doris0</td></tr>",
                            "<tr><td>adventure-works</td><td>douglas0</td></tr>",
                            "<tr><td>adventure-works</td><td>dragan0</td></tr>",
                            "<tr><td>adventure-works</td><td>dylan0</td></tr>",
                            "<tr><td>adventure-works</td><td>ebru0</td></tr>",
                            "<tr><td>adventure-works</td><td>ed0</td></tr>",
                            "<tr><td>adventure-works</td><td>elizabeth0</td></tr>",
                            "<tr><td>adventure-works</td><td>eric0</td></tr>",
                            "<tr><td>adventure-works</td><td>eric1</td></tr>",
                            "<tr><td>adventure-works</td><td>eric2</td></tr>",
                            "<tr><td>adventure-works</td><td>erin0</td></tr>",
                            "<tr><td>adventure-works</td><td>eugene0</td></tr>",
                            "<tr><td>adventure-works</td><td>eugene1</td></tr>",
                            "<tr><td>adventure-works</td><td>fadi0</td></tr>",
                            "<tr><td>adventure-works</td><td>françois0</td></tr>",
                            "<tr><td>adventure-works</td><td>frank0</td></tr>",
                            "<tr><td>adventure-works</td><td>frank1</td></tr>",
                            "<tr><td>adventure-works</td><td>frank2</td></tr>",
                            "<tr><td>adventure-works</td><td>frank3</td></tr>",
                            "<tr><td>adventure-works</td><td>fred0</td></tr>",
                            "<tr><td>adventure-works</td><td>fukiko0</td></tr>",
                            "<tr><td>adventure-works</td><td>gabe0</td></tr>",
                            "<tr><td>adventure-works</td><td>gail0</td></tr>",
                            "<tr><td>adventure-works</td><td>garrett0</td></tr>",
                            "<tr><td>adventure-works</td><td>garrett1</td></tr>",
                            "<tr><td>adventure-works</td><td>gary0</td></tr>",
                            "<tr><td>adventure-works</td><td>gary1</td></tr>",
                            "<tr><td>adventure-works</td><td>george0</td></tr>",
                            "<tr><td>adventure-works</td><td>gigi0</td></tr>",
                            "<tr><td>adventure-works</td><td>gordon0</td></tr>",
                            "<tr><td>adventure-works</td><td>grant0</td></tr>",
                            "<tr><td>adventure-works</td><td>greg0</td></tr>",
                            "<tr><td>adventure-works</td><td>guy1</td></tr>",
                            "<tr><td>adventure-works</td><td>hanying0</td></tr>",
                            "<tr><td>adventure-works</td><td>hao0</td></tr>",
                            "<tr><td>adventure-works</td><td>hazem0</td></tr>",
                            "<tr><td>adventure-works</td><td>houman0</td></tr>",
                            "<tr><td>adventure-works</td><td>hung-fu0</td></tr>",
                            "<tr><td>adventure-works</td><td>ivo0</td></tr>",
                            "<tr><td>adventure-works</td><td>jack0</td></tr>",
                            "<tr><td>adventure-works</td><td>jack1</td></tr>",
                            "<tr><td>adventure-works</td><td>jae0</td></tr>",
                            "<tr><td>adventure-works</td><td>james0</td></tr>",
                            "<tr><td>adventure-works</td><td>james1</td></tr>",
                            "<tr><td>adventure-works</td><td>jan0</td></tr>",
                            "<tr><td>adventure-works</td><td>janaina0</td></tr>",
                            "<tr><td>adventure-works</td><td>janet0</td></tr>",
                            "<tr><td>adventure-works</td><td>janeth0</td></tr>",
                            "<tr><td>adventure-works</td><td>janice0</td></tr>",
                            "<tr><td>adventure-works</td><td>jason0</td></tr>",
                            "<tr><td>adventure-works</td><td>jay0</td></tr>",
                            "<tr><td>adventure-works</td><td>jean0</td></tr>",
                            "<tr><td>adventure-works</td><td>jeff0</td></tr>",
                            "<tr><td>adventure-works</td><td>jeffrey0</td></tr>",
                            "<tr><td>adventure-works</td><td>jianshuo0</td></tr>",
                            "<tr><td>adventure-works</td><td>jill0</td></tr>",
                            "<tr><td>adventure-works</td><td>jillian0</td></tr>",
                            "<tr><td>adventure-works</td><td>jim0</td></tr>",
                            "<tr><td>adventure-works</td><td>jimmy0</td></tr>",
                            "<tr><td>adventure-works</td><td>jinghao0</td></tr>",
                            "<tr><td>adventure-works</td><td>jo0</td></tr>",
                            "<tr><td>adventure-works</td><td>jo1</td></tr>",
                            "<tr><td>adventure-works</td><td>john0</td></tr>",
                            "<tr><td>adventure-works</td><td>john1</td></tr>",
                            "<tr><td>adventure-works</td><td>john2</td></tr>",
                            "<tr><td>adventure-works</td><td>john3</td></tr>",
                            "<tr><td>adventure-works</td><td>john4</td></tr>",
                            "<tr><td>adventure-works</td><td>john5</td></tr>",
                            "<tr><td>adventure-works</td><td>jolynn0</td></tr>",
                            "<tr><td>adventure-works</td><td>jose0</td></tr>",
                            "<tr><td>adventure-works</td><td>josé1</td></tr>",
                            "<tr><td>adventure-works</td><td>jossef0</td></tr>",
                            "<tr><td>adventure-works</td><td>jun0</td></tr>",
                            "<tr><td>adventure-works</td><td>karan0</td></tr>",
                            "<tr><td>adventure-works</td><td>karen0</td></tr>",
                            "<tr><td>adventure-works</td><td>karen1</td></tr>",
                            "<tr><td>adventure-works</td><td>kathie0</td></tr>",
                            "<tr><td>adventure-works</td><td>katie0</td></tr>",
                            "<tr><td>adventure-works</td><td>ken0</td></tr>",
                            "<tr><td>adventure-works</td><td>ken1</td></tr>",
                            "<tr><td>adventure-works</td><td>kendall0</td></tr>",
                            "<tr><td>adventure-works</td><td>kevin0</td></tr>",
                            "<tr><td>adventure-works</td><td>kevin1</td></tr>",
                            "<tr><td>adventure-works</td><td>kevin2</td></tr>",
                            "<tr><td>adventure-works</td><td>kim0</td></tr>",
                            "<tr><td>adventure-works</td><td>kim1</td></tr>",
                            "<tr><td>adventure-works</td><td>kimberly0</td></tr>",
                            "<tr><td>adventure-works</td><td>kirk0</td></tr>",
                            "<tr><td>adventure-works</td><td>kitti0</td></tr>",
                            "<tr><td>adventure-works</td><td>kok-ho0</td></tr>",
                            "<tr><td>adventure-works</td><td>krishna0</td></tr>",
                            "<tr><td>adventure-works</td><td>lane0</td></tr>",
                            "<tr><td>adventure-works</td><td>laura0</td></tr>",
                            "<tr><td>adventure-works</td><td>laura1</td></tr>",
                            "<tr><td>adventure-works</td><td>linda0</td></tr>",
                            "<tr><td>adventure-works</td><td>linda1</td></tr>",
                            "<tr><td>adventure-works</td><td>linda2</td></tr>",
                            "<tr><td>adventure-works</td><td>linda3</td></tr>",
                            "<tr><td>adventure-works</td><td>lionel0</td></tr>",
                            "<tr><td>adventure-works</td><td>lolan0</td></tr>",
                            "<tr><td>adventure-works</td><td>lori0</td></tr>",
                            "<tr><td>adventure-works</td><td>lori1</td></tr>",
                            "<tr><td>adventure-works</td><td>lorraine0</td></tr>",
                            "<tr><td>adventure-works</td><td>lynn0</td></tr>",
                            "<tr><td>adventure-works</td><td>maciej0</td></tr>",
                            "<tr><td>adventure-works</td><td>magnus0</td></tr>",
                            "<tr><td>adventure-works</td><td>mandar0</td></tr>",
                            "<tr><td>adventure-works</td><td>marc0</td></tr>",
                            "<tr><td>adventure-works</td><td>margie0</td></tr>",
                            "<tr><td>adventure-works</td><td>mark0</td></tr>",
                            "<tr><td>adventure-works</td><td>mark1</td></tr>",
                            "<tr><td>adventure-works</td><td>mary0</td></tr>",
                            "<tr><td>adventure-works</td><td>mary1</td></tr>",
                            "<tr><td>adventure-works</td><td>mary2</td></tr>",
                            "<tr><td>adventure-works</td><td>matthias0</td></tr>",
                            "<tr><td>adventure-works</td><td>merav0</td></tr>",
                            "<tr><td>adventure-works</td><td>michael0</td></tr>",
                            "<tr><td>adventure-works</td><td>michael1</td></tr>",
                            "<tr><td>adventure-works</td><td>michael2</td></tr>",
                            "<tr><td>adventure-works</td><td>michael3</td></tr>",
                            "<tr><td>adventure-works</td><td>michael4</td></tr>",
                            "<tr><td>adventure-works</td><td>michael5</td></tr>",
                            "<tr><td>adventure-works</td><td>michael6</td></tr>",
                            "<tr><td>adventure-works</td><td>michael7</td></tr>",
                            "<tr><td>adventure-works</td><td>michael8</td></tr>",
                            "<tr><td>adventure-works</td><td>michael9</td></tr>",
                            "<tr><td>adventure-works</td><td>michiko0</td></tr>",
                            "<tr><td>adventure-works</td><td>mihail0</td></tr>",
                            "<tr><td>adventure-works</td><td>mikael0</td></tr>",
                            "<tr><td>adventure-works</td><td>mike0</td></tr>",
                            "<tr><td>adventure-works</td><td>min0</td></tr>",
                            "<tr><td>adventure-works</td><td>mindaugas0</td></tr>",
                            "<tr><td>adventure-works</td><td>mindy0</td></tr>",
                            "<tr><td>adventure-works</td><td>nancy0</td></tr>",
                            "<tr><td>adventure-works</td><td>nicole0</td></tr>",
                            "<tr><td>adventure-works</td><td>nitin0</td></tr>",
                            "<tr><td>adventure-works</td><td>nuan0</td></tr>",
                            "<tr><td>adventure-works</td><td>olinda0</td></tr>",
                            "<tr><td>adventure-works</td><td>ovidiu0</td></tr>",
                            "<tr><td>adventure-works</td><td>pamela0</td></tr>",
                            "<tr><td>adventure-works</td><td>pat0</td></tr>",
                            "<tr><td>adventure-works</td><td>patrick0</td></tr>",
                            "<tr><td>adventure-works</td><td>patrick1</td></tr>",
                            "<tr><td>adventure-works</td><td>paul0</td></tr>",
                            "<tr><td>adventure-works</td><td>paul1</td></tr>",
                            "<tr><td>adventure-works</td><td>paula0</td></tr>",
                            "<tr><td>adventure-works</td><td>paula1</td></tr>",
                            "<tr><td>adventure-works</td><td>peng0</td></tr>",
                            "<tr><td>adventure-works</td><td>pete0</td></tr>",
                            "<tr><td>adventure-works</td><td>peter0</td></tr>",
                            "<tr><td>adventure-works</td><td>peter1</td></tr>",
                            "<tr><td>adventure-works</td><td>pilar0</td></tr>",
                            "<tr><td>adventure-works</td><td>prasanna0</td></tr>",
                            "<tr><td>adventure-works</td><td>rachel0</td></tr>",
                            "<tr><td>adventure-works</td><td>rajesh0</td></tr>",
                            "<tr><td>adventure-works</td><td>ramesh0</td></tr>",
                            "<tr><td>adventure-works</td><td>randy0</td></tr>",
                            "<tr><td>adventure-works</td><td>ranjit0</td></tr>",
                            "<tr><td>adventure-works</td><td>raymond0</td></tr>",
                            "<tr><td>adventure-works</td><td>rebecca0</td></tr>",
                            "<tr><td>adventure-works</td><td>reed0</td></tr>",
                            "<tr><td>adventure-works</td><td>reinout0</td></tr>",
                            "<tr><td>adventure-works</td><td>reuben0</td></tr>",
                            "<tr><td>adventure-works</td><td>rob0</td></tr>",
                            "<tr><td>adventure-works</td><td>rob1</td></tr>",
                            "<tr><td>adventure-works</td><td>robert0</td></tr>",
                            "<tr><td>adventure-works</td><td>roberto0</td></tr>",
                            "<tr><td>adventure-works</td><td>rostislav0</td></tr>",
                            "<tr><td>adventure-works</td><td>russell0</td></tr>",
                            "<tr><td>adventure-works</td><td>russell1</td></tr>",
                            "<tr><td>adventure-works</td><td>ruth0</td></tr>",
                            "<tr><td>adventure-works</td><td>ryan0</td></tr>",
                            "<tr><td>adventure-works</td><td>sairaj0</td></tr>",
                            "<tr><td>adventure-works</td><td>samantha0</td></tr>",
                            "<tr><td>adventure-works</td><td>sameer0</td></tr>",
                            "<tr><td>adventure-works</td><td>sandeep0</td></tr>",
                            "<tr><td>adventure-works</td><td>sandra0</td></tr>",
                            "<tr><td>adventure-works</td><td>sariya0</td></tr>",
                            "<tr><td>adventure-works</td><td>scott0</td></tr>",
                            "<tr><td>adventure-works</td><td>sean0</td></tr>",
                            "<tr><td>adventure-works</td><td>sean1</td></tr>",
                            "<tr><td>adventure-works</td><td>shammi0</td></tr>",
                            "<tr><td>adventure-works</td><td>shane0</td></tr>",
                            "<tr><td>adventure-works</td><td>sharon0</td></tr>",
                            "<tr><td>adventure-works</td><td>sheela0</td></tr>",
                            "<tr><td>adventure-works</td><td>shelley0</td></tr>",
                            "<tr><td>adventure-works</td><td>shu0</td></tr>",
                            "<tr><td>adventure-works</td><td>sidney0</td></tr>",
                            "<tr><td>adventure-works</td><td>simon0</td></tr>",
                            "<tr><td>adventure-works</td><td>sootha0</td></tr>",
                            "<tr><td>adventure-works</td><td>stefen0</td></tr>",
                            "<tr><td>adventure-works</td><td>stephanie0</td></tr>",
                            "<tr><td>adventure-works</td><td>stephen0</td></tr>",
                            "<tr><td>adventure-works</td><td>steve0</td></tr>",
                            "<tr><td>adventure-works</td><td>steven0</td></tr>",
                            "<tr><td>adventure-works</td><td>stuart0</td></tr>",
                            "<tr><td>adventure-works</td><td>stuart1</td></tr>",
                            "<tr><td>adventure-works</td><td>suchitra0</td></tr>",
                            "<tr><td>adventure-works</td><td>suroor0</td></tr>",
                            "<tr><td>adventure-works</td><td>susan0</td></tr>",
                            "<tr><td>adventure-works</td><td>susan1</td></tr>",
                            "<tr><td>adventure-works</td><td>syed0</td></tr>",
                            "<tr><td>adventure-works</td><td>sylvester0</td></tr>",
                            "<tr><td>adventure-works</td><td>tawana0</td></tr>",
                            "<tr><td>adventure-works</td><td>taylor0</td></tr>",
                            "<tr><td>adventure-works</td><td>tengiz0</td></tr>",
                            "<tr><td>adventure-works</td><td>terrence0</td></tr>",
                            "<tr><td>adventure-works</td><td>terri0</td></tr>",
                            "<tr><td>adventure-works</td><td>terry0</td></tr>",
                            "<tr><td>adventure-works</td><td>tete0</td></tr>",
                            "<tr><td>adventure-works</td><td>thierry0</td></tr>",
                            "<tr><td>adventure-works</td><td>thomas0</td></tr>",
                            "<tr><td>adventure-works</td><td>tom0</td></tr>",
                            "<tr><td>adventure-works</td><td>tsvi0</td></tr>",
                            "<tr><td>adventure-works</td><td>vamsi0</td></tr>",
                            "<tr><td>adventure-works</td><td>vidur0</td></tr>",
                            "<tr><td>adventure-works</td><td>wanida0</td></tr>",
                            "<tr><td>adventure-works</td><td>wendy0</td></tr>",
                            "<tr><td>adventure-works</td><td>william0</td></tr>",
                            "<tr><td>adventure-works</td><td>willis0</td></tr>",
                            "<tr><td>adventure-works</td><td>yuhong0</td></tr>",
                            "<tr><td>adventure-works</td><td>yvonne0</td></tr>",
                            "<tr><td>adventure-works</td><td>zainal0</td></tr>",
                            "<tr><td>adventure-works</td><td>zheng0</td></tr>",
                            "</table>"
                        ]
                    }
                }
            ],
            "execution_count": 7
        }
    ]
}