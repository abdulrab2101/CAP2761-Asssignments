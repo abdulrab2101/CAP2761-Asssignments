{
    "metadata": {
        "kernelspec": {
            "name": "SQL",
            "display_name": "SQL",
            "language": "sql"
        },
        "language_info": {
            "name": "sql",
            "version": ""
        }
    },
    "nbformat_minor": 2,
    "nbformat": 4,
    "cells": [
        {
            "cell_type": "markdown",
            "source": [
                "### 7.1 Compute an Average\n",
                "\n",
                "**Question 1**: Use the table `Sales.SalesOrderHeader` to find the average freight per year."
            ],
            "metadata": {
                "azdata_cell_guid": "d4da77d8-9b7f-4b03-8a24-42763e8579b6"
            },
            "attachments": {}
        },
        {
            "cell_type": "code",
            "source": [
                "SELECT YEAR(OrderDate) AS OrderYear, AVG(Freight) AS AverageFreight\r\n",
                "FROM Sales.SalesOrderHeader\r\n",
                "GROUP BY YEAR(OrderDate);"
            ],
            "metadata": {
                "azdata_cell_guid": "7e85df12-280a-44b3-80c0-22773b0a03ab",
                "language": "sql"
            },
            "outputs": [
                {
                    "output_type": "display_data",
                    "data": {
                        "text/html": "(4 rows affected)"
                    },
                    "metadata": {}
                },
                {
                    "output_type": "display_data",
                    "data": {
                        "text/html": "Total execution time: 00:00:00.464"
                    },
                    "metadata": {}
                },
                {
                    "output_type": "execute_result",
                    "metadata": {},
                    "execution_count": 1,
                    "data": {
                        "application/vnd.dataresource+json": {
                            "schema": {
                                "fields": [
                                    {
                                        "name": "OrderYear"
                                    },
                                    {
                                        "name": "AverageFreight"
                                    }
                                ]
                            },
                            "data": [
                                {
                                    "OrderYear": "2013",
                                    "AverageFreight": "89.7081"
                                },
                                {
                                    "OrderYear": "2014",
                                    "AverageFreight": "47.8087"
                                },
                                {
                                    "OrderYear": "2011",
                                    "AverageFreight": "224.3203"
                                },
                                {
                                    "OrderYear": "2012",
                                    "AverageFreight": "252.4721"
                                }
                            ]
                        },
                        "text/html": [
                            "<table>",
                            "<tr><th>OrderYear</th><th>AverageFreight</th></tr>",
                            "<tr><td>2013</td><td>89.7081</td></tr>",
                            "<tr><td>2014</td><td>47.8087</td></tr>",
                            "<tr><td>2011</td><td>224.3203</td></tr>",
                            "<tr><td>2012</td><td>252.4721</td></tr>",
                            "</table>"
                        ]
                    }
                }
            ],
            "execution_count": 1
        },
        {
            "cell_type": "markdown",
            "source": [
                "**Question 2**: Order by year the result of Question 1."
            ],
            "metadata": {
                "language": "sql",
                "azdata_cell_guid": "79b3873f-98a5-49ab-9657-7fa7d5c1dea3"
            },
            "attachments": {}
        },
        {
            "cell_type": "code",
            "source": [
                "SELECT YEAR(OrderDate) AS OrderYear, AVG(Freight) AS AverageFreight\r\n",
                "FROM Sales.SalesOrderHeader\r\n",
                "GROUP BY YEAR(OrderDate)\r\n",
                "ORDER BY OrderYear;"
            ],
            "metadata": {
                "language": "sql",
                "azdata_cell_guid": "53d4a04d-ff62-47ce-b825-0679e5981db5"
            },
            "outputs": [
                {
                    "output_type": "display_data",
                    "data": {
                        "text/html": "(4 rows affected)"
                    },
                    "metadata": {}
                },
                {
                    "output_type": "display_data",
                    "data": {
                        "text/html": "Total execution time: 00:00:00.050"
                    },
                    "metadata": {}
                },
                {
                    "output_type": "execute_result",
                    "metadata": {},
                    "execution_count": 2,
                    "data": {
                        "application/vnd.dataresource+json": {
                            "schema": {
                                "fields": [
                                    {
                                        "name": "OrderYear"
                                    },
                                    {
                                        "name": "AverageFreight"
                                    }
                                ]
                            },
                            "data": [
                                {
                                    "OrderYear": "2011",
                                    "AverageFreight": "224.3203"
                                },
                                {
                                    "OrderYear": "2012",
                                    "AverageFreight": "252.4721"
                                },
                                {
                                    "OrderYear": "2013",
                                    "AverageFreight": "89.7081"
                                },
                                {
                                    "OrderYear": "2014",
                                    "AverageFreight": "47.8087"
                                }
                            ]
                        },
                        "text/html": [
                            "<table>",
                            "<tr><th>OrderYear</th><th>AverageFreight</th></tr>",
                            "<tr><td>2011</td><td>224.3203</td></tr>",
                            "<tr><td>2012</td><td>252.4721</td></tr>",
                            "<tr><td>2013</td><td>89.7081</td></tr>",
                            "<tr><td>2014</td><td>47.8087</td></tr>",
                            "</table>"
                        ]
                    }
                }
            ],
            "execution_count": 2
        },
        {
            "cell_type": "markdown",
            "source": [
                "**Question 3**: Explanation - Is the average freight generally increasing or decreasing?\n",
                "\n",
                "**Explaination:**\n",
                "\n",
                "We can see that the Average frieght is decreasing every year except 2012 where It increased a little."
            ],
            "metadata": {
                "language": "sql",
                "azdata_cell_guid": "72c00d03-59c5-4363-a40d-53e0d19613b1"
            },
            "attachments": {}
        },
        {
            "cell_type": "markdown",
            "source": [
                "### 7.2 Count Rows in a Group\n",
                "\n",
                "**Question 4**: Explanation - What is the difference between `COUNT` and `COUNT_BIG`?\n",
                "\n",
                "**Explanation**:\n",
                "\n",
                "- `COUNT`: Returns the number of items in a group. It's suitable for most applications where the result count is within the range of the `int` data type.\n",
                "- `COUNT_BIG`: Returns the number of items in a group as a `bigint` data type, which can handle much larger results than `COUNT`."
            ],
            "metadata": {
                "language": "sql",
                "azdata_cell_guid": "ccabbc7b-12a1-408e-b416-8e7403325c51"
            },
            "attachments": {}
        },
        {
            "cell_type": "markdown",
            "source": [
                "### 7.3 Sum Values in a Group\n",
                "\n",
                "**Question 5**: Use the `SUM` function to add up the `TaxAmt` of the `Sales.SalesOrderHeader`."
            ],
            "metadata": {
                "language": "sql",
                "azdata_cell_guid": "ca2ab0cd-616b-4af5-a376-bf3e309a9892"
            },
            "attachments": {}
        },
        {
            "cell_type": "code",
            "source": [
                "SELECT SUM(TaxAmt) AS TotalTaxAmount\r\n",
                "FROM Sales.SalesOrderHeader;"
            ],
            "metadata": {
                "language": "sql",
                "azdata_cell_guid": "56179d2c-b46a-44f0-8ef1-342c2e4492f6"
            },
            "outputs": [
                {
                    "output_type": "display_data",
                    "data": {
                        "text/html": "(1 row affected)"
                    },
                    "metadata": {}
                },
                {
                    "output_type": "display_data",
                    "data": {
                        "text/html": "Total execution time: 00:00:00.071"
                    },
                    "metadata": {}
                },
                {
                    "output_type": "execute_result",
                    "metadata": {},
                    "execution_count": 3,
                    "data": {
                        "application/vnd.dataresource+json": {
                            "schema": {
                                "fields": [
                                    {
                                        "name": "TotalTaxAmount"
                                    }
                                ]
                            },
                            "data": [
                                {
                                    "TotalTaxAmount": "10186974.4602"
                                }
                            ]
                        },
                        "text/html": [
                            "<table>",
                            "<tr><th>TotalTaxAmount</th></tr>",
                            "<tr><td>10186974.4602</td></tr>",
                            "</table>"
                        ]
                    }
                }
            ],
            "execution_count": 3
        },
        {
            "cell_type": "markdown",
            "source": [
                "**Question 6**: Return only results for the year 2012 grouped and ordered by month."
            ],
            "metadata": {
                "language": "sql",
                "azdata_cell_guid": "59762caf-0141-473d-b796-ae22c8c85ef1"
            },
            "attachments": {}
        },
        {
            "cell_type": "code",
            "source": [
                "SELECT MONTH(OrderDate) AS OrderMonth, SUM(TaxAmt) AS TotalTaxAmount\r\n",
                "FROM Sales.SalesOrderHeader\r\n",
                "WHERE YEAR(OrderDate) = 2012\r\n",
                "GROUP BY MONTH(OrderDate)\r\n",
                "ORDER BY OrderMonth;"
            ],
            "metadata": {
                "language": "sql",
                "azdata_cell_guid": "46af889c-f605-4f02-84c4-07e25ec64618"
            },
            "outputs": [
                {
                    "output_type": "display_data",
                    "data": {
                        "text/html": "(12 rows affected)"
                    },
                    "metadata": {}
                },
                {
                    "output_type": "display_data",
                    "data": {
                        "text/html": "Total execution time: 00:00:00.083"
                    },
                    "metadata": {}
                },
                {
                    "output_type": "execute_result",
                    "metadata": {},
                    "execution_count": 4,
                    "data": {
                        "application/vnd.dataresource+json": {
                            "schema": {
                                "fields": [
                                    {
                                        "name": "OrderMonth"
                                    },
                                    {
                                        "name": "TotalTaxAmount"
                                    }
                                ]
                            },
                            "data": [
                                {
                                    "OrderMonth": "1",
                                    "TotalTaxAmount": "371588.69"
                                },
                                {
                                    "OrderMonth": "2",
                                    "TotalTaxAmount": "132285.70"
                                },
                                {
                                    "OrderMonth": "3",
                                    "TotalTaxAmount": "274742.2648"
                                },
                                {
                                    "OrderMonth": "4",
                                    "TotalTaxAmount": "180817.2923"
                                },
                                {
                                    "OrderMonth": "5",
                                    "TotalTaxAmount": "288245.0511"
                                },
                                {
                                    "OrderMonth": "6",
                                    "TotalTaxAmount": "389556.4568"
                                },
                                {
                                    "OrderMonth": "7",
                                    "TotalTaxAmount": "321735.2997"
                                },
                                {
                                    "OrderMonth": "8",
                                    "TotalTaxAmount": "203286.8258"
                                },
                                {
                                    "OrderMonth": "9",
                                    "TotalTaxAmount": "325769.325"
                                },
                                {
                                    "OrderMonth": "10",
                                    "TotalTaxAmount": "239214.5416"
                                },
                                {
                                    "OrderMonth": "11",
                                    "TotalTaxAmount": "171010.3965"
                                },
                                {
                                    "OrderMonth": "12",
                                    "TotalTaxAmount": "264718.7376"
                                }
                            ]
                        },
                        "text/html": [
                            "<table>",
                            "<tr><th>OrderMonth</th><th>TotalTaxAmount</th></tr>",
                            "<tr><td>1</td><td>371588.69</td></tr>",
                            "<tr><td>2</td><td>132285.70</td></tr>",
                            "<tr><td>3</td><td>274742.2648</td></tr>",
                            "<tr><td>4</td><td>180817.2923</td></tr>",
                            "<tr><td>5</td><td>288245.0511</td></tr>",
                            "<tr><td>6</td><td>389556.4568</td></tr>",
                            "<tr><td>7</td><td>321735.2997</td></tr>",
                            "<tr><td>8</td><td>203286.8258</td></tr>",
                            "<tr><td>9</td><td>325769.325</td></tr>",
                            "<tr><td>10</td><td>239214.5416</td></tr>",
                            "<tr><td>11</td><td>171010.3965</td></tr>",
                            "<tr><td>12</td><td>264718.7376</td></tr>",
                            "</table>"
                        ]
                    }
                }
            ],
            "execution_count": 4
        },
        {
            "cell_type": "markdown",
            "source": [
                "### 7.4 Find High and Low Values in a Group\n",
                "\n",
                "**Question 7**: Find the `Min` `TaxRate` from the table `Sales.SalesTaxRate`."
            ],
            "metadata": {
                "language": "sql",
                "azdata_cell_guid": "75df193d-01b5-4850-bf2e-5f361bfb7e1a"
            },
            "attachments": {}
        },
        {
            "cell_type": "code",
            "source": [
                "SELECT MIN(TaxRate) AS MinTaxRate\r\n",
                "FROM Sales.SalesTaxRate;"
            ],
            "metadata": {
                "language": "sql",
                "azdata_cell_guid": "86a5208a-1a43-43b8-b1ab-6e6e00d19c76"
            },
            "outputs": [
                {
                    "output_type": "display_data",
                    "data": {
                        "text/html": "(1 row affected)"
                    },
                    "metadata": {}
                },
                {
                    "output_type": "display_data",
                    "data": {
                        "text/html": "Total execution time: 00:00:00.051"
                    },
                    "metadata": {}
                },
                {
                    "output_type": "execute_result",
                    "metadata": {},
                    "execution_count": 5,
                    "data": {
                        "application/vnd.dataresource+json": {
                            "schema": {
                                "fields": [
                                    {
                                        "name": "MinTaxRate"
                                    }
                                ]
                            },
                            "data": [
                                {
                                    "MinTaxRate": "5.00"
                                }
                            ]
                        },
                        "text/html": [
                            "<table>",
                            "<tr><th>MinTaxRate</th></tr>",
                            "<tr><td>5.00</td></tr>",
                            "</table>"
                        ]
                    }
                }
            ],
            "execution_count": 5
        },
        {
            "cell_type": "markdown",
            "source": [
                "**Question 8**: Find the `Max` `TaxRate` from the table `Sales.SalesTaxRate`."
            ],
            "metadata": {
                "language": "sql",
                "azdata_cell_guid": "c6a3db3a-a7ea-4be0-ae6e-6feadddf9bdd"
            },
            "attachments": {}
        },
        {
            "cell_type": "code",
            "source": [
                "SELECT MAX(TaxRate) AS MaxTaxRate\r\n",
                "FROM Sales.SalesTaxRate;"
            ],
            "metadata": {
                "language": "sql",
                "azdata_cell_guid": "b477b647-8e91-4b0c-af9c-2519f89e429d"
            },
            "outputs": [
                {
                    "output_type": "display_data",
                    "data": {
                        "text/html": "(1 row affected)"
                    },
                    "metadata": {}
                },
                {
                    "output_type": "display_data",
                    "data": {
                        "text/html": "Total execution time: 00:00:00.021"
                    },
                    "metadata": {}
                },
                {
                    "output_type": "execute_result",
                    "metadata": {},
                    "execution_count": 6,
                    "data": {
                        "application/vnd.dataresource+json": {
                            "schema": {
                                "fields": [
                                    {
                                        "name": "MaxTaxRate"
                                    }
                                ]
                            },
                            "data": [
                                {
                                    "MaxTaxRate": "19.60"
                                }
                            ]
                        },
                        "text/html": [
                            "<table>",
                            "<tr><th>MaxTaxRate</th></tr>",
                            "<tr><td>19.60</td></tr>",
                            "</table>"
                        ]
                    }
                }
            ],
            "execution_count": 6
        },
        {
            "cell_type": "markdown",
            "source": [
                "### 7.6 Find Variance of Values in a Column\n",
                "\n",
                "**Question 9**: Find the `Variance` of the `TaxRate` from the table `Sales.SalesTaxRate`."
            ],
            "metadata": {
                "language": "sql",
                "azdata_cell_guid": "6ebb8309-da24-4820-96ce-ed3b9ed10e77"
            },
            "attachments": {}
        },
        {
            "cell_type": "code",
            "source": [
                "SELECT VAR(TaxRate) AS VarianceTaxRate\r\n",
                "FROM Sales.SalesTaxRate;"
            ],
            "metadata": {
                "language": "sql",
                "azdata_cell_guid": "3362ae42-915b-4e0d-903a-cfd426db3003"
            },
            "outputs": [
                {
                    "output_type": "display_data",
                    "data": {
                        "text/html": "(1 row affected)"
                    },
                    "metadata": {}
                },
                {
                    "output_type": "display_data",
                    "data": {
                        "text/html": "Total execution time: 00:00:00.056"
                    },
                    "metadata": {}
                },
                {
                    "output_type": "execute_result",
                    "metadata": {},
                    "execution_count": 7,
                    "data": {
                        "application/vnd.dataresource+json": {
                            "schema": {
                                "fields": [
                                    {
                                        "name": "VarianceTaxRate"
                                    }
                                ]
                            },
                            "data": [
                                {
                                    "VarianceTaxRate": "14.235548029556671"
                                }
                            ]
                        },
                        "text/html": [
                            "<table>",
                            "<tr><th>VarianceTaxRate</th></tr>",
                            "<tr><td>14.235548029556671</td></tr>",
                            "</table>"
                        ]
                    }
                }
            ],
            "execution_count": 7
        },
        {
            "cell_type": "markdown",
            "source": [
                "### 7.7 Find Std Dev of Values in a Column\n",
                "\n",
                "**Question 10**: Find the `StandardDeviation` of the `TaxRate` from the table `Sales.SalesTaxRate`."
            ],
            "metadata": {
                "language": "sql",
                "azdata_cell_guid": "d360c585-374c-48ee-a7b7-b835f701de48"
            },
            "attachments": {}
        },
        {
            "cell_type": "code",
            "source": [
                "SELECT STDEV(TaxRate) AS StdDevTaxRate\r\n",
                "FROM Sales.SalesTaxRate;"
            ],
            "metadata": {
                "language": "sql",
                "azdata_cell_guid": "8974d0cd-3f6f-48c1-916c-e172fbfc069b"
            },
            "outputs": [
                {
                    "output_type": "display_data",
                    "data": {
                        "text/html": "(1 row affected)"
                    },
                    "metadata": {}
                },
                {
                    "output_type": "display_data",
                    "data": {
                        "text/html": "Total execution time: 00:00:00.076"
                    },
                    "metadata": {}
                },
                {
                    "output_type": "execute_result",
                    "metadata": {},
                    "execution_count": 8,
                    "data": {
                        "application/vnd.dataresource+json": {
                            "schema": {
                                "fields": [
                                    {
                                        "name": "StdDevTaxRate"
                                    }
                                ]
                            },
                            "data": [
                                {
                                    "StdDevTaxRate": "3.7730025218062964"
                                }
                            ]
                        },
                        "text/html": [
                            "<table>",
                            "<tr><th>StdDevTaxRate</th></tr>",
                            "<tr><td>3.7730025218062964</td></tr>",
                            "</table>"
                        ]
                    }
                }
            ],
            "execution_count": 8
        }
    ]
}