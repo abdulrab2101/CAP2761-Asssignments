{
    "metadata": {
        "kernelspec": {
            "name": "SQL",
            "display_name": "SQL",
            "language": "sql"
        },
        "language_info": {
            "name": "sql",
            "version": ""
        }
    },
    "nbformat_minor": 2,
    "nbformat": 4,
    "cells": [
        {
            "cell_type": "markdown",
            "source": [
                "### Question 1: Mathematical Expressions"
            ],
            "metadata": {
                "azdata_cell_guid": "8bddae23-3dec-4b85-a9d7-325384f99935"
            },
            "attachments": {}
        },
        {
            "cell_type": "code",
            "source": [
                "SELECT \r\n",
                "    Name, \r\n",
                "    StandardCost, \r\n",
                "    ListPrice, \r\n",
                "    ListPrice * 0.85 AS SalePrice\r\n",
                "FROM Production.Product\r\n",
                "WHERE Name LIKE '%Touring%' AND StandardCost > 0;"
            ],
            "metadata": {
                "azdata_cell_guid": "b25473aa-acb9-4497-a758-5214fec91128",
                "language": "sql"
            },
            "outputs": [
                {
                    "output_type": "display_data",
                    "data": {
                        "text/html": "(54 rows affected)"
                    },
                    "metadata": {}
                },
                {
                    "output_type": "display_data",
                    "data": {
                        "text/html": "Total execution time: 00:00:00.057"
                    },
                    "metadata": {}
                },
                {
                    "output_type": "execute_result",
                    "metadata": {},
                    "execution_count": 1,
                    "data": {
                        "application/vnd.dataresource+json": {
                            "schema": {
                                "fields": [
                                    {
                                        "name": "Name"
                                    },
                                    {
                                        "name": "StandardCost"
                                    },
                                    {
                                        "name": "ListPrice"
                                    },
                                    {
                                        "name": "SalePrice"
                                    }
                                ]
                            },
                            "data": [
                                {
                                    "Name": "LL Touring Seat Assembly",
                                    "StandardCost": "98.77",
                                    "ListPrice": "133.34",
                                    "SalePrice": "113.339000"
                                },
                                {
                                    "Name": "ML Touring Seat Assembly",
                                    "StandardCost": "108.99",
                                    "ListPrice": "147.14",
                                    "SalePrice": "125.069000"
                                },
                                {
                                    "Name": "HL Touring Seat Assembly",
                                    "StandardCost": "145.87",
                                    "ListPrice": "196.92",
                                    "SalePrice": "167.382000"
                                },
                                {
                                    "Name": "Touring Front Wheel",
                                    "StandardCost": "96.7964",
                                    "ListPrice": "218.01",
                                    "SalePrice": "185.308500"
                                },
                                {
                                    "Name": "Touring Rear Wheel",
                                    "StandardCost": "108.7844",
                                    "ListPrice": "245.01",
                                    "SalePrice": "208.258500"
                                },
                                {
                                    "Name": "Touring-Panniers, Large",
                                    "StandardCost": "51.5625",
                                    "ListPrice": "125.00",
                                    "SalePrice": "106.250000"
                                },
                                {
                                    "Name": "HL Touring Frame - Yellow, 60",
                                    "StandardCost": "601.7437",
                                    "ListPrice": "1003.91",
                                    "SalePrice": "853.323500"
                                },
                                {
                                    "Name": "LL Touring Frame - Yellow, 62",
                                    "StandardCost": "199.8519",
                                    "ListPrice": "333.42",
                                    "SalePrice": "283.407000"
                                },
                                {
                                    "Name": "HL Touring Frame - Yellow, 46",
                                    "StandardCost": "601.7437",
                                    "ListPrice": "1003.91",
                                    "SalePrice": "853.323500"
                                },
                                {
                                    "Name": "HL Touring Frame - Yellow, 50",
                                    "StandardCost": "601.7437",
                                    "ListPrice": "1003.91",
                                    "SalePrice": "853.323500"
                                },
                                {
                                    "Name": "HL Touring Frame - Yellow, 54",
                                    "StandardCost": "601.7437",
                                    "ListPrice": "1003.91",
                                    "SalePrice": "853.323500"
                                },
                                {
                                    "Name": "HL Touring Frame - Blue, 46",
                                    "StandardCost": "601.7437",
                                    "ListPrice": "1003.91",
                                    "SalePrice": "853.323500"
                                },
                                {
                                    "Name": "HL Touring Frame - Blue, 50",
                                    "StandardCost": "601.7437",
                                    "ListPrice": "1003.91",
                                    "SalePrice": "853.323500"
                                },
                                {
                                    "Name": "HL Touring Frame - Blue, 54",
                                    "StandardCost": "601.7437",
                                    "ListPrice": "1003.91",
                                    "SalePrice": "853.323500"
                                },
                                {
                                    "Name": "HL Touring Frame - Blue, 60",
                                    "StandardCost": "601.7437",
                                    "ListPrice": "1003.91",
                                    "SalePrice": "853.323500"
                                },
                                {
                                    "Name": "LL Touring Frame - Blue, 50",
                                    "StandardCost": "199.8519",
                                    "ListPrice": "333.42",
                                    "SalePrice": "283.407000"
                                },
                                {
                                    "Name": "LL Touring Frame - Blue, 54",
                                    "StandardCost": "199.8519",
                                    "ListPrice": "333.42",
                                    "SalePrice": "283.407000"
                                },
                                {
                                    "Name": "LL Touring Frame - Blue, 58",
                                    "StandardCost": "199.8519",
                                    "ListPrice": "333.42",
                                    "SalePrice": "283.407000"
                                },
                                {
                                    "Name": "LL Touring Frame - Blue, 62",
                                    "StandardCost": "199.8519",
                                    "ListPrice": "333.42",
                                    "SalePrice": "283.407000"
                                },
                                {
                                    "Name": "LL Touring Frame - Yellow, 44",
                                    "StandardCost": "199.8519",
                                    "ListPrice": "333.42",
                                    "SalePrice": "283.407000"
                                },
                                {
                                    "Name": "LL Touring Frame - Yellow, 50",
                                    "StandardCost": "199.8519",
                                    "ListPrice": "333.42",
                                    "SalePrice": "283.407000"
                                },
                                {
                                    "Name": "LL Touring Frame - Yellow, 54",
                                    "StandardCost": "199.8519",
                                    "ListPrice": "333.42",
                                    "SalePrice": "283.407000"
                                },
                                {
                                    "Name": "LL Touring Frame - Yellow, 58",
                                    "StandardCost": "199.8519",
                                    "ListPrice": "333.42",
                                    "SalePrice": "283.407000"
                                },
                                {
                                    "Name": "LL Touring Frame - Blue, 44",
                                    "StandardCost": "199.8519",
                                    "ListPrice": "333.42",
                                    "SalePrice": "283.407000"
                                },
                                {
                                    "Name": "LL Touring Seat/Saddle",
                                    "StandardCost": "12.0413",
                                    "ListPrice": "27.12",
                                    "SalePrice": "23.052000"
                                },
                                {
                                    "Name": "ML Touring Seat/Saddle",
                                    "StandardCost": "17.3782",
                                    "ListPrice": "39.14",
                                    "SalePrice": "33.269000"
                                },
                                {
                                    "Name": "HL Touring Seat/Saddle",
                                    "StandardCost": "23.3722",
                                    "ListPrice": "52.64",
                                    "SalePrice": "44.744000"
                                },
                                {
                                    "Name": "Touring Tire Tube",
                                    "StandardCost": "1.8663",
                                    "ListPrice": "4.99",
                                    "SalePrice": "4.241500"
                                },
                                {
                                    "Name": "Touring Tire",
                                    "StandardCost": "10.8423",
                                    "ListPrice": "28.99",
                                    "SalePrice": "24.641500"
                                },
                                {
                                    "Name": "Touring Pedal",
                                    "StandardCost": "35.9596",
                                    "ListPrice": "80.99",
                                    "SalePrice": "68.841500"
                                },
                                {
                                    "Name": "LL Touring Handlebars",
                                    "StandardCost": "20.464",
                                    "ListPrice": "46.09",
                                    "SalePrice": "39.176500"
                                },
                                {
                                    "Name": "HL Touring Handlebars",
                                    "StandardCost": "40.6571",
                                    "ListPrice": "91.57",
                                    "SalePrice": "77.834500"
                                },
                                {
                                    "Name": "Touring-2000 Blue, 60",
                                    "StandardCost": "755.1508",
                                    "ListPrice": "1214.85",
                                    "SalePrice": "1032.622500"
                                },
                                {
                                    "Name": "Touring-1000 Yellow, 46",
                                    "StandardCost": "1481.9379",
                                    "ListPrice": "2384.07",
                                    "SalePrice": "2026.459500"
                                },
                                {
                                    "Name": "Touring-1000 Yellow, 50",
                                    "StandardCost": "1481.9379",
                                    "ListPrice": "2384.07",
                                    "SalePrice": "2026.459500"
                                },
                                {
                                    "Name": "Touring-1000 Yellow, 54",
                                    "StandardCost": "1481.9379",
                                    "ListPrice": "2384.07",
                                    "SalePrice": "2026.459500"
                                },
                                {
                                    "Name": "Touring-1000 Yellow, 60",
                                    "StandardCost": "1481.9379",
                                    "ListPrice": "2384.07",
                                    "SalePrice": "2026.459500"
                                },
                                {
                                    "Name": "Touring-3000 Blue, 54",
                                    "StandardCost": "461.4448",
                                    "ListPrice": "742.35",
                                    "SalePrice": "630.997500"
                                },
                                {
                                    "Name": "Touring-3000 Blue, 58",
                                    "StandardCost": "461.4448",
                                    "ListPrice": "742.35",
                                    "SalePrice": "630.997500"
                                },
                                {
                                    "Name": "Touring-3000 Blue, 62",
                                    "StandardCost": "461.4448",
                                    "ListPrice": "742.35",
                                    "SalePrice": "630.997500"
                                },
                                {
                                    "Name": "Touring-3000 Yellow, 44",
                                    "StandardCost": "461.4448",
                                    "ListPrice": "742.35",
                                    "SalePrice": "630.997500"
                                },
                                {
                                    "Name": "Touring-3000 Yellow, 50",
                                    "StandardCost": "461.4448",
                                    "ListPrice": "742.35",
                                    "SalePrice": "630.997500"
                                },
                                {
                                    "Name": "Touring-3000 Yellow, 54",
                                    "StandardCost": "461.4448",
                                    "ListPrice": "742.35",
                                    "SalePrice": "630.997500"
                                },
                                {
                                    "Name": "Touring-3000 Yellow, 58",
                                    "StandardCost": "461.4448",
                                    "ListPrice": "742.35",
                                    "SalePrice": "630.997500"
                                },
                                {
                                    "Name": "Touring-3000 Yellow, 62",
                                    "StandardCost": "461.4448",
                                    "ListPrice": "742.35",
                                    "SalePrice": "630.997500"
                                },
                                {
                                    "Name": "Touring-1000 Blue, 46",
                                    "StandardCost": "1481.9379",
                                    "ListPrice": "2384.07",
                                    "SalePrice": "2026.459500"
                                },
                                {
                                    "Name": "Touring-1000 Blue, 50",
                                    "StandardCost": "1481.9379",
                                    "ListPrice": "2384.07",
                                    "SalePrice": "2026.459500"
                                },
                                {
                                    "Name": "Touring-1000 Blue, 54",
                                    "StandardCost": "1481.9379",
                                    "ListPrice": "2384.07",
                                    "SalePrice": "2026.459500"
                                },
                                {
                                    "Name": "Touring-1000 Blue, 60",
                                    "StandardCost": "1481.9379",
                                    "ListPrice": "2384.07",
                                    "SalePrice": "2026.459500"
                                },
                                {
                                    "Name": "Touring-2000 Blue, 46",
                                    "StandardCost": "755.1508",
                                    "ListPrice": "1214.85",
                                    "SalePrice": "1032.622500"
                                },
                                {
                                    "Name": "Touring-2000 Blue, 50",
                                    "StandardCost": "755.1508",
                                    "ListPrice": "1214.85",
                                    "SalePrice": "1032.622500"
                                },
                                {
                                    "Name": "Touring-2000 Blue, 54",
                                    "StandardCost": "755.1508",
                                    "ListPrice": "1214.85",
                                    "SalePrice": "1032.622500"
                                },
                                {
                                    "Name": "Touring-3000 Blue, 44",
                                    "StandardCost": "461.4448",
                                    "ListPrice": "742.35",
                                    "SalePrice": "630.997500"
                                },
                                {
                                    "Name": "Touring-3000 Blue, 50",
                                    "StandardCost": "461.4448",
                                    "ListPrice": "742.35",
                                    "SalePrice": "630.997500"
                                }
                            ]
                        },
                        "text/html": [
                            "<table>",
                            "<tr><th>Name</th><th>StandardCost</th><th>ListPrice</th><th>SalePrice</th></tr>",
                            "<tr><td>LL Touring Seat Assembly</td><td>98.77</td><td>133.34</td><td>113.339000</td></tr>",
                            "<tr><td>ML Touring Seat Assembly</td><td>108.99</td><td>147.14</td><td>125.069000</td></tr>",
                            "<tr><td>HL Touring Seat Assembly</td><td>145.87</td><td>196.92</td><td>167.382000</td></tr>",
                            "<tr><td>Touring Front Wheel</td><td>96.7964</td><td>218.01</td><td>185.308500</td></tr>",
                            "<tr><td>Touring Rear Wheel</td><td>108.7844</td><td>245.01</td><td>208.258500</td></tr>",
                            "<tr><td>Touring-Panniers, Large</td><td>51.5625</td><td>125.00</td><td>106.250000</td></tr>",
                            "<tr><td>HL Touring Frame - Yellow, 60</td><td>601.7437</td><td>1003.91</td><td>853.323500</td></tr>",
                            "<tr><td>LL Touring Frame - Yellow, 62</td><td>199.8519</td><td>333.42</td><td>283.407000</td></tr>",
                            "<tr><td>HL Touring Frame - Yellow, 46</td><td>601.7437</td><td>1003.91</td><td>853.323500</td></tr>",
                            "<tr><td>HL Touring Frame - Yellow, 50</td><td>601.7437</td><td>1003.91</td><td>853.323500</td></tr>",
                            "<tr><td>HL Touring Frame - Yellow, 54</td><td>601.7437</td><td>1003.91</td><td>853.323500</td></tr>",
                            "<tr><td>HL Touring Frame - Blue, 46</td><td>601.7437</td><td>1003.91</td><td>853.323500</td></tr>",
                            "<tr><td>HL Touring Frame - Blue, 50</td><td>601.7437</td><td>1003.91</td><td>853.323500</td></tr>",
                            "<tr><td>HL Touring Frame - Blue, 54</td><td>601.7437</td><td>1003.91</td><td>853.323500</td></tr>",
                            "<tr><td>HL Touring Frame - Blue, 60</td><td>601.7437</td><td>1003.91</td><td>853.323500</td></tr>",
                            "<tr><td>LL Touring Frame - Blue, 50</td><td>199.8519</td><td>333.42</td><td>283.407000</td></tr>",
                            "<tr><td>LL Touring Frame - Blue, 54</td><td>199.8519</td><td>333.42</td><td>283.407000</td></tr>",
                            "<tr><td>LL Touring Frame - Blue, 58</td><td>199.8519</td><td>333.42</td><td>283.407000</td></tr>",
                            "<tr><td>LL Touring Frame - Blue, 62</td><td>199.8519</td><td>333.42</td><td>283.407000</td></tr>",
                            "<tr><td>LL Touring Frame - Yellow, 44</td><td>199.8519</td><td>333.42</td><td>283.407000</td></tr>",
                            "<tr><td>LL Touring Frame - Yellow, 50</td><td>199.8519</td><td>333.42</td><td>283.407000</td></tr>",
                            "<tr><td>LL Touring Frame - Yellow, 54</td><td>199.8519</td><td>333.42</td><td>283.407000</td></tr>",
                            "<tr><td>LL Touring Frame - Yellow, 58</td><td>199.8519</td><td>333.42</td><td>283.407000</td></tr>",
                            "<tr><td>LL Touring Frame - Blue, 44</td><td>199.8519</td><td>333.42</td><td>283.407000</td></tr>",
                            "<tr><td>LL Touring Seat/Saddle</td><td>12.0413</td><td>27.12</td><td>23.052000</td></tr>",
                            "<tr><td>ML Touring Seat/Saddle</td><td>17.3782</td><td>39.14</td><td>33.269000</td></tr>",
                            "<tr><td>HL Touring Seat/Saddle</td><td>23.3722</td><td>52.64</td><td>44.744000</td></tr>",
                            "<tr><td>Touring Tire Tube</td><td>1.8663</td><td>4.99</td><td>4.241500</td></tr>",
                            "<tr><td>Touring Tire</td><td>10.8423</td><td>28.99</td><td>24.641500</td></tr>",
                            "<tr><td>Touring Pedal</td><td>35.9596</td><td>80.99</td><td>68.841500</td></tr>",
                            "<tr><td>LL Touring Handlebars</td><td>20.464</td><td>46.09</td><td>39.176500</td></tr>",
                            "<tr><td>HL Touring Handlebars</td><td>40.6571</td><td>91.57</td><td>77.834500</td></tr>",
                            "<tr><td>Touring-2000 Blue, 60</td><td>755.1508</td><td>1214.85</td><td>1032.622500</td></tr>",
                            "<tr><td>Touring-1000 Yellow, 46</td><td>1481.9379</td><td>2384.07</td><td>2026.459500</td></tr>",
                            "<tr><td>Touring-1000 Yellow, 50</td><td>1481.9379</td><td>2384.07</td><td>2026.459500</td></tr>",
                            "<tr><td>Touring-1000 Yellow, 54</td><td>1481.9379</td><td>2384.07</td><td>2026.459500</td></tr>",
                            "<tr><td>Touring-1000 Yellow, 60</td><td>1481.9379</td><td>2384.07</td><td>2026.459500</td></tr>",
                            "<tr><td>Touring-3000 Blue, 54</td><td>461.4448</td><td>742.35</td><td>630.997500</td></tr>",
                            "<tr><td>Touring-3000 Blue, 58</td><td>461.4448</td><td>742.35</td><td>630.997500</td></tr>",
                            "<tr><td>Touring-3000 Blue, 62</td><td>461.4448</td><td>742.35</td><td>630.997500</td></tr>",
                            "<tr><td>Touring-3000 Yellow, 44</td><td>461.4448</td><td>742.35</td><td>630.997500</td></tr>",
                            "<tr><td>Touring-3000 Yellow, 50</td><td>461.4448</td><td>742.35</td><td>630.997500</td></tr>",
                            "<tr><td>Touring-3000 Yellow, 54</td><td>461.4448</td><td>742.35</td><td>630.997500</td></tr>",
                            "<tr><td>Touring-3000 Yellow, 58</td><td>461.4448</td><td>742.35</td><td>630.997500</td></tr>",
                            "<tr><td>Touring-3000 Yellow, 62</td><td>461.4448</td><td>742.35</td><td>630.997500</td></tr>",
                            "<tr><td>Touring-1000 Blue, 46</td><td>1481.9379</td><td>2384.07</td><td>2026.459500</td></tr>",
                            "<tr><td>Touring-1000 Blue, 50</td><td>1481.9379</td><td>2384.07</td><td>2026.459500</td></tr>",
                            "<tr><td>Touring-1000 Blue, 54</td><td>1481.9379</td><td>2384.07</td><td>2026.459500</td></tr>",
                            "<tr><td>Touring-1000 Blue, 60</td><td>1481.9379</td><td>2384.07</td><td>2026.459500</td></tr>",
                            "<tr><td>Touring-2000 Blue, 46</td><td>755.1508</td><td>1214.85</td><td>1032.622500</td></tr>",
                            "<tr><td>Touring-2000 Blue, 50</td><td>755.1508</td><td>1214.85</td><td>1032.622500</td></tr>",
                            "<tr><td>Touring-2000 Blue, 54</td><td>755.1508</td><td>1214.85</td><td>1032.622500</td></tr>",
                            "<tr><td>Touring-3000 Blue, 44</td><td>461.4448</td><td>742.35</td><td>630.997500</td></tr>",
                            "<tr><td>Touring-3000 Blue, 50</td><td>461.4448</td><td>742.35</td><td>630.997500</td></tr>",
                            "</table>"
                        ]
                    }
                }
            ],
            "execution_count": 1
        },
        {
            "cell_type": "markdown",
            "source": [
                "### Question 2: How Many Rows?\n",
                "\n",
                "**Answer:** 54 rows."
            ],
            "metadata": {
                "azdata_cell_guid": "68b81147-eed8-401f-83e0-24bcbd1ea1d1"
            },
            "attachments": {}
        },
        {
            "cell_type": "markdown",
            "source": [
                "### Question 3: Rounding Sales by Year"
            ],
            "metadata": {
                "azdata_cell_guid": "677d28aa-7d36-419e-a0f5-10d852b0a782"
            },
            "attachments": {}
        },
        {
            "cell_type": "code",
            "source": [
                "SELECT \r\n",
                "    YEAR(OrderDate) AS Year, \r\n",
                "    CONVERT(varchar, ROUND(SUM(SubTotal), -3), 1) AS SalesRounded\r\n",
                "FROM Sales.SalesOrderHeader\r\n",
                "GROUP BY YEAR(OrderDate)\r\n",
                "ORDER BY Year;"
            ],
            "metadata": {
                "azdata_cell_guid": "ac131198-c113-48a6-a458-8925874d5044",
                "language": "sql"
            },
            "outputs": [
                {
                    "output_type": "display_data",
                    "data": {
                        "text/html": "(4 rows affected)"
                    },
                    "metadata": {}
                },
                {
                    "output_type": "display_data",
                    "data": {
                        "text/html": "Total execution time: 00:00:00.071"
                    },
                    "metadata": {}
                },
                {
                    "output_type": "execute_result",
                    "metadata": {},
                    "execution_count": 2,
                    "data": {
                        "application/vnd.dataresource+json": {
                            "schema": {
                                "fields": [
                                    {
                                        "name": "Year"
                                    },
                                    {
                                        "name": "SalesRounded"
                                    }
                                ]
                            },
                            "data": [
                                {
                                    "Year": "2011",
                                    "SalesRounded": "12,642,000.00"
                                },
                                {
                                    "Year": "2012",
                                    "SalesRounded": "33,524,000.00"
                                },
                                {
                                    "Year": "2013",
                                    "SalesRounded": "43,622,000.00"
                                },
                                {
                                    "Year": "2014",
                                    "SalesRounded": "20,058,000.00"
                                }
                            ]
                        },
                        "text/html": [
                            "<table>",
                            "<tr><th>Year</th><th>SalesRounded</th></tr>",
                            "<tr><td>2011</td><td>12,642,000.00</td></tr>",
                            "<tr><td>2012</td><td>33,524,000.00</td></tr>",
                            "<tr><td>2013</td><td>43,622,000.00</td></tr>",
                            "<tr><td>2014</td><td>20,058,000.00</td></tr>",
                            "</table>"
                        ]
                    }
                }
            ],
            "execution_count": 2
        },
        {
            "cell_type": "markdown",
            "source": [
                "### Question 4: Year with the Highest Sales Value\n",
                "\n",
                "**Answer:** Year 2013 SalesRounded 43622000.00"
            ],
            "metadata": {
                "language": "sql",
                "azdata_cell_guid": "5afd723c-5661-471a-9ca7-ef97039f8481"
            },
            "attachments": {}
        },
        {
            "cell_type": "markdown",
            "source": [
                "### Question 5: Rounding Sales by Month in the Highest Sales Year"
            ],
            "metadata": {
                "language": "sql",
                "azdata_cell_guid": "7ec181fb-d5c1-4aaf-9b58-d6e23cccefe8"
            },
            "attachments": {}
        },
        {
            "cell_type": "code",
            "source": [
                "SELECT \r\n",
                "    MONTH(OrderDate) AS Month, \r\n",
                "    CONVERT(varchar, ROUND(SUM(SubTotal), -3), 1) AS SalesRounded\r\n",
                "FROM Sales.SalesOrderHeader\r\n",
                "WHERE YEAR(OrderDate) = 2013\r\n",
                "GROUP BY MONTH(OrderDate)\r\n",
                "ORDER BY Month;"
            ],
            "metadata": {
                "language": "sql",
                "azdata_cell_guid": "f9ba04be-6137-46e2-9f63-10e0e5613d3a"
            },
            "outputs": [
                {
                    "output_type": "display_data",
                    "data": {
                        "text/html": "(12 rows affected)"
                    },
                    "metadata": {}
                },
                {
                    "output_type": "display_data",
                    "data": {
                        "text/html": "Total execution time: 00:00:00.084"
                    },
                    "metadata": {}
                },
                {
                    "output_type": "execute_result",
                    "metadata": {},
                    "execution_count": 4,
                    "data": {
                        "application/vnd.dataresource+json": {
                            "schema": {
                                "fields": [
                                    {
                                        "name": "Month"
                                    },
                                    {
                                        "name": "SalesRounded"
                                    }
                                ]
                            },
                            "data": [
                                {
                                    "Month": "1",
                                    "SalesRounded": "2,088,000.00"
                                },
                                {
                                    "Month": "2",
                                    "SalesRounded": "2,317,000.00"
                                },
                                {
                                    "Month": "3",
                                    "SalesRounded": "3,412,000.00"
                                },
                                {
                                    "Month": "4",
                                    "SalesRounded": "2,532,000.00"
                                },
                                {
                                    "Month": "5",
                                    "SalesRounded": "3,246,000.00"
                                },
                                {
                                    "Month": "6",
                                    "SalesRounded": "5,081,000.00"
                                },
                                {
                                    "Month": "7",
                                    "SalesRounded": "4,896,000.00"
                                },
                                {
                                    "Month": "8",
                                    "SalesRounded": "3,334,000.00"
                                },
                                {
                                    "Month": "9",
                                    "SalesRounded": "4,533,000.00"
                                },
                                {
                                    "Month": "10",
                                    "SalesRounded": "4,796,000.00"
                                },
                                {
                                    "Month": "11",
                                    "SalesRounded": "3,312,000.00"
                                },
                                {
                                    "Month": "12",
                                    "SalesRounded": "4,075,000.00"
                                }
                            ]
                        },
                        "text/html": [
                            "<table>",
                            "<tr><th>Month</th><th>SalesRounded</th></tr>",
                            "<tr><td>1</td><td>2,088,000.00</td></tr>",
                            "<tr><td>2</td><td>2,317,000.00</td></tr>",
                            "<tr><td>3</td><td>3,412,000.00</td></tr>",
                            "<tr><td>4</td><td>2,532,000.00</td></tr>",
                            "<tr><td>5</td><td>3,246,000.00</td></tr>",
                            "<tr><td>6</td><td>5,081,000.00</td></tr>",
                            "<tr><td>7</td><td>4,896,000.00</td></tr>",
                            "<tr><td>8</td><td>3,334,000.00</td></tr>",
                            "<tr><td>9</td><td>4,533,000.00</td></tr>",
                            "<tr><td>10</td><td>4,796,000.00</td></tr>",
                            "<tr><td>11</td><td>3,312,000.00</td></tr>",
                            "<tr><td>12</td><td>4,075,000.00</td></tr>",
                            "</table>"
                        ]
                    }
                }
            ],
            "execution_count": 4
        },
        {
            "cell_type": "markdown",
            "source": [
                "### Question 6: Month with the Highest Sales Value\n",
                "\n",
                "**Answer:** 6th month has the Highest Sales Value of 5081000.00"
            ],
            "metadata": {
                "language": "sql",
                "azdata_cell_guid": "393d221b-d80a-4f1d-bc55-c16c11d460fd"
            },
            "attachments": {}
        },
        {
            "cell_type": "markdown",
            "source": [
                "### Question 7: Rounding Up Weight for Shipping"
            ],
            "metadata": {
                "language": "sql",
                "azdata_cell_guid": "eca5f157-57d2-4f81-bfc4-15969fcfa71a"
            },
            "attachments": {}
        },
        {
            "cell_type": "code",
            "source": [
                "SELECT \r\n",
                "    Name, \r\n",
                "    Weight, \r\n",
                "    CEILING(Weight / 10.0) * 10 AS EstimatedShippingWeight\r\n",
                "FROM Production.Product\r\n",
                "WHERE Weight IS NOT NULL;"
            ],
            "metadata": {
                "language": "sql",
                "azdata_cell_guid": "3135d54a-82ca-4a8c-b94f-f6fe6fb9cf49"
            },
            "outputs": [
                {
                    "output_type": "display_data",
                    "data": {
                        "text/html": "(205 rows affected)"
                    },
                    "metadata": {}
                },
                {
                    "output_type": "display_data",
                    "data": {
                        "text/html": "Total execution time: 00:00:00.089"
                    },
                    "metadata": {}
                },
                {
                    "output_type": "execute_result",
                    "metadata": {},
                    "execution_count": 5,
                    "data": {
                        "application/vnd.dataresource+json": {
                            "schema": {
                                "fields": [
                                    {
                                        "name": "Name"
                                    },
                                    {
                                        "name": "Weight"
                                    },
                                    {
                                        "name": "EstimatedShippingWeight"
                                    }
                                ]
                            },
                            "data": [
                                {
                                    "Name": "LL Mountain Rim",
                                    "Weight": "435.00",
                                    "EstimatedShippingWeight": "440"
                                },
                                {
                                    "Name": "ML Mountain Rim",
                                    "Weight": "450.00",
                                    "EstimatedShippingWeight": "450"
                                },
                                {
                                    "Name": "HL Mountain Rim",
                                    "Weight": "400.00",
                                    "EstimatedShippingWeight": "400"
                                },
                                {
                                    "Name": "LL Road Rim",
                                    "Weight": "445.00",
                                    "EstimatedShippingWeight": "450"
                                },
                                {
                                    "Name": "ML Road Rim",
                                    "Weight": "450.00",
                                    "EstimatedShippingWeight": "450"
                                },
                                {
                                    "Name": "HL Road Rim",
                                    "Weight": "400.00",
                                    "EstimatedShippingWeight": "400"
                                },
                                {
                                    "Name": "Touring Rim",
                                    "Weight": "460.00",
                                    "EstimatedShippingWeight": "460"
                                },
                                {
                                    "Name": "HL Road Frame - Black, 58",
                                    "Weight": "2.24",
                                    "EstimatedShippingWeight": "10"
                                },
                                {
                                    "Name": "HL Road Frame - Red, 58",
                                    "Weight": "2.24",
                                    "EstimatedShippingWeight": "10"
                                },
                                {
                                    "Name": "HL Road Frame - Red, 62",
                                    "Weight": "2.30",
                                    "EstimatedShippingWeight": "10"
                                },
                                {
                                    "Name": "HL Road Frame - Red, 44",
                                    "Weight": "2.12",
                                    "EstimatedShippingWeight": "10"
                                },
                                {
                                    "Name": "HL Road Frame - Red, 48",
                                    "Weight": "2.16",
                                    "EstimatedShippingWeight": "10"
                                },
                                {
                                    "Name": "HL Road Frame - Red, 52",
                                    "Weight": "2.20",
                                    "EstimatedShippingWeight": "10"
                                },
                                {
                                    "Name": "HL Road Frame - Red, 56",
                                    "Weight": "2.24",
                                    "EstimatedShippingWeight": "10"
                                },
                                {
                                    "Name": "LL Road Frame - Black, 58",
                                    "Weight": "2.46",
                                    "EstimatedShippingWeight": "10"
                                },
                                {
                                    "Name": "LL Road Frame - Black, 60",
                                    "Weight": "2.48",
                                    "EstimatedShippingWeight": "10"
                                },
                                {
                                    "Name": "LL Road Frame - Black, 62",
                                    "Weight": "2.50",
                                    "EstimatedShippingWeight": "10"
                                },
                                {
                                    "Name": "LL Road Frame - Red, 44",
                                    "Weight": "2.32",
                                    "EstimatedShippingWeight": "10"
                                },
                                {
                                    "Name": "LL Road Frame - Red, 48",
                                    "Weight": "2.36",
                                    "EstimatedShippingWeight": "10"
                                },
                                {
                                    "Name": "LL Road Frame - Red, 52",
                                    "Weight": "2.40",
                                    "EstimatedShippingWeight": "10"
                                },
                                {
                                    "Name": "LL Road Frame - Red, 58",
                                    "Weight": "2.46",
                                    "EstimatedShippingWeight": "10"
                                },
                                {
                                    "Name": "LL Road Frame - Red, 60",
                                    "Weight": "2.48",
                                    "EstimatedShippingWeight": "10"
                                },
                                {
                                    "Name": "LL Road Frame - Red, 62",
                                    "Weight": "2.50",
                                    "EstimatedShippingWeight": "10"
                                },
                                {
                                    "Name": "ML Road Frame - Red, 44",
                                    "Weight": "2.22",
                                    "EstimatedShippingWeight": "10"
                                },
                                {
                                    "Name": "ML Road Frame - Red, 48",
                                    "Weight": "2.26",
                                    "EstimatedShippingWeight": "10"
                                },
                                {
                                    "Name": "ML Road Frame - Red, 52",
                                    "Weight": "2.30",
                                    "EstimatedShippingWeight": "10"
                                },
                                {
                                    "Name": "ML Road Frame - Red, 58",
                                    "Weight": "2.36",
                                    "EstimatedShippingWeight": "10"
                                },
                                {
                                    "Name": "ML Road Frame - Red, 60",
                                    "Weight": "2.38",
                                    "EstimatedShippingWeight": "10"
                                },
                                {
                                    "Name": "LL Road Frame - Black, 44",
                                    "Weight": "2.32",
                                    "EstimatedShippingWeight": "10"
                                },
                                {
                                    "Name": "LL Road Frame - Black, 48",
                                    "Weight": "2.36",
                                    "EstimatedShippingWeight": "10"
                                },
                                {
                                    "Name": "LL Road Frame - Black, 52",
                                    "Weight": "2.40",
                                    "EstimatedShippingWeight": "10"
                                },
                                {
                                    "Name": "HL Mountain Frame - Silver, 42",
                                    "Weight": "2.72",
                                    "EstimatedShippingWeight": "10"
                                },
                                {
                                    "Name": "HL Mountain Frame - Silver, 44",
                                    "Weight": "2.76",
                                    "EstimatedShippingWeight": "10"
                                },
                                {
                                    "Name": "HL Mountain Frame - Silver, 48",
                                    "Weight": "2.80",
                                    "EstimatedShippingWeight": "10"
                                },
                                {
                                    "Name": "HL Mountain Frame - Silver, 46",
                                    "Weight": "2.84",
                                    "EstimatedShippingWeight": "10"
                                },
                                {
                                    "Name": "HL Mountain Frame - Black, 42",
                                    "Weight": "2.72",
                                    "EstimatedShippingWeight": "10"
                                },
                                {
                                    "Name": "HL Mountain Frame - Black, 44",
                                    "Weight": "2.76",
                                    "EstimatedShippingWeight": "10"
                                },
                                {
                                    "Name": "HL Mountain Frame - Black, 48",
                                    "Weight": "2.80",
                                    "EstimatedShippingWeight": "10"
                                },
                                {
                                    "Name": "HL Mountain Frame - Black, 46",
                                    "Weight": "2.84",
                                    "EstimatedShippingWeight": "10"
                                },
                                {
                                    "Name": "HL Mountain Frame - Black, 38",
                                    "Weight": "2.68",
                                    "EstimatedShippingWeight": "10"
                                },
                                {
                                    "Name": "HL Mountain Frame - Silver, 38",
                                    "Weight": "2.68",
                                    "EstimatedShippingWeight": "10"
                                },
                                {
                                    "Name": "Road-150 Red, 62",
                                    "Weight": "15.00",
                                    "EstimatedShippingWeight": "20"
                                },
                                {
                                    "Name": "Road-150 Red, 44",
                                    "Weight": "13.77",
                                    "EstimatedShippingWeight": "20"
                                },
                                {
                                    "Name": "Road-150 Red, 48",
                                    "Weight": "14.13",
                                    "EstimatedShippingWeight": "20"
                                },
                                {
                                    "Name": "Road-150 Red, 52",
                                    "Weight": "14.42",
                                    "EstimatedShippingWeight": "20"
                                },
                                {
                                    "Name": "Road-150 Red, 56",
                                    "Weight": "14.68",
                                    "EstimatedShippingWeight": "20"
                                },
                                {
                                    "Name": "Road-450 Red, 58",
                                    "Weight": "17.79",
                                    "EstimatedShippingWeight": "20"
                                },
                                {
                                    "Name": "Road-450 Red, 60",
                                    "Weight": "17.90",
                                    "EstimatedShippingWeight": "20"
                                },
                                {
                                    "Name": "Road-450 Red, 44",
                                    "Weight": "16.77",
                                    "EstimatedShippingWeight": "20"
                                },
                                {
                                    "Name": "Road-450 Red, 48",
                                    "Weight": "17.13",
                                    "EstimatedShippingWeight": "20"
                                },
                                {
                                    "Name": "Road-450 Red, 52",
                                    "Weight": "17.42",
                                    "EstimatedShippingWeight": "20"
                                },
                                {
                                    "Name": "Road-650 Red, 58",
                                    "Weight": "19.79",
                                    "EstimatedShippingWeight": "20"
                                },
                                {
                                    "Name": "Road-650 Red, 60",
                                    "Weight": "19.90",
                                    "EstimatedShippingWeight": "20"
                                },
                                {
                                    "Name": "Road-650 Red, 62",
                                    "Weight": "20.00",
                                    "EstimatedShippingWeight": "20"
                                },
                                {
                                    "Name": "Road-650 Red, 44",
                                    "Weight": "18.77",
                                    "EstimatedShippingWeight": "20"
                                },
                                {
                                    "Name": "Road-650 Red, 48",
                                    "Weight": "19.13",
                                    "EstimatedShippingWeight": "20"
                                },
                                {
                                    "Name": "Road-650 Red, 52",
                                    "Weight": "19.42",
                                    "EstimatedShippingWeight": "20"
                                },
                                {
                                    "Name": "Road-650 Black, 58",
                                    "Weight": "19.79",
                                    "EstimatedShippingWeight": "20"
                                },
                                {
                                    "Name": "Road-650 Black, 60",
                                    "Weight": "19.90",
                                    "EstimatedShippingWeight": "20"
                                },
                                {
                                    "Name": "Road-650 Black, 62",
                                    "Weight": "20.00",
                                    "EstimatedShippingWeight": "20"
                                },
                                {
                                    "Name": "Road-650 Black, 44",
                                    "Weight": "18.77",
                                    "EstimatedShippingWeight": "20"
                                },
                                {
                                    "Name": "Road-650 Black, 48",
                                    "Weight": "19.13",
                                    "EstimatedShippingWeight": "20"
                                },
                                {
                                    "Name": "Road-650 Black, 52",
                                    "Weight": "19.42",
                                    "EstimatedShippingWeight": "20"
                                },
                                {
                                    "Name": "Mountain-100 Silver, 38",
                                    "Weight": "20.35",
                                    "EstimatedShippingWeight": "30"
                                },
                                {
                                    "Name": "Mountain-100 Silver, 42",
                                    "Weight": "20.77",
                                    "EstimatedShippingWeight": "30"
                                },
                                {
                                    "Name": "Mountain-100 Silver, 44",
                                    "Weight": "21.13",
                                    "EstimatedShippingWeight": "30"
                                },
                                {
                                    "Name": "Mountain-100 Silver, 48",
                                    "Weight": "21.42",
                                    "EstimatedShippingWeight": "30"
                                },
                                {
                                    "Name": "Mountain-100 Black, 38",
                                    "Weight": "20.35",
                                    "EstimatedShippingWeight": "30"
                                },
                                {
                                    "Name": "Mountain-100 Black, 42",
                                    "Weight": "20.77",
                                    "EstimatedShippingWeight": "30"
                                },
                                {
                                    "Name": "Mountain-100 Black, 44",
                                    "Weight": "21.13",
                                    "EstimatedShippingWeight": "30"
                                },
                                {
                                    "Name": "Mountain-100 Black, 48",
                                    "Weight": "21.42",
                                    "EstimatedShippingWeight": "30"
                                },
                                {
                                    "Name": "Mountain-200 Silver, 38",
                                    "Weight": "23.35",
                                    "EstimatedShippingWeight": "30"
                                },
                                {
                                    "Name": "Mountain-200 Silver, 42",
                                    "Weight": "23.77",
                                    "EstimatedShippingWeight": "30"
                                },
                                {
                                    "Name": "Mountain-200 Silver, 46",
                                    "Weight": "24.13",
                                    "EstimatedShippingWeight": "30"
                                },
                                {
                                    "Name": "Mountain-200 Black, 38",
                                    "Weight": "23.35",
                                    "EstimatedShippingWeight": "30"
                                },
                                {
                                    "Name": "Mountain-200 Black, 42",
                                    "Weight": "23.77",
                                    "EstimatedShippingWeight": "30"
                                },
                                {
                                    "Name": "Mountain-200 Black, 46",
                                    "Weight": "24.13",
                                    "EstimatedShippingWeight": "30"
                                },
                                {
                                    "Name": "Mountain-300 Black, 38",
                                    "Weight": "25.35",
                                    "EstimatedShippingWeight": "30"
                                },
                                {
                                    "Name": "Mountain-300 Black, 40",
                                    "Weight": "25.77",
                                    "EstimatedShippingWeight": "30"
                                },
                                {
                                    "Name": "Mountain-300 Black, 44",
                                    "Weight": "26.13",
                                    "EstimatedShippingWeight": "30"
                                },
                                {
                                    "Name": "Mountain-300 Black, 48",
                                    "Weight": "26.42",
                                    "EstimatedShippingWeight": "30"
                                },
                                {
                                    "Name": "Road-250 Red, 44",
                                    "Weight": "14.77",
                                    "EstimatedShippingWeight": "20"
                                },
                                {
                                    "Name": "Road-250 Red, 48",
                                    "Weight": "15.13",
                                    "EstimatedShippingWeight": "20"
                                },
                                {
                                    "Name": "Road-250 Red, 52",
                                    "Weight": "15.42",
                                    "EstimatedShippingWeight": "20"
                                },
                                {
                                    "Name": "Road-250 Red, 58",
                                    "Weight": "15.79",
                                    "EstimatedShippingWeight": "20"
                                },
                                {
                                    "Name": "Road-250 Black, 44",
                                    "Weight": "14.77",
                                    "EstimatedShippingWeight": "20"
                                },
                                {
                                    "Name": "Road-250 Black, 48",
                                    "Weight": "15.13",
                                    "EstimatedShippingWeight": "20"
                                },
                                {
                                    "Name": "Road-250 Black, 52",
                                    "Weight": "15.42",
                                    "EstimatedShippingWeight": "20"
                                },
                                {
                                    "Name": "Road-250 Black, 58",
                                    "Weight": "15.68",
                                    "EstimatedShippingWeight": "20"
                                },
                                {
                                    "Name": "Road-550-W Yellow, 38",
                                    "Weight": "17.35",
                                    "EstimatedShippingWeight": "20"
                                },
                                {
                                    "Name": "Road-550-W Yellow, 40",
                                    "Weight": "17.77",
                                    "EstimatedShippingWeight": "20"
                                },
                                {
                                    "Name": "Road-550-W Yellow, 42",
                                    "Weight": "18.13",
                                    "EstimatedShippingWeight": "20"
                                },
                                {
                                    "Name": "Road-550-W Yellow, 44",
                                    "Weight": "18.42",
                                    "EstimatedShippingWeight": "20"
                                },
                                {
                                    "Name": "Road-550-W Yellow, 48",
                                    "Weight": "18.68",
                                    "EstimatedShippingWeight": "20"
                                },
                                {
                                    "Name": "ML Mountain Frame - Black, 38",
                                    "Weight": "2.73",
                                    "EstimatedShippingWeight": "10"
                                },
                                {
                                    "Name": "LL Road Front Wheel",
                                    "Weight": "900.00",
                                    "EstimatedShippingWeight": "900"
                                },
                                {
                                    "Name": "ML Road Front Wheel",
                                    "Weight": "850.00",
                                    "EstimatedShippingWeight": "850"
                                },
                                {
                                    "Name": "HL Road Front Wheel",
                                    "Weight": "650.00",
                                    "EstimatedShippingWeight": "650"
                                },
                                {
                                    "Name": "ML Road Frame-W - Yellow, 38",
                                    "Weight": "2.18",
                                    "EstimatedShippingWeight": "10"
                                },
                                {
                                    "Name": "LL Road Rear Wheel",
                                    "Weight": "1050.00",
                                    "EstimatedShippingWeight": "1050"
                                },
                                {
                                    "Name": "ML Road Rear Wheel",
                                    "Weight": "1000.00",
                                    "EstimatedShippingWeight": "1000"
                                },
                                {
                                    "Name": "HL Road Rear Wheel",
                                    "Weight": "890.00",
                                    "EstimatedShippingWeight": "890"
                                },
                                {
                                    "Name": "ML Mountain Frame - Black, 40",
                                    "Weight": "2.77",
                                    "EstimatedShippingWeight": "10"
                                },
                                {
                                    "Name": "ML Mountain Frame - Black, 44",
                                    "Weight": "2.81",
                                    "EstimatedShippingWeight": "10"
                                },
                                {
                                    "Name": "ML Mountain Frame - Black, 48",
                                    "Weight": "2.85",
                                    "EstimatedShippingWeight": "10"
                                },
                                {
                                    "Name": "ML Road Frame-W - Yellow, 40",
                                    "Weight": "2.22",
                                    "EstimatedShippingWeight": "10"
                                },
                                {
                                    "Name": "ML Road Frame-W - Yellow, 42",
                                    "Weight": "2.26",
                                    "EstimatedShippingWeight": "10"
                                },
                                {
                                    "Name": "ML Road Frame-W - Yellow, 44",
                                    "Weight": "2.30",
                                    "EstimatedShippingWeight": "10"
                                },
                                {
                                    "Name": "ML Road Frame-W - Yellow, 48",
                                    "Weight": "2.34",
                                    "EstimatedShippingWeight": "10"
                                },
                                {
                                    "Name": "HL Road Frame - Black, 62",
                                    "Weight": "2.30",
                                    "EstimatedShippingWeight": "10"
                                },
                                {
                                    "Name": "HL Road Frame - Black, 44",
                                    "Weight": "2.12",
                                    "EstimatedShippingWeight": "10"
                                },
                                {
                                    "Name": "HL Road Frame - Black, 48",
                                    "Weight": "2.16",
                                    "EstimatedShippingWeight": "10"
                                },
                                {
                                    "Name": "HL Road Frame - Black, 52",
                                    "Weight": "2.20",
                                    "EstimatedShippingWeight": "10"
                                },
                                {
                                    "Name": "HL Touring Frame - Yellow, 60",
                                    "Weight": "3.08",
                                    "EstimatedShippingWeight": "10"
                                },
                                {
                                    "Name": "LL Touring Frame - Yellow, 62",
                                    "Weight": "3.20",
                                    "EstimatedShippingWeight": "10"
                                },
                                {
                                    "Name": "HL Touring Frame - Yellow, 46",
                                    "Weight": "2.96",
                                    "EstimatedShippingWeight": "10"
                                },
                                {
                                    "Name": "HL Touring Frame - Yellow, 50",
                                    "Weight": "3.00",
                                    "EstimatedShippingWeight": "10"
                                },
                                {
                                    "Name": "HL Touring Frame - Yellow, 54",
                                    "Weight": "3.04",
                                    "EstimatedShippingWeight": "10"
                                },
                                {
                                    "Name": "HL Touring Frame - Blue, 46",
                                    "Weight": "2.96",
                                    "EstimatedShippingWeight": "10"
                                },
                                {
                                    "Name": "HL Touring Frame - Blue, 50",
                                    "Weight": "3.00",
                                    "EstimatedShippingWeight": "10"
                                },
                                {
                                    "Name": "HL Touring Frame - Blue, 54",
                                    "Weight": "3.04",
                                    "EstimatedShippingWeight": "10"
                                },
                                {
                                    "Name": "HL Touring Frame - Blue, 60",
                                    "Weight": "3.08",
                                    "EstimatedShippingWeight": "10"
                                },
                                {
                                    "Name": "Rear Derailleur",
                                    "Weight": "215.00",
                                    "EstimatedShippingWeight": "220"
                                },
                                {
                                    "Name": "LL Touring Frame - Blue, 50",
                                    "Weight": "3.10",
                                    "EstimatedShippingWeight": "10"
                                },
                                {
                                    "Name": "LL Touring Frame - Blue, 54",
                                    "Weight": "3.14",
                                    "EstimatedShippingWeight": "10"
                                },
                                {
                                    "Name": "LL Touring Frame - Blue, 58",
                                    "Weight": "3.16",
                                    "EstimatedShippingWeight": "10"
                                },
                                {
                                    "Name": "LL Touring Frame - Blue, 62",
                                    "Weight": "3.20",
                                    "EstimatedShippingWeight": "10"
                                },
                                {
                                    "Name": "LL Touring Frame - Yellow, 44",
                                    "Weight": "3.02",
                                    "EstimatedShippingWeight": "10"
                                },
                                {
                                    "Name": "LL Touring Frame - Yellow, 50",
                                    "Weight": "3.10",
                                    "EstimatedShippingWeight": "10"
                                },
                                {
                                    "Name": "LL Touring Frame - Yellow, 54",
                                    "Weight": "3.14",
                                    "EstimatedShippingWeight": "10"
                                },
                                {
                                    "Name": "LL Touring Frame - Yellow, 58",
                                    "Weight": "3.16",
                                    "EstimatedShippingWeight": "10"
                                },
                                {
                                    "Name": "LL Touring Frame - Blue, 44",
                                    "Weight": "3.02",
                                    "EstimatedShippingWeight": "10"
                                },
                                {
                                    "Name": "ML Mountain Frame-W - Silver, 40",
                                    "Weight": "2.77",
                                    "EstimatedShippingWeight": "10"
                                },
                                {
                                    "Name": "ML Mountain Frame-W - Silver, 42",
                                    "Weight": "2.81",
                                    "EstimatedShippingWeight": "10"
                                },
                                {
                                    "Name": "ML Mountain Frame-W - Silver, 46",
                                    "Weight": "2.85",
                                    "EstimatedShippingWeight": "10"
                                },
                                {
                                    "Name": "Rear Brakes",
                                    "Weight": "317.00",
                                    "EstimatedShippingWeight": "320"
                                },
                                {
                                    "Name": "LL Mountain Frame - Silver, 42",
                                    "Weight": "2.92",
                                    "EstimatedShippingWeight": "10"
                                },
                                {
                                    "Name": "LL Mountain Frame - Silver, 44",
                                    "Weight": "2.96",
                                    "EstimatedShippingWeight": "10"
                                },
                                {
                                    "Name": "LL Mountain Frame - Silver, 48",
                                    "Weight": "3.00",
                                    "EstimatedShippingWeight": "10"
                                },
                                {
                                    "Name": "LL Mountain Frame - Silver, 52",
                                    "Weight": "3.04",
                                    "EstimatedShippingWeight": "10"
                                },
                                {
                                    "Name": "LL Mountain Frame - Black, 42",
                                    "Weight": "2.92",
                                    "EstimatedShippingWeight": "10"
                                },
                                {
                                    "Name": "LL Mountain Frame - Black, 44",
                                    "Weight": "2.96",
                                    "EstimatedShippingWeight": "10"
                                },
                                {
                                    "Name": "LL Mountain Frame - Black, 48",
                                    "Weight": "3.00",
                                    "EstimatedShippingWeight": "10"
                                },
                                {
                                    "Name": "LL Mountain Frame - Black, 52",
                                    "Weight": "3.04",
                                    "EstimatedShippingWeight": "10"
                                },
                                {
                                    "Name": "LL Mountain Pedal",
                                    "Weight": "218.00",
                                    "EstimatedShippingWeight": "220"
                                },
                                {
                                    "Name": "ML Mountain Pedal",
                                    "Weight": "215.00",
                                    "EstimatedShippingWeight": "220"
                                },
                                {
                                    "Name": "HL Mountain Pedal",
                                    "Weight": "185.00",
                                    "EstimatedShippingWeight": "190"
                                },
                                {
                                    "Name": "LL Road Pedal",
                                    "Weight": "189.00",
                                    "EstimatedShippingWeight": "190"
                                },
                                {
                                    "Name": "ML Road Pedal",
                                    "Weight": "168.00",
                                    "EstimatedShippingWeight": "170"
                                },
                                {
                                    "Name": "HL Road Pedal",
                                    "Weight": "149.00",
                                    "EstimatedShippingWeight": "150"
                                },
                                {
                                    "Name": "ML Mountain Frame-W - Silver, 38",
                                    "Weight": "2.73",
                                    "EstimatedShippingWeight": "10"
                                },
                                {
                                    "Name": "LL Mountain Frame - Black, 40",
                                    "Weight": "2.88",
                                    "EstimatedShippingWeight": "10"
                                },
                                {
                                    "Name": "LL Mountain Frame - Silver, 40",
                                    "Weight": "2.88",
                                    "EstimatedShippingWeight": "10"
                                },
                                {
                                    "Name": "Front Derailleur",
                                    "Weight": "88.00",
                                    "EstimatedShippingWeight": "90"
                                },
                                {
                                    "Name": "Front Brakes",
                                    "Weight": "317.00",
                                    "EstimatedShippingWeight": "320"
                                },
                                {
                                    "Name": "LL Crankset",
                                    "Weight": "600.00",
                                    "EstimatedShippingWeight": "600"
                                },
                                {
                                    "Name": "ML Crankset",
                                    "Weight": "635.00",
                                    "EstimatedShippingWeight": "640"
                                },
                                {
                                    "Name": "HL Crankset",
                                    "Weight": "575.00",
                                    "EstimatedShippingWeight": "580"
                                },
                                {
                                    "Name": "Touring-2000 Blue, 60",
                                    "Weight": "27.90",
                                    "EstimatedShippingWeight": "30"
                                },
                                {
                                    "Name": "Touring-1000 Yellow, 46",
                                    "Weight": "25.13",
                                    "EstimatedShippingWeight": "30"
                                },
                                {
                                    "Name": "Touring-1000 Yellow, 50",
                                    "Weight": "25.42",
                                    "EstimatedShippingWeight": "30"
                                },
                                {
                                    "Name": "Touring-1000 Yellow, 54",
                                    "Weight": "25.68",
                                    "EstimatedShippingWeight": "30"
                                },
                                {
                                    "Name": "Touring-1000 Yellow, 60",
                                    "Weight": "25.90",
                                    "EstimatedShippingWeight": "30"
                                },
                                {
                                    "Name": "Touring-3000 Blue, 54",
                                    "Weight": "29.68",
                                    "EstimatedShippingWeight": "30"
                                },
                                {
                                    "Name": "Touring-3000 Blue, 58",
                                    "Weight": "29.90",
                                    "EstimatedShippingWeight": "30"
                                },
                                {
                                    "Name": "Touring-3000 Blue, 62",
                                    "Weight": "30.00",
                                    "EstimatedShippingWeight": "30"
                                },
                                {
                                    "Name": "Touring-3000 Yellow, 44",
                                    "Weight": "28.77",
                                    "EstimatedShippingWeight": "30"
                                },
                                {
                                    "Name": "Touring-3000 Yellow, 50",
                                    "Weight": "29.13",
                                    "EstimatedShippingWeight": "30"
                                },
                                {
                                    "Name": "Touring-3000 Yellow, 54",
                                    "Weight": "29.42",
                                    "EstimatedShippingWeight": "30"
                                },
                                {
                                    "Name": "Touring-3000 Yellow, 58",
                                    "Weight": "29.79",
                                    "EstimatedShippingWeight": "30"
                                },
                                {
                                    "Name": "Touring-3000 Yellow, 62",
                                    "Weight": "30.00",
                                    "EstimatedShippingWeight": "30"
                                },
                                {
                                    "Name": "Touring-1000 Blue, 46",
                                    "Weight": "25.13",
                                    "EstimatedShippingWeight": "30"
                                },
                                {
                                    "Name": "Touring-1000 Blue, 50",
                                    "Weight": "25.42",
                                    "EstimatedShippingWeight": "30"
                                },
                                {
                                    "Name": "Touring-1000 Blue, 54",
                                    "Weight": "25.68",
                                    "EstimatedShippingWeight": "30"
                                },
                                {
                                    "Name": "Touring-1000 Blue, 60",
                                    "Weight": "25.90",
                                    "EstimatedShippingWeight": "30"
                                },
                                {
                                    "Name": "Touring-2000 Blue, 46",
                                    "Weight": "27.13",
                                    "EstimatedShippingWeight": "30"
                                },
                                {
                                    "Name": "Touring-2000 Blue, 50",
                                    "Weight": "27.42",
                                    "EstimatedShippingWeight": "30"
                                },
                                {
                                    "Name": "Touring-2000 Blue, 54",
                                    "Weight": "27.68",
                                    "EstimatedShippingWeight": "30"
                                },
                                {
                                    "Name": "Road-350-W Yellow, 40",
                                    "Weight": "15.35",
                                    "EstimatedShippingWeight": "20"
                                },
                                {
                                    "Name": "Road-350-W Yellow, 42",
                                    "Weight": "15.77",
                                    "EstimatedShippingWeight": "20"
                                },
                                {
                                    "Name": "Road-350-W Yellow, 44",
                                    "Weight": "16.13",
                                    "EstimatedShippingWeight": "20"
                                },
                                {
                                    "Name": "Road-350-W Yellow, 48",
                                    "Weight": "16.42",
                                    "EstimatedShippingWeight": "20"
                                },
                                {
                                    "Name": "Road-750 Black, 58",
                                    "Weight": "20.79",
                                    "EstimatedShippingWeight": "30"
                                },
                                {
                                    "Name": "Touring-3000 Blue, 44",
                                    "Weight": "28.77",
                                    "EstimatedShippingWeight": "30"
                                },
                                {
                                    "Name": "Touring-3000 Blue, 50",
                                    "Weight": "29.13",
                                    "EstimatedShippingWeight": "30"
                                },
                                {
                                    "Name": "Mountain-400-W Silver, 38",
                                    "Weight": "26.35",
                                    "EstimatedShippingWeight": "30"
                                },
                                {
                                    "Name": "Mountain-400-W Silver, 40",
                                    "Weight": "26.77",
                                    "EstimatedShippingWeight": "30"
                                },
                                {
                                    "Name": "Mountain-400-W Silver, 42",
                                    "Weight": "27.13",
                                    "EstimatedShippingWeight": "30"
                                },
                                {
                                    "Name": "Mountain-400-W Silver, 46",
                                    "Weight": "27.42",
                                    "EstimatedShippingWeight": "30"
                                },
                                {
                                    "Name": "Mountain-500 Silver, 40",
                                    "Weight": "27.35",
                                    "EstimatedShippingWeight": "30"
                                },
                                {
                                    "Name": "Mountain-500 Silver, 42",
                                    "Weight": "27.77",
                                    "EstimatedShippingWeight": "30"
                                },
                                {
                                    "Name": "Mountain-500 Silver, 44",
                                    "Weight": "28.13",
                                    "EstimatedShippingWeight": "30"
                                },
                                {
                                    "Name": "Mountain-500 Silver, 48",
                                    "Weight": "28.42",
                                    "EstimatedShippingWeight": "30"
                                },
                                {
                                    "Name": "Mountain-500 Silver, 52",
                                    "Weight": "28.68",
                                    "EstimatedShippingWeight": "30"
                                },
                                {
                                    "Name": "Mountain-500 Black, 40",
                                    "Weight": "27.35",
                                    "EstimatedShippingWeight": "30"
                                },
                                {
                                    "Name": "Mountain-500 Black, 42",
                                    "Weight": "27.77",
                                    "EstimatedShippingWeight": "30"
                                },
                                {
                                    "Name": "Mountain-500 Black, 44",
                                    "Weight": "28.13",
                                    "EstimatedShippingWeight": "30"
                                },
                                {
                                    "Name": "Mountain-500 Black, 48",
                                    "Weight": "28.42",
                                    "EstimatedShippingWeight": "30"
                                },
                                {
                                    "Name": "Mountain-500 Black, 52",
                                    "Weight": "28.68",
                                    "EstimatedShippingWeight": "30"
                                },
                                {
                                    "Name": "LL Bottom Bracket",
                                    "Weight": "223.00",
                                    "EstimatedShippingWeight": "230"
                                },
                                {
                                    "Name": "ML Bottom Bracket",
                                    "Weight": "168.00",
                                    "EstimatedShippingWeight": "170"
                                },
                                {
                                    "Name": "HL Bottom Bracket",
                                    "Weight": "170.00",
                                    "EstimatedShippingWeight": "170"
                                },
                                {
                                    "Name": "Road-750 Black, 44",
                                    "Weight": "19.77",
                                    "EstimatedShippingWeight": "20"
                                },
                                {
                                    "Name": "Road-750 Black, 48",
                                    "Weight": "20.13",
                                    "EstimatedShippingWeight": "30"
                                },
                                {
                                    "Name": "Road-750 Black, 52",
                                    "Weight": "20.42",
                                    "EstimatedShippingWeight": "30"
                                }
                            ]
                        },
                        "text/html": [
                            "<table>",
                            "<tr><th>Name</th><th>Weight</th><th>EstimatedShippingWeight</th></tr>",
                            "<tr><td>LL Mountain Rim</td><td>435.00</td><td>440</td></tr>",
                            "<tr><td>ML Mountain Rim</td><td>450.00</td><td>450</td></tr>",
                            "<tr><td>HL Mountain Rim</td><td>400.00</td><td>400</td></tr>",
                            "<tr><td>LL Road Rim</td><td>445.00</td><td>450</td></tr>",
                            "<tr><td>ML Road Rim</td><td>450.00</td><td>450</td></tr>",
                            "<tr><td>HL Road Rim</td><td>400.00</td><td>400</td></tr>",
                            "<tr><td>Touring Rim</td><td>460.00</td><td>460</td></tr>",
                            "<tr><td>HL Road Frame - Black, 58</td><td>2.24</td><td>10</td></tr>",
                            "<tr><td>HL Road Frame - Red, 58</td><td>2.24</td><td>10</td></tr>",
                            "<tr><td>HL Road Frame - Red, 62</td><td>2.30</td><td>10</td></tr>",
                            "<tr><td>HL Road Frame - Red, 44</td><td>2.12</td><td>10</td></tr>",
                            "<tr><td>HL Road Frame - Red, 48</td><td>2.16</td><td>10</td></tr>",
                            "<tr><td>HL Road Frame - Red, 52</td><td>2.20</td><td>10</td></tr>",
                            "<tr><td>HL Road Frame - Red, 56</td><td>2.24</td><td>10</td></tr>",
                            "<tr><td>LL Road Frame - Black, 58</td><td>2.46</td><td>10</td></tr>",
                            "<tr><td>LL Road Frame - Black, 60</td><td>2.48</td><td>10</td></tr>",
                            "<tr><td>LL Road Frame - Black, 62</td><td>2.50</td><td>10</td></tr>",
                            "<tr><td>LL Road Frame - Red, 44</td><td>2.32</td><td>10</td></tr>",
                            "<tr><td>LL Road Frame - Red, 48</td><td>2.36</td><td>10</td></tr>",
                            "<tr><td>LL Road Frame - Red, 52</td><td>2.40</td><td>10</td></tr>",
                            "<tr><td>LL Road Frame - Red, 58</td><td>2.46</td><td>10</td></tr>",
                            "<tr><td>LL Road Frame - Red, 60</td><td>2.48</td><td>10</td></tr>",
                            "<tr><td>LL Road Frame - Red, 62</td><td>2.50</td><td>10</td></tr>",
                            "<tr><td>ML Road Frame - Red, 44</td><td>2.22</td><td>10</td></tr>",
                            "<tr><td>ML Road Frame - Red, 48</td><td>2.26</td><td>10</td></tr>",
                            "<tr><td>ML Road Frame - Red, 52</td><td>2.30</td><td>10</td></tr>",
                            "<tr><td>ML Road Frame - Red, 58</td><td>2.36</td><td>10</td></tr>",
                            "<tr><td>ML Road Frame - Red, 60</td><td>2.38</td><td>10</td></tr>",
                            "<tr><td>LL Road Frame - Black, 44</td><td>2.32</td><td>10</td></tr>",
                            "<tr><td>LL Road Frame - Black, 48</td><td>2.36</td><td>10</td></tr>",
                            "<tr><td>LL Road Frame - Black, 52</td><td>2.40</td><td>10</td></tr>",
                            "<tr><td>HL Mountain Frame - Silver, 42</td><td>2.72</td><td>10</td></tr>",
                            "<tr><td>HL Mountain Frame - Silver, 44</td><td>2.76</td><td>10</td></tr>",
                            "<tr><td>HL Mountain Frame - Silver, 48</td><td>2.80</td><td>10</td></tr>",
                            "<tr><td>HL Mountain Frame - Silver, 46</td><td>2.84</td><td>10</td></tr>",
                            "<tr><td>HL Mountain Frame - Black, 42</td><td>2.72</td><td>10</td></tr>",
                            "<tr><td>HL Mountain Frame - Black, 44</td><td>2.76</td><td>10</td></tr>",
                            "<tr><td>HL Mountain Frame - Black, 48</td><td>2.80</td><td>10</td></tr>",
                            "<tr><td>HL Mountain Frame - Black, 46</td><td>2.84</td><td>10</td></tr>",
                            "<tr><td>HL Mountain Frame - Black, 38</td><td>2.68</td><td>10</td></tr>",
                            "<tr><td>HL Mountain Frame - Silver, 38</td><td>2.68</td><td>10</td></tr>",
                            "<tr><td>Road-150 Red, 62</td><td>15.00</td><td>20</td></tr>",
                            "<tr><td>Road-150 Red, 44</td><td>13.77</td><td>20</td></tr>",
                            "<tr><td>Road-150 Red, 48</td><td>14.13</td><td>20</td></tr>",
                            "<tr><td>Road-150 Red, 52</td><td>14.42</td><td>20</td></tr>",
                            "<tr><td>Road-150 Red, 56</td><td>14.68</td><td>20</td></tr>",
                            "<tr><td>Road-450 Red, 58</td><td>17.79</td><td>20</td></tr>",
                            "<tr><td>Road-450 Red, 60</td><td>17.90</td><td>20</td></tr>",
                            "<tr><td>Road-450 Red, 44</td><td>16.77</td><td>20</td></tr>",
                            "<tr><td>Road-450 Red, 48</td><td>17.13</td><td>20</td></tr>",
                            "<tr><td>Road-450 Red, 52</td><td>17.42</td><td>20</td></tr>",
                            "<tr><td>Road-650 Red, 58</td><td>19.79</td><td>20</td></tr>",
                            "<tr><td>Road-650 Red, 60</td><td>19.90</td><td>20</td></tr>",
                            "<tr><td>Road-650 Red, 62</td><td>20.00</td><td>20</td></tr>",
                            "<tr><td>Road-650 Red, 44</td><td>18.77</td><td>20</td></tr>",
                            "<tr><td>Road-650 Red, 48</td><td>19.13</td><td>20</td></tr>",
                            "<tr><td>Road-650 Red, 52</td><td>19.42</td><td>20</td></tr>",
                            "<tr><td>Road-650 Black, 58</td><td>19.79</td><td>20</td></tr>",
                            "<tr><td>Road-650 Black, 60</td><td>19.90</td><td>20</td></tr>",
                            "<tr><td>Road-650 Black, 62</td><td>20.00</td><td>20</td></tr>",
                            "<tr><td>Road-650 Black, 44</td><td>18.77</td><td>20</td></tr>",
                            "<tr><td>Road-650 Black, 48</td><td>19.13</td><td>20</td></tr>",
                            "<tr><td>Road-650 Black, 52</td><td>19.42</td><td>20</td></tr>",
                            "<tr><td>Mountain-100 Silver, 38</td><td>20.35</td><td>30</td></tr>",
                            "<tr><td>Mountain-100 Silver, 42</td><td>20.77</td><td>30</td></tr>",
                            "<tr><td>Mountain-100 Silver, 44</td><td>21.13</td><td>30</td></tr>",
                            "<tr><td>Mountain-100 Silver, 48</td><td>21.42</td><td>30</td></tr>",
                            "<tr><td>Mountain-100 Black, 38</td><td>20.35</td><td>30</td></tr>",
                            "<tr><td>Mountain-100 Black, 42</td><td>20.77</td><td>30</td></tr>",
                            "<tr><td>Mountain-100 Black, 44</td><td>21.13</td><td>30</td></tr>",
                            "<tr><td>Mountain-100 Black, 48</td><td>21.42</td><td>30</td></tr>",
                            "<tr><td>Mountain-200 Silver, 38</td><td>23.35</td><td>30</td></tr>",
                            "<tr><td>Mountain-200 Silver, 42</td><td>23.77</td><td>30</td></tr>",
                            "<tr><td>Mountain-200 Silver, 46</td><td>24.13</td><td>30</td></tr>",
                            "<tr><td>Mountain-200 Black, 38</td><td>23.35</td><td>30</td></tr>",
                            "<tr><td>Mountain-200 Black, 42</td><td>23.77</td><td>30</td></tr>",
                            "<tr><td>Mountain-200 Black, 46</td><td>24.13</td><td>30</td></tr>",
                            "<tr><td>Mountain-300 Black, 38</td><td>25.35</td><td>30</td></tr>",
                            "<tr><td>Mountain-300 Black, 40</td><td>25.77</td><td>30</td></tr>",
                            "<tr><td>Mountain-300 Black, 44</td><td>26.13</td><td>30</td></tr>",
                            "<tr><td>Mountain-300 Black, 48</td><td>26.42</td><td>30</td></tr>",
                            "<tr><td>Road-250 Red, 44</td><td>14.77</td><td>20</td></tr>",
                            "<tr><td>Road-250 Red, 48</td><td>15.13</td><td>20</td></tr>",
                            "<tr><td>Road-250 Red, 52</td><td>15.42</td><td>20</td></tr>",
                            "<tr><td>Road-250 Red, 58</td><td>15.79</td><td>20</td></tr>",
                            "<tr><td>Road-250 Black, 44</td><td>14.77</td><td>20</td></tr>",
                            "<tr><td>Road-250 Black, 48</td><td>15.13</td><td>20</td></tr>",
                            "<tr><td>Road-250 Black, 52</td><td>15.42</td><td>20</td></tr>",
                            "<tr><td>Road-250 Black, 58</td><td>15.68</td><td>20</td></tr>",
                            "<tr><td>Road-550-W Yellow, 38</td><td>17.35</td><td>20</td></tr>",
                            "<tr><td>Road-550-W Yellow, 40</td><td>17.77</td><td>20</td></tr>",
                            "<tr><td>Road-550-W Yellow, 42</td><td>18.13</td><td>20</td></tr>",
                            "<tr><td>Road-550-W Yellow, 44</td><td>18.42</td><td>20</td></tr>",
                            "<tr><td>Road-550-W Yellow, 48</td><td>18.68</td><td>20</td></tr>",
                            "<tr><td>ML Mountain Frame - Black, 38</td><td>2.73</td><td>10</td></tr>",
                            "<tr><td>LL Road Front Wheel</td><td>900.00</td><td>900</td></tr>",
                            "<tr><td>ML Road Front Wheel</td><td>850.00</td><td>850</td></tr>",
                            "<tr><td>HL Road Front Wheel</td><td>650.00</td><td>650</td></tr>",
                            "<tr><td>ML Road Frame-W - Yellow, 38</td><td>2.18</td><td>10</td></tr>",
                            "<tr><td>LL Road Rear Wheel</td><td>1050.00</td><td>1050</td></tr>",
                            "<tr><td>ML Road Rear Wheel</td><td>1000.00</td><td>1000</td></tr>",
                            "<tr><td>HL Road Rear Wheel</td><td>890.00</td><td>890</td></tr>",
                            "<tr><td>ML Mountain Frame - Black, 40</td><td>2.77</td><td>10</td></tr>",
                            "<tr><td>ML Mountain Frame - Black, 44</td><td>2.81</td><td>10</td></tr>",
                            "<tr><td>ML Mountain Frame - Black, 48</td><td>2.85</td><td>10</td></tr>",
                            "<tr><td>ML Road Frame-W - Yellow, 40</td><td>2.22</td><td>10</td></tr>",
                            "<tr><td>ML Road Frame-W - Yellow, 42</td><td>2.26</td><td>10</td></tr>",
                            "<tr><td>ML Road Frame-W - Yellow, 44</td><td>2.30</td><td>10</td></tr>",
                            "<tr><td>ML Road Frame-W - Yellow, 48</td><td>2.34</td><td>10</td></tr>",
                            "<tr><td>HL Road Frame - Black, 62</td><td>2.30</td><td>10</td></tr>",
                            "<tr><td>HL Road Frame - Black, 44</td><td>2.12</td><td>10</td></tr>",
                            "<tr><td>HL Road Frame - Black, 48</td><td>2.16</td><td>10</td></tr>",
                            "<tr><td>HL Road Frame - Black, 52</td><td>2.20</td><td>10</td></tr>",
                            "<tr><td>HL Touring Frame - Yellow, 60</td><td>3.08</td><td>10</td></tr>",
                            "<tr><td>LL Touring Frame - Yellow, 62</td><td>3.20</td><td>10</td></tr>",
                            "<tr><td>HL Touring Frame - Yellow, 46</td><td>2.96</td><td>10</td></tr>",
                            "<tr><td>HL Touring Frame - Yellow, 50</td><td>3.00</td><td>10</td></tr>",
                            "<tr><td>HL Touring Frame - Yellow, 54</td><td>3.04</td><td>10</td></tr>",
                            "<tr><td>HL Touring Frame - Blue, 46</td><td>2.96</td><td>10</td></tr>",
                            "<tr><td>HL Touring Frame - Blue, 50</td><td>3.00</td><td>10</td></tr>",
                            "<tr><td>HL Touring Frame - Blue, 54</td><td>3.04</td><td>10</td></tr>",
                            "<tr><td>HL Touring Frame - Blue, 60</td><td>3.08</td><td>10</td></tr>",
                            "<tr><td>Rear Derailleur</td><td>215.00</td><td>220</td></tr>",
                            "<tr><td>LL Touring Frame - Blue, 50</td><td>3.10</td><td>10</td></tr>",
                            "<tr><td>LL Touring Frame - Blue, 54</td><td>3.14</td><td>10</td></tr>",
                            "<tr><td>LL Touring Frame - Blue, 58</td><td>3.16</td><td>10</td></tr>",
                            "<tr><td>LL Touring Frame - Blue, 62</td><td>3.20</td><td>10</td></tr>",
                            "<tr><td>LL Touring Frame - Yellow, 44</td><td>3.02</td><td>10</td></tr>",
                            "<tr><td>LL Touring Frame - Yellow, 50</td><td>3.10</td><td>10</td></tr>",
                            "<tr><td>LL Touring Frame - Yellow, 54</td><td>3.14</td><td>10</td></tr>",
                            "<tr><td>LL Touring Frame - Yellow, 58</td><td>3.16</td><td>10</td></tr>",
                            "<tr><td>LL Touring Frame - Blue, 44</td><td>3.02</td><td>10</td></tr>",
                            "<tr><td>ML Mountain Frame-W - Silver, 40</td><td>2.77</td><td>10</td></tr>",
                            "<tr><td>ML Mountain Frame-W - Silver, 42</td><td>2.81</td><td>10</td></tr>",
                            "<tr><td>ML Mountain Frame-W - Silver, 46</td><td>2.85</td><td>10</td></tr>",
                            "<tr><td>Rear Brakes</td><td>317.00</td><td>320</td></tr>",
                            "<tr><td>LL Mountain Frame - Silver, 42</td><td>2.92</td><td>10</td></tr>",
                            "<tr><td>LL Mountain Frame - Silver, 44</td><td>2.96</td><td>10</td></tr>",
                            "<tr><td>LL Mountain Frame - Silver, 48</td><td>3.00</td><td>10</td></tr>",
                            "<tr><td>LL Mountain Frame - Silver, 52</td><td>3.04</td><td>10</td></tr>",
                            "<tr><td>LL Mountain Frame - Black, 42</td><td>2.92</td><td>10</td></tr>",
                            "<tr><td>LL Mountain Frame - Black, 44</td><td>2.96</td><td>10</td></tr>",
                            "<tr><td>LL Mountain Frame - Black, 48</td><td>3.00</td><td>10</td></tr>",
                            "<tr><td>LL Mountain Frame - Black, 52</td><td>3.04</td><td>10</td></tr>",
                            "<tr><td>LL Mountain Pedal</td><td>218.00</td><td>220</td></tr>",
                            "<tr><td>ML Mountain Pedal</td><td>215.00</td><td>220</td></tr>",
                            "<tr><td>HL Mountain Pedal</td><td>185.00</td><td>190</td></tr>",
                            "<tr><td>LL Road Pedal</td><td>189.00</td><td>190</td></tr>",
                            "<tr><td>ML Road Pedal</td><td>168.00</td><td>170</td></tr>",
                            "<tr><td>HL Road Pedal</td><td>149.00</td><td>150</td></tr>",
                            "<tr><td>ML Mountain Frame-W - Silver, 38</td><td>2.73</td><td>10</td></tr>",
                            "<tr><td>LL Mountain Frame - Black, 40</td><td>2.88</td><td>10</td></tr>",
                            "<tr><td>LL Mountain Frame - Silver, 40</td><td>2.88</td><td>10</td></tr>",
                            "<tr><td>Front Derailleur</td><td>88.00</td><td>90</td></tr>",
                            "<tr><td>Front Brakes</td><td>317.00</td><td>320</td></tr>",
                            "<tr><td>LL Crankset</td><td>600.00</td><td>600</td></tr>",
                            "<tr><td>ML Crankset</td><td>635.00</td><td>640</td></tr>",
                            "<tr><td>HL Crankset</td><td>575.00</td><td>580</td></tr>",
                            "<tr><td>Touring-2000 Blue, 60</td><td>27.90</td><td>30</td></tr>",
                            "<tr><td>Touring-1000 Yellow, 46</td><td>25.13</td><td>30</td></tr>",
                            "<tr><td>Touring-1000 Yellow, 50</td><td>25.42</td><td>30</td></tr>",
                            "<tr><td>Touring-1000 Yellow, 54</td><td>25.68</td><td>30</td></tr>",
                            "<tr><td>Touring-1000 Yellow, 60</td><td>25.90</td><td>30</td></tr>",
                            "<tr><td>Touring-3000 Blue, 54</td><td>29.68</td><td>30</td></tr>",
                            "<tr><td>Touring-3000 Blue, 58</td><td>29.90</td><td>30</td></tr>",
                            "<tr><td>Touring-3000 Blue, 62</td><td>30.00</td><td>30</td></tr>",
                            "<tr><td>Touring-3000 Yellow, 44</td><td>28.77</td><td>30</td></tr>",
                            "<tr><td>Touring-3000 Yellow, 50</td><td>29.13</td><td>30</td></tr>",
                            "<tr><td>Touring-3000 Yellow, 54</td><td>29.42</td><td>30</td></tr>",
                            "<tr><td>Touring-3000 Yellow, 58</td><td>29.79</td><td>30</td></tr>",
                            "<tr><td>Touring-3000 Yellow, 62</td><td>30.00</td><td>30</td></tr>",
                            "<tr><td>Touring-1000 Blue, 46</td><td>25.13</td><td>30</td></tr>",
                            "<tr><td>Touring-1000 Blue, 50</td><td>25.42</td><td>30</td></tr>",
                            "<tr><td>Touring-1000 Blue, 54</td><td>25.68</td><td>30</td></tr>",
                            "<tr><td>Touring-1000 Blue, 60</td><td>25.90</td><td>30</td></tr>",
                            "<tr><td>Touring-2000 Blue, 46</td><td>27.13</td><td>30</td></tr>",
                            "<tr><td>Touring-2000 Blue, 50</td><td>27.42</td><td>30</td></tr>",
                            "<tr><td>Touring-2000 Blue, 54</td><td>27.68</td><td>30</td></tr>",
                            "<tr><td>Road-350-W Yellow, 40</td><td>15.35</td><td>20</td></tr>",
                            "<tr><td>Road-350-W Yellow, 42</td><td>15.77</td><td>20</td></tr>",
                            "<tr><td>Road-350-W Yellow, 44</td><td>16.13</td><td>20</td></tr>",
                            "<tr><td>Road-350-W Yellow, 48</td><td>16.42</td><td>20</td></tr>",
                            "<tr><td>Road-750 Black, 58</td><td>20.79</td><td>30</td></tr>",
                            "<tr><td>Touring-3000 Blue, 44</td><td>28.77</td><td>30</td></tr>",
                            "<tr><td>Touring-3000 Blue, 50</td><td>29.13</td><td>30</td></tr>",
                            "<tr><td>Mountain-400-W Silver, 38</td><td>26.35</td><td>30</td></tr>",
                            "<tr><td>Mountain-400-W Silver, 40</td><td>26.77</td><td>30</td></tr>",
                            "<tr><td>Mountain-400-W Silver, 42</td><td>27.13</td><td>30</td></tr>",
                            "<tr><td>Mountain-400-W Silver, 46</td><td>27.42</td><td>30</td></tr>",
                            "<tr><td>Mountain-500 Silver, 40</td><td>27.35</td><td>30</td></tr>",
                            "<tr><td>Mountain-500 Silver, 42</td><td>27.77</td><td>30</td></tr>",
                            "<tr><td>Mountain-500 Silver, 44</td><td>28.13</td><td>30</td></tr>",
                            "<tr><td>Mountain-500 Silver, 48</td><td>28.42</td><td>30</td></tr>",
                            "<tr><td>Mountain-500 Silver, 52</td><td>28.68</td><td>30</td></tr>",
                            "<tr><td>Mountain-500 Black, 40</td><td>27.35</td><td>30</td></tr>",
                            "<tr><td>Mountain-500 Black, 42</td><td>27.77</td><td>30</td></tr>",
                            "<tr><td>Mountain-500 Black, 44</td><td>28.13</td><td>30</td></tr>",
                            "<tr><td>Mountain-500 Black, 48</td><td>28.42</td><td>30</td></tr>",
                            "<tr><td>Mountain-500 Black, 52</td><td>28.68</td><td>30</td></tr>",
                            "<tr><td>LL Bottom Bracket</td><td>223.00</td><td>230</td></tr>",
                            "<tr><td>ML Bottom Bracket</td><td>168.00</td><td>170</td></tr>",
                            "<tr><td>HL Bottom Bracket</td><td>170.00</td><td>170</td></tr>",
                            "<tr><td>Road-750 Black, 44</td><td>19.77</td><td>20</td></tr>",
                            "<tr><td>Road-750 Black, 48</td><td>20.13</td><td>30</td></tr>",
                            "<tr><td>Road-750 Black, 52</td><td>20.42</td><td>30</td></tr>",
                            "</table>"
                        ]
                    }
                }
            ],
            "execution_count": 5
        },
        {
            "cell_type": "markdown",
            "source": [
                "### Question 8: Product with the Highest Weight\n",
                "\n",
                "**Answer:** LL Road Rear Wheel."
            ],
            "metadata": {
                "language": "sql",
                "azdata_cell_guid": "25da75ca-9ba1-4fb8-8ab2-af7ec71a4592"
            },
            "attachments": {}
        },
        {
            "cell_type": "code",
            "source": [
                "SELECT TOP 1 \r\n",
                "    Name, \r\n",
                "    Weight\r\n",
                "FROM Production.Product\r\n",
                "WHERE Weight IS NOT NULL\r\n",
                "ORDER BY Weight DESC;"
            ],
            "metadata": {
                "language": "sql",
                "azdata_cell_guid": "1bf15061-2cc0-4ffd-8008-82074843986f"
            },
            "outputs": [
                {
                    "output_type": "display_data",
                    "data": {
                        "text/html": "(1 row affected)"
                    },
                    "metadata": {}
                },
                {
                    "output_type": "display_data",
                    "data": {
                        "text/html": "Total execution time: 00:00:00.041"
                    },
                    "metadata": {}
                },
                {
                    "output_type": "execute_result",
                    "metadata": {},
                    "execution_count": 6,
                    "data": {
                        "application/vnd.dataresource+json": {
                            "schema": {
                                "fields": [
                                    {
                                        "name": "Name"
                                    },
                                    {
                                        "name": "Weight"
                                    }
                                ]
                            },
                            "data": [
                                {
                                    "Name": "LL Road Rear Wheel",
                                    "Weight": "1050.00"
                                }
                            ]
                        },
                        "text/html": [
                            "<table>",
                            "<tr><th>Name</th><th>Weight</th></tr>",
                            "<tr><td>LL Road Rear Wheel</td><td>1050.00</td></tr>",
                            "</table>"
                        ]
                    }
                }
            ],
            "execution_count": 6
        },
        {
            "cell_type": "markdown",
            "source": [
                "### Question 9: Treat NULLs as Zeros"
            ],
            "metadata": {
                "azdata_cell_guid": "1a975301-9bc1-4b3b-acc7-fbc7969528dc"
            },
            "attachments": {}
        },
        {
            "cell_type": "code",
            "source": [
                "SELECT \r\n",
                "    SpecialOfferID, \r\n",
                "    MaxQty, \r\n",
                "    COALESCE(MaxQty, 0) AS MaxQtyAlt\r\n",
                "FROM Sales.SpecialOffer;"
            ],
            "metadata": {
                "azdata_cell_guid": "9c8027fb-da2f-4324-9a09-10ba9fd18e5c",
                "language": "sql"
            },
            "outputs": [
                {
                    "output_type": "display_data",
                    "data": {
                        "text/html": "(16 rows affected)"
                    },
                    "metadata": {}
                },
                {
                    "output_type": "display_data",
                    "data": {
                        "text/html": "Total execution time: 00:00:00.032"
                    },
                    "metadata": {}
                },
                {
                    "output_type": "execute_result",
                    "metadata": {},
                    "execution_count": 7,
                    "data": {
                        "application/vnd.dataresource+json": {
                            "schema": {
                                "fields": [
                                    {
                                        "name": "SpecialOfferID"
                                    },
                                    {
                                        "name": "MaxQty"
                                    },
                                    {
                                        "name": "MaxQtyAlt"
                                    }
                                ]
                            },
                            "data": [
                                {
                                    "SpecialOfferID": "1",
                                    "MaxQty": "NULL",
                                    "MaxQtyAlt": "0"
                                },
                                {
                                    "SpecialOfferID": "2",
                                    "MaxQty": "14",
                                    "MaxQtyAlt": "14"
                                },
                                {
                                    "SpecialOfferID": "3",
                                    "MaxQty": "24",
                                    "MaxQtyAlt": "24"
                                },
                                {
                                    "SpecialOfferID": "4",
                                    "MaxQty": "40",
                                    "MaxQtyAlt": "40"
                                },
                                {
                                    "SpecialOfferID": "5",
                                    "MaxQty": "60",
                                    "MaxQtyAlt": "60"
                                },
                                {
                                    "SpecialOfferID": "6",
                                    "MaxQty": "NULL",
                                    "MaxQtyAlt": "0"
                                },
                                {
                                    "SpecialOfferID": "7",
                                    "MaxQty": "NULL",
                                    "MaxQtyAlt": "0"
                                },
                                {
                                    "SpecialOfferID": "8",
                                    "MaxQty": "NULL",
                                    "MaxQtyAlt": "0"
                                },
                                {
                                    "SpecialOfferID": "9",
                                    "MaxQty": "NULL",
                                    "MaxQtyAlt": "0"
                                },
                                {
                                    "SpecialOfferID": "10",
                                    "MaxQty": "NULL",
                                    "MaxQtyAlt": "0"
                                },
                                {
                                    "SpecialOfferID": "11",
                                    "MaxQty": "NULL",
                                    "MaxQtyAlt": "0"
                                },
                                {
                                    "SpecialOfferID": "12",
                                    "MaxQty": "NULL",
                                    "MaxQtyAlt": "0"
                                },
                                {
                                    "SpecialOfferID": "13",
                                    "MaxQty": "NULL",
                                    "MaxQtyAlt": "0"
                                },
                                {
                                    "SpecialOfferID": "14",
                                    "MaxQty": "NULL",
                                    "MaxQtyAlt": "0"
                                },
                                {
                                    "SpecialOfferID": "15",
                                    "MaxQty": "NULL",
                                    "MaxQtyAlt": "0"
                                },
                                {
                                    "SpecialOfferID": "16",
                                    "MaxQty": "NULL",
                                    "MaxQtyAlt": "0"
                                }
                            ]
                        },
                        "text/html": [
                            "<table>",
                            "<tr><th>SpecialOfferID</th><th>MaxQty</th><th>MaxQtyAlt</th></tr>",
                            "<tr><td>1</td><td>NULL</td><td>0</td></tr>",
                            "<tr><td>2</td><td>14</td><td>14</td></tr>",
                            "<tr><td>3</td><td>24</td><td>24</td></tr>",
                            "<tr><td>4</td><td>40</td><td>40</td></tr>",
                            "<tr><td>5</td><td>60</td><td>60</td></tr>",
                            "<tr><td>6</td><td>NULL</td><td>0</td></tr>",
                            "<tr><td>7</td><td>NULL</td><td>0</td></tr>",
                            "<tr><td>8</td><td>NULL</td><td>0</td></tr>",
                            "<tr><td>9</td><td>NULL</td><td>0</td></tr>",
                            "<tr><td>10</td><td>NULL</td><td>0</td></tr>",
                            "<tr><td>11</td><td>NULL</td><td>0</td></tr>",
                            "<tr><td>12</td><td>NULL</td><td>0</td></tr>",
                            "<tr><td>13</td><td>NULL</td><td>0</td></tr>",
                            "<tr><td>14</td><td>NULL</td><td>0</td></tr>",
                            "<tr><td>15</td><td>NULL</td><td>0</td></tr>",
                            "<tr><td>16</td><td>NULL</td><td>0</td></tr>",
                            "</table>"
                        ]
                    }
                }
            ],
            "execution_count": 7
        },
        {
            "cell_type": "markdown",
            "source": [
                "### Question 10: Reasons to be Careful with Converting NULLs to Zeros\n",
                "\n",
                "**Explanation:**\n",
                "\n",
                "When converting NULL values to zeros, it’s important to be careful for several reasons:\n",
                "\n",
                "1. **Data Integrity**: Converting NULLs to zeros may misrepresent the data. A NULL value often indicates missing or unknown information, which is different from a value of zero.\n",
                "2. **Misleading Analysis**: Treating NULLs as zeros can lead to incorrect conclusions. For example, if a sales report treats NULLs as zeros, it may appear that certain products or periods had no sales, when in fact the data is simply unavailable.\n",
                "3. **Arithmetic Operations**: Including zeros in calculations may skew results, such as averages or sums, leading to inaccurate metrics.\n",
                "4. **Application Logic**: Business logic and application functionality may rely on the distinction between NULL and zero. Changing NULLs to zeros could affect how the data is processed and interpreted in various parts of the system."
            ],
            "metadata": {
                "language": "sql",
                "azdata_cell_guid": "9f92091a-d5a4-4935-9401-1f13768a025d"
            },
            "attachments": {}
        }
    ]
}