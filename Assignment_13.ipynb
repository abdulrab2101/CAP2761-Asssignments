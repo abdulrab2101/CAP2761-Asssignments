{
    "metadata": {
        "kernelspec": {
            "name": "SQL",
            "display_name": "SQL",
            "language": "sql"
        },
        "language_info": {
            "name": "sql",
            "version": ""
        }
    },
    "nbformat_minor": 2,
    "nbformat": 4,
    "cells": [
        {
            "cell_type": "markdown",
            "source": [
                "### Question 1a: Concatenate Multiple Strings (CONCAT)"
            ],
            "metadata": {
                "azdata_cell_guid": "020f918b-a528-4017-8914-947a0232ac84"
            },
            "attachments": {}
        },
        {
            "cell_type": "code",
            "source": [
                "SELECT CONCAT(AddressLine1, ', ', City, ', FL, ', PostalCode) AS Address\r\n",
                "FROM Person.Address\r\n",
                "WHERE City = 'Miami';"
            ],
            "metadata": {
                "azdata_cell_guid": "c101d463-f351-4edf-93a8-a10a5b9447a6",
                "language": "sql"
            },
            "outputs": [
                {
                    "output_type": "display_data",
                    "data": {
                        "text/html": "(10 rows affected)"
                    },
                    "metadata": {}
                },
                {
                    "output_type": "display_data",
                    "data": {
                        "text/html": "Total execution time: 00:00:00.163"
                    },
                    "metadata": {}
                },
                {
                    "output_type": "execute_result",
                    "metadata": {},
                    "execution_count": 1,
                    "data": {
                        "application/vnd.dataresource+json": {
                            "schema": {
                                "fields": [
                                    {
                                        "name": "Address"
                                    }
                                ]
                            },
                            "data": [
                                {
                                    "Address": "1 Corporate Center Drive, Miami, FL, 33127"
                                },
                                {
                                    "Address": "20500 S.W. 2512th Ave, Miami, FL, 33127"
                                },
                                {
                                    "Address": "2545 N.W. 107th Ave., Miami, FL, 33127"
                                },
                                {
                                    "Address": "2561 Nw 8410th Avenue, Miami, FL, 33127"
                                },
                                {
                                    "Address": "79945 Corporate Center Drive, Miami, FL, 33127"
                                },
                                {
                                    "Address": "825 Coral Way, Miami, FL, 33127"
                                },
                                {
                                    "Address": "83995 South Dixie Highway, Miami, FL, 33127"
                                },
                                {
                                    "Address": "8525 Nw 17th St., Miami, FL, 33127"
                                },
                                {
                                    "Address": "Dadeland Mall, Space 25090, Miami, FL, 33127"
                                },
                                {
                                    "Address": "Flagler Park Plaza, Miami, FL, 33127"
                                }
                            ]
                        },
                        "text/html": [
                            "<table>",
                            "<tr><th>Address</th></tr>",
                            "<tr><td>1 Corporate Center Drive, Miami, FL, 33127</td></tr>",
                            "<tr><td>20500 S.W. 2512th Ave, Miami, FL, 33127</td></tr>",
                            "<tr><td>2545 N.W. 107th Ave., Miami, FL, 33127</td></tr>",
                            "<tr><td>2561 Nw 8410th Avenue, Miami, FL, 33127</td></tr>",
                            "<tr><td>79945 Corporate Center Drive, Miami, FL, 33127</td></tr>",
                            "<tr><td>825 Coral Way, Miami, FL, 33127</td></tr>",
                            "<tr><td>83995 South Dixie Highway, Miami, FL, 33127</td></tr>",
                            "<tr><td>8525 Nw 17th St., Miami, FL, 33127</td></tr>",
                            "<tr><td>Dadeland Mall, Space 25090, Miami, FL, 33127</td></tr>",
                            "<tr><td>Flagler Park Plaza, Miami, FL, 33127</td></tr>",
                            "</table>"
                        ]
                    }
                }
            ],
            "execution_count": 1
        },
        {
            "cell_type": "markdown",
            "source": [
                "### Question 1b: ASCII Values\n",
                "\n",
                "**Explanation:**\n",
                "\n",
                "The ASCII function returns the ASCII code value of the leftmost character of a character expression. For example, `ASCII('A')` returns 65.\n",
                "\n",
                "The CHAR function converts an integer ASCII code to a character. For example, `CHAR(65)` returns 'A'.\n",
                "\n",
                "**Possible Reasons for Using These Functions:**\n",
                "\n",
                "- **ASCII**: To determine the numeric ASCII code of characters for data validation or to convert non-printable characters.\n",
                "- **CHAR**: To convert ASCII codes back into characters, useful for generating strings from numeric data or encoding special characters."
            ],
            "metadata": {
                "azdata_cell_guid": "a5aa02b0-e2f7-41fc-a8bd-bbb192229f1b"
            },
            "attachments": {}
        },
        {
            "cell_type": "markdown",
            "source": [
                "### Question 1c: Integer and Unicode Values\n",
                "\n",
                "**Explanation:**\n",
                "\n",
                "The UNICODE function returns the integer value, as defined by the Unicode standard, for the first character of the input expression. For example, `UNICODE('A')` returns 65.\n",
                "\n",
                "The NCHAR function returns the Unicode character that corresponds to the input integer value, as defined by the Unicode standard. For example, `NCHAR(65)` returns 'A'.\n",
                "\n",
                "**Possible Reasons for Using These Functions:**\n",
                "\n",
                "- **UNICODE**: To get the Unicode value of characters for applications dealing with internationalization.\n",
                "- **NCHAR**: To generate characters from Unicode values, useful in multilingual databases and applications."
            ],
            "metadata": {
                "azdata_cell_guid": "dca23cdc-3602-4c17-836a-1ff9a2776339"
            },
            "attachments": {}
        },
        {
            "cell_type": "markdown",
            "source": [
                "### Question 2a: Locate a Substring"
            ],
            "metadata": {
                "azdata_cell_guid": "1dd06ed4-8535-447c-b55c-5c8e5b644908"
            },
            "attachments": {}
        },
        {
            "cell_type": "code",
            "source": [
                "SELECT AddressLine1\r\n",
                "FROM Person.Address\r\n",
                "WHERE City = 'Miami' AND AddressLine1 LIKE '%Ave%';"
            ],
            "metadata": {
                "azdata_cell_guid": "cdb25e61-1409-4d28-97ac-10ef070f733a",
                "language": "sql"
            },
            "outputs": [
                {
                    "output_type": "display_data",
                    "data": {
                        "text/html": "(3 rows affected)"
                    },
                    "metadata": {}
                },
                {
                    "output_type": "display_data",
                    "data": {
                        "text/html": "Total execution time: 00:00:00.032"
                    },
                    "metadata": {}
                },
                {
                    "output_type": "execute_result",
                    "metadata": {},
                    "execution_count": 2,
                    "data": {
                        "application/vnd.dataresource+json": {
                            "schema": {
                                "fields": [
                                    {
                                        "name": "AddressLine1"
                                    }
                                ]
                            },
                            "data": [
                                {
                                    "AddressLine1": "20500 S.W. 2512th Ave"
                                },
                                {
                                    "AddressLine1": "2545 N.W. 107th Ave."
                                },
                                {
                                    "AddressLine1": "2561 Nw 8410th Avenue"
                                }
                            ]
                        },
                        "text/html": [
                            "<table>",
                            "<tr><th>AddressLine1</th></tr>",
                            "<tr><td>20500 S.W. 2512th Ave</td></tr>",
                            "<tr><td>2545 N.W. 107th Ave.</td></tr>",
                            "<tr><td>2561 Nw 8410th Avenue</td></tr>",
                            "</table>"
                        ]
                    }
                }
            ],
            "execution_count": 2
        },
        {
            "cell_type": "markdown",
            "source": [
                "### Question 2b: Similarity of Strings"
            ],
            "metadata": {
                "language": "sql",
                "azdata_cell_guid": "fc1a463a-9c62-48c0-9fd6-639745b36f23"
            },
            "attachments": {}
        },
        {
            "cell_type": "code",
            "source": [
                "SELECT DISTINCT \r\n",
                "    SOUNDEX(City) AS CitySoundex, \r\n",
                "    SOUNDEX('Auburn') AS AuburnSoundex, \r\n",
                "    DIFFERENCE(City, 'Auburn') AS Difference, \r\n",
                "    City\r\n",
                "FROM Person.Address\r\n",
                "WHERE DIFFERENCE(City, 'Auburn') = 3;"
            ],
            "metadata": {
                "language": "sql",
                "azdata_cell_guid": "5acccfe3-ed39-40e6-b994-12961f9f1b81"
            },
            "outputs": [
                {
                    "output_type": "display_data",
                    "data": {
                        "text/html": "(10 rows affected)"
                    },
                    "metadata": {}
                },
                {
                    "output_type": "display_data",
                    "data": {
                        "text/html": "Total execution time: 00:00:00.042"
                    },
                    "metadata": {}
                },
                {
                    "output_type": "execute_result",
                    "metadata": {},
                    "execution_count": 3,
                    "data": {
                        "application/vnd.dataresource+json": {
                            "schema": {
                                "fields": [
                                    {
                                        "name": "CitySoundex"
                                    },
                                    {
                                        "name": "AuburnSoundex"
                                    },
                                    {
                                        "name": "Difference"
                                    },
                                    {
                                        "name": "City"
                                    }
                                ]
                            },
                            "data": [
                                {
                                    "CitySoundex": "A152",
                                    "AuburnSoundex": "A165",
                                    "Difference": "3",
                                    "City": "Abingdon"
                                },
                                {
                                    "CitySoundex": "A216",
                                    "AuburnSoundex": "A165",
                                    "Difference": "3",
                                    "City": "Augsburg"
                                },
                                {
                                    "CitySoundex": "A415",
                                    "AuburnSoundex": "A165",
                                    "Difference": "3",
                                    "City": "Albany"
                                },
                                {
                                    "CitySoundex": "A415",
                                    "AuburnSoundex": "A165",
                                    "Difference": "3",
                                    "City": "Alpine"
                                },
                                {
                                    "CitySoundex": "A645",
                                    "AuburnSoundex": "A165",
                                    "Difference": "3",
                                    "City": "Arlington"
                                },
                                {
                                    "CitySoundex": "A660",
                                    "AuburnSoundex": "A165",
                                    "Difference": "3",
                                    "City": "Aurora"
                                },
                                {
                                    "CitySoundex": "S165",
                                    "AuburnSoundex": "A165",
                                    "Difference": "3",
                                    "City": "Spring Valley"
                                },
                                {
                                    "CitySoundex": "S165",
                                    "AuburnSoundex": "A165",
                                    "Difference": "3",
                                    "City": "Springdale"
                                },
                                {
                                    "CitySoundex": "S165",
                                    "AuburnSoundex": "A165",
                                    "Difference": "3",
                                    "City": "Springfield"
                                },
                                {
                                    "CitySoundex": "S165",
                                    "AuburnSoundex": "A165",
                                    "Difference": "3",
                                    "City": "Springwood"
                                }
                            ]
                        },
                        "text/html": [
                            "<table>",
                            "<tr><th>CitySoundex</th><th>AuburnSoundex</th><th>Difference</th><th>City</th></tr>",
                            "<tr><td>A152</td><td>A165</td><td>3</td><td>Abingdon</td></tr>",
                            "<tr><td>A216</td><td>A165</td><td>3</td><td>Augsburg</td></tr>",
                            "<tr><td>A415</td><td>A165</td><td>3</td><td>Albany</td></tr>",
                            "<tr><td>A415</td><td>A165</td><td>3</td><td>Alpine</td></tr>",
                            "<tr><td>A645</td><td>A165</td><td>3</td><td>Arlington</td></tr>",
                            "<tr><td>A660</td><td>A165</td><td>3</td><td>Aurora</td></tr>",
                            "<tr><td>S165</td><td>A165</td><td>3</td><td>Spring Valley</td></tr>",
                            "<tr><td>S165</td><td>A165</td><td>3</td><td>Springdale</td></tr>",
                            "<tr><td>S165</td><td>A165</td><td>3</td><td>Springfield</td></tr>",
                            "<tr><td>S165</td><td>A165</td><td>3</td><td>Springwood</td></tr>",
                            "</table>"
                        ]
                    }
                }
            ],
            "execution_count": 3
        }
    ]
}